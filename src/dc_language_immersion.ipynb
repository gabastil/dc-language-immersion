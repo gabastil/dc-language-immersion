{
 "cells": [
  {
   "cell_type": "markdown",
   "metadata": {},
   "source": [
    "# DC Language Immersion: Mapping Addresses to Feeder Schools \n",
    "\n",
    "<img src=\"https://i0.wp.com/dcimmersion.org/wp-content/uploads/2016/04/cropped-dcimmersion_linkedin_logo_b.png?fit=512%2C512\" style=\"float:right; height: 50px; width: 50px; padding: 0em 1em 0em 1em;\"></img>\n",
    "\n",
    "\n",
    "\n",
    "---\n",
    "**Author** Glenn Abastillas | **Created** April, 14, 2019 | **Category** Volunteer Work | Language Not-for-Profit\n",
    "\n",
    "This notebook shows how to assign addresses to school districts in an automated way. The address information comes from the DC Language Immersion Google Drive storage. The school district and ward data comes from the [DC Government's Open Data](www.opendata.dc.gov) APIs.\n",
    "\n",
    "Update:\n",
    "    1. July 10, 2019: received data from DC Language Immersion to test boundary school and ward assignment.\n",
    "\n",
    "---\n",
    "#### Import Packages"
   ]
  },
  {
   "cell_type": "code",
   "execution_count": 1,
   "metadata": {},
   "outputs": [],
   "source": [
    "import pandas as pd\n",
    "import geopandas as gpd\n",
    "import shapely as shp\n",
    "import shapefile\n",
    "import usaddress\n",
    "import re\n",
    "\n",
    "from geopy.geocoders import Nominatim\n",
    "from random import randint\n",
    "\n",
    "%matplotlib inline"
   ]
  },
  {
   "cell_type": "markdown",
   "metadata": {},
   "source": [
    "#### Load Map Data\n",
    "\n",
    "Define the path and label variables for loading map data without the API."
   ]
  },
  {
   "cell_type": "code",
   "execution_count": 2,
   "metadata": {},
   "outputs": [],
   "source": [
    "folder = \"..\"\n",
    "prefix = 'School_Attendance_Zones'\n",
    "levels = ['Elementary', 'Middle_School', 'Senior_High', 'Ward']"
   ]
  },
  {
   "cell_type": "markdown",
   "metadata": {},
   "source": [
    "Load Data and Shape files."
   ]
  },
  {
   "cell_type": "code",
   "execution_count": 3,
   "metadata": {},
   "outputs": [],
   "source": [
    "data = {level: pd.read_csv(f\"{folder}/{prefix}_{level}.csv\") for level in levels}"
   ]
  },
  {
   "cell_type": "code",
   "execution_count": 4,
   "metadata": {},
   "outputs": [],
   "source": [
    "shapes = {level: shapefile.Reader(f\"{folder}/{prefix}_{level}/{prefix}_{level}.shp\") for level in levels}"
   ]
  },
  {
   "cell_type": "markdown",
   "metadata": {},
   "source": [
    "Shape methods include `bbox`, `parts`, `points`, `shapeType`, `shapeTypeName`.\n",
    "\n",
    "Coordinate information is contained in the `points` attribute. The following cell prints out a random district shape every time it is run."
   ]
  },
  {
   "cell_type": "code",
   "execution_count": 5,
   "metadata": {},
   "outputs": [
    {
     "name": "stderr",
     "output_type": "stream",
     "text": [
      "Shell is not a LinearRing\n"
     ]
    },
    {
     "name": "stdout",
     "output_type": "stream",
     "text": [
      "School boundary #41\n"
     ]
    },
    {
     "data": {
      "image/svg+xml": [
       "<svg xmlns=\"http://www.w3.org/2000/svg\" xmlns:xlink=\"http://www.w3.org/1999/xlink\" />"
      ],
      "text/plain": [
       "<shapely.geometry.polygon.Polygon at 0x10c4c8d68>"
      ]
     },
     "execution_count": 5,
     "metadata": {},
     "output_type": "execute_result"
    }
   ],
   "source": [
    "# Set some parameters\n",
    "level = 'Elementary'\n",
    "LOW, HI = 0, len(shapes[level].shapes())\n",
    "\n",
    "# Sample a shape\n",
    "random_integer = randint(LOW, HI)\n",
    "example_shape = shp.geometry.Polygon(shapes[level].shape(random_integer).points)\n",
    "print(f\"School boundary #{random_integer}\")\n",
    "example_shape"
   ]
  },
  {
   "cell_type": "markdown",
   "metadata": {},
   "source": [
    "#### Instantiate Geocoders to Convert Addresses\n",
    "\n",
    "Instantiate the Geocoder and use it to convert addresses into `Point` objects to allow for inclusion checking."
   ]
  },
  {
   "cell_type": "code",
   "execution_count": 6,
   "metadata": {},
   "outputs": [],
   "source": [
    "geocoder = Nominatim(user_agent=\"default\")"
   ]
  },
  {
   "cell_type": "markdown",
   "metadata": {},
   "source": [
    "Load contact data and information."
   ]
  },
  {
   "cell_type": "code",
   "execution_count": null,
   "metadata": {},
   "outputs": [],
   "source": [
    "raw_contacts = pd.read_csv(\"dc_language_immersion_contacts.csv\").drop_duplicates()\n",
    "# raw_contacts.columns\n",
    "\n",
    "# Check if EUID and LEID are actually unique identifiers\n",
    "print(\"EUID and LEID truly unique identifiers: \",\n",
    "(raw_contacts.EUID.unique().shape[0] == raw_contacts.LEID.unique().shape[0] == raw_contacts.shape[0]))"
   ]
  },
  {
   "cell_type": "code",
   "execution_count": null,
   "metadata": {},
   "outputs": [],
   "source": [
    "raw_contacts.TYPE = raw_contacts.TYPE.apply(lambda x: '; '.join([__.title() for __ in x.split(';') if __.strip()]))\n",
    "\n",
    "contacts = raw_contacts[raw_contacts['Street Address 1'].notnull()]\n",
    "contacts = contacts[['EUID', 'LEID', 'Street Address 1', 'City', 'State', 'Zip Code']]\n",
    "contacts.columns = ['euid', 'leid', 'address', 'city', 'state', 'zip']\n",
    "contacts.shape"
   ]
  },
  {
   "cell_type": "markdown",
   "metadata": {},
   "source": [
    "### Clean Up Data\n",
    "Some contacts' addresses have a DC street address, but out of state city and state designation. These functions help analyze the street address."
   ]
  },
  {
   "cell_type": "code",
   "execution_count": null,
   "metadata": {},
   "outputs": [],
   "source": [
    "def n_tokens(addr):\n",
    "    return(len(addr.split()))\n",
    "\n",
    "def valid_quadrant(addr):\n",
    "    suffix = addr.split()[-1].upper()\n",
    "    if(suffix not in ['NW', 'NE', 'SE', 'SW']):\n",
    "        return(False)\n",
    "    return(True)"
   ]
  },
  {
   "cell_type": "markdown",
   "metadata": {},
   "source": [
    "The first time the cell below is run, it will show the invalid addresses. After running the subsequent two cells, the next cell should produce an empty `DataFrame`."
   ]
  },
  {
   "cell_type": "code",
   "execution_count": null,
   "metadata": {},
   "outputs": [],
   "source": [
    "contacts[contacts.state.str.lower().str.find('district') > -1]"
   ]
  },
  {
   "cell_type": "code",
   "execution_count": null,
   "metadata": {},
   "outputs": [],
   "source": [
    "valid_quadrant_ = contacts.address.apply(valid_quadrant)\n",
    "not_washington_ = ~contacts.city.apply(lambda x: 'ashi' in str(x).lower())\n",
    "state_is_in_dc_ = ((contacts.state.str.lower() == 'dc') | ((contacts.state.str.lower().str.find('district') > -1)))\n",
    "state_is_an_nan = contacts.state.isnull()\n",
    "\n",
    "contacts[valid_quadrant_ & not_washington_ & (state_is_in_dc_ | state_is_an_nan)]"
   ]
  },
  {
   "cell_type": "markdown",
   "metadata": {},
   "source": [
    "Replace `NaN` city names with Washington if the address is in Washington, DC. Assume that street addresses with quadrant information are in DC."
   ]
  },
  {
   "cell_type": "code",
   "execution_count": null,
   "metadata": {},
   "outputs": [],
   "source": [
    "# contacts.loc[contacts[valid_quadrant_ & not_washington_ & (state_is_in_dc_ | state_is_an_nan)], 'city'] = 'Washington'\n",
    "# contacts.loc[contacts[valid_quadrant_ & not_washington_ & (state_is_in_dc_ | state_is_an_nan)], 'state'] = 'DC'\n",
    "contacts.loc[valid_quadrant_ & not_washington_ & (state_is_in_dc_ | state_is_an_nan), 'city'] = 'Washington'\n",
    "contacts.loc[valid_quadrant_ & (state_is_an_nan), 'state'] = 'DC'"
   ]
  },
  {
   "cell_type": "markdown",
   "metadata": {},
   "source": [
    "Normalize the city and state data for addresses in Washington, DC. Re-running the cells above should return an empty data frame if successfully processed."
   ]
  },
  {
   "cell_type": "code",
   "execution_count": null,
   "metadata": {},
   "outputs": [],
   "source": [
    "contacts.loc[state_is_in_dc_, 'city'] = 'Washington'\n",
    "contacts.loc[state_is_in_dc_, 'state'] = 'DC'"
   ]
  },
  {
   "cell_type": "markdown",
   "metadata": {},
   "source": [
    "Save this second dataset, which contains rows of contacts with a `state=='dc'`"
   ]
  },
  {
   "cell_type": "code",
   "execution_count": null,
   "metadata": {},
   "outputs": [],
   "source": [
    "# df2 = contacts.copy()\n",
    "# df2.to_csv(\"contacts_washington_dc.csv\", index=False)"
   ]
  },
  {
   "cell_type": "code",
   "execution_count": null,
   "metadata": {},
   "outputs": [],
   "source": [
    "contacts[state_is_in_dc_].city.unique()"
   ]
  },
  {
   "cell_type": "markdown",
   "metadata": {},
   "source": [
    "#### Address Analysis\n",
    "\n",
    "Discover different address types for regular expression normalization. All entries had a `state='DC'`."
   ]
  },
  {
   "cell_type": "code",
   "execution_count": null,
   "metadata": {},
   "outputs": [],
   "source": [
    "contacts.address.unique()[:5]"
   ]
  },
  {
   "cell_type": "code",
   "execution_count": null,
   "metadata": {},
   "outputs": [],
   "source": [
    "dc = contacts[state_is_in_dc_]\n",
    "dc.shape"
   ]
  },
  {
   "cell_type": "markdown",
   "metadata": {},
   "source": [
    "#### ZIP\n",
    "Examine the ZIP codes for all DC rows."
   ]
  },
  {
   "cell_type": "code",
   "execution_count": null,
   "metadata": {},
   "outputs": [],
   "source": [
    "dc.zip.unique()"
   ]
  },
  {
   "cell_type": "markdown",
   "metadata": {},
   "source": [
    "#### City\n",
    "Examine the city names for all DC rows."
   ]
  },
  {
   "cell_type": "code",
   "execution_count": null,
   "metadata": {},
   "outputs": [],
   "source": [
    "washington = ('Washington', re.compile(r\"\\w+?shi\\w{0,2}t\\w+?|DC|Wa\", re.IGNORECASE))\n",
    "dc[dc.city.apply(lambda x: len(washington[1].findall(str(x))) > 0)].city.unique()"
   ]
  },
  {
   "cell_type": "markdown",
   "metadata": {},
   "source": [
    "Define a function to get just the `StreetPostType` data from the street addresses."
   ]
  },
  {
   "cell_type": "code",
   "execution_count": null,
   "metadata": {},
   "outputs": [],
   "source": [
    "def get_address_type(street_address):\n",
    "    try:\n",
    "        return(usaddress.tag(street_address)[-1])\n",
    "    except:\n",
    "        return(None)\n",
    "    "
   ]
  },
  {
   "cell_type": "code",
   "execution_count": null,
   "metadata": {},
   "outputs": [],
   "source": [
    "dc.loc[:,'address_type'] = dc.address.apply(get_address_type)\n",
    "dc.address_type.value_counts()"
   ]
  },
  {
   "cell_type": "markdown",
   "metadata": {},
   "source": [
    "##### Quadrant\n",
    "\n",
    "Check if the street address ends in a quadrant. Separate addresses into two variables."
   ]
  },
  {
   "cell_type": "code",
   "execution_count": null,
   "metadata": {},
   "outputs": [],
   "source": [
    "dc_valid_quadrant = dc[dc.address.apply(valid_quadrant) & dc.city.isin([washington[0]])]\n",
    "dc_valid_quadrant.shape"
   ]
  },
  {
   "cell_type": "code",
   "execution_count": null,
   "metadata": {},
   "outputs": [],
   "source": [
    "dc_invalid_quadrant = dc[~dc.address.apply(valid_quadrant) & dc.city.isin([washington[0]])]\n",
    "dc_invalid_quadrant.shape"
   ]
  },
  {
   "cell_type": "markdown",
   "metadata": {},
   "source": [
    "Some examples of tokens that end a street address."
   ]
  },
  {
   "cell_type": "code",
   "execution_count": null,
   "metadata": {},
   "outputs": [],
   "source": [
    "dc_invalid_quadrant[dc_invalid_quadrant.address.apply(n_tokens) > 1].address.apply(lambda x: x.split()[-2]).sort_values().unique()"
   ]
  },
  {
   "cell_type": "markdown",
   "metadata": {},
   "source": [
    "The next cell investigates the type of suffixes for the valid quadrant data for regular expression development."
   ]
  },
  {
   "cell_type": "code",
   "execution_count": null,
   "metadata": {},
   "outputs": [],
   "source": [
    "dc_valid_quadrant[dc_valid_quadrant.address.apply(n_tokens) > 1].address.apply(lambda x: x.split()[-2]).sort_values().unique()"
   ]
  },
  {
   "cell_type": "markdown",
   "metadata": {},
   "source": [
    "### Regular Expressions for Normalizing Addresses\n",
    "Regular expressions can be used to standardize the address names. First create a shorthand variable name for the two types of quadrant classifications."
   ]
  },
  {
   "cell_type": "code",
   "execution_count": null,
   "metadata": {},
   "outputs": [],
   "source": [
    "dcv = dc_valid_quadrant\n",
    "dci = dc_invalid_quadrant"
   ]
  },
  {
   "cell_type": "markdown",
   "metadata": {},
   "source": [
    "Now create the regular expressions to detect the street entities and the replacement term. These post types were determined by examining the data."
   ]
  },
  {
   "cell_type": "code",
   "execution_count": null,
   "metadata": {},
   "outputs": [],
   "source": [
    "import re\n",
    "\n",
    "types = [('alley',          r'all?e?y'), \n",
    "         ('avenue',         r'av(\\w+)?\\S?'), \n",
    "         ('boulevard',     r'b\\w{0,2}l\\w?v\\w?r?d'),\n",
    "         ('branch',         r'branch\\S?'), \n",
    "         ('court',          r'c[ou]{0,2}r?t\\S?'), \n",
    "         ('drive',          r'dr(ive)?\\S?'), \n",
    "         ('lane',           r'l\\w?n\\w?\\S?'), \n",
    "         ('place',          r'pl(ace)?\\S?'), \n",
    "         ('road',           r'r[oa]{0,2}d\\S?'), \n",
    "         ('street',         r'st(ree?t)?\\S?'), \n",
    "         ('way',            r'wa?y')]\n",
    "\n",
    "types_dict = dict([(a, re.compile(b, re.IGNORECASE)) for a, b in types])"
   ]
  },
  {
   "cell_type": "markdown",
   "metadata": {},
   "source": [
    "Test the regular expressions on an example."
   ]
  },
  {
   "cell_type": "code",
   "execution_count": null,
   "metadata": {},
   "outputs": [],
   "source": [
    "# example = ' 2342 Nebraska av.'\n",
    "# [types_dict[key].sub(key, example) for key in types_dict.keys()]"
   ]
  },
  {
   "cell_type": "markdown",
   "metadata": {},
   "source": [
    "Define functions to normalize street address strings."
   ]
  },
  {
   "cell_type": "code",
   "execution_count": null,
   "metadata": {},
   "outputs": [],
   "source": [
    "def get_address_type(A):\n",
    "    \"\"\" See if input address `A` is a Street Address, PO Box, Ambiguous, or None \"\"\"\n",
    "    try:\n",
    "        return(usaddress.tag(A)[-1])\n",
    "    except:\n",
    "        return(None)\n",
    "\n",
    "def get_occupancy_identifier(address):\n",
    "    if(address):\n",
    "        try:\n",
    "            parsed, street_type = usaddress.tag(address)\n",
    "            return(parsed['OccupancyIdentifier'])\n",
    "        except:\n",
    "            return(None)\n",
    "    return(address)\n",
    "    \n",
    "def normalize_posttype(P, tdict=types_dict):\n",
    "    for key in tdict:\n",
    "        regex = tdict[key]\n",
    "        if(regex.findall(P)):\n",
    "            return(regex.sub(key, P))\n",
    "    return(P)\n",
    "\n",
    "def normalize_address(A):\n",
    "    try:\n",
    "        parsed, street_type = usaddress.tag(A)\n",
    "        A = parsed['AddressNumber'].replace('.', '')\n",
    "        B = parsed['StreetName'].replace('.', '')\n",
    "        \n",
    "        # Process StreetNames if numeric\n",
    "        B = B.lower() if B[0].isdigit() else B.title()\n",
    "        B = f\"{B}th\" if (B.isdigit()) else (f\"{B[:-2]}th\" if (B[:-2].isdigit()) else B)\n",
    "        B = f\"{B[:-2]}st\" if B[:-2].isdigit() and (B[:-2] == '1' or B[-3] == '1') else B\n",
    "        B = f\"{B[:-2]}nd\" if B[:-2].isdigit() and (B[:-2] == '2' or B[-3] == '2' and B[0] != '1') else B\n",
    "        B = f\"{B[:-2]}rd\" if B[:-2].isdigit() and (B[:-2] == '3' or B[-3] == '3' and B[0] != '1') else B\n",
    "        \n",
    "        C = normalize_posttype(parsed['StreetNamePostType']).title()\n",
    "            \n",
    "        try:\n",
    "            D = parsed['StreetNamePostDirectional'].upper()\n",
    "        except:\n",
    "            D = ''\n",
    "        return(f\"{A} {B} {C} {D}\".replace('.', '').strip())\n",
    "        \n",
    "    except:\n",
    "#         print(A)\n",
    "        return(None)"
   ]
  },
  {
   "cell_type": "markdown",
   "metadata": {},
   "source": [
    "Normalize the addresses of the original dataset `contacts`."
   ]
  },
  {
   "cell_type": "code",
   "execution_count": null,
   "metadata": {},
   "outputs": [],
   "source": [
    "contacts = contacts.assign(address_type=contacts.address.apply(get_address_type),\n",
    "                           occupancy_identifier=contacts.address.apply(get_occupancy_identifier))\n",
    "contacts.address_type.value_counts()"
   ]
  },
  {
   "cell_type": "code",
   "execution_count": null,
   "metadata": {},
   "outputs": [],
   "source": [
    "contacts.loc[contacts.address_type.isin(['Street Address']),].assign(address_norm=contacts.address.apply(normalize_address)).sample(10)"
   ]
  },
  {
   "cell_type": "code",
   "execution_count": null,
   "metadata": {},
   "outputs": [],
   "source": [
    "dc = contacts[state_is_in_dc_ & (contacts.address_type == 'Street Address')]\n",
    "not_dc = contacts[~state_is_in_dc_ & (contacts.address_type == 'Street Address')]\n",
    "print(f\"R,C: {dc.shape[0]} contacts with Street Addresses in DC\\n\"\n",
    "      f\"R,C: {not_dc.shape[0]} contacts without Street Addresses in DC\\n\"\n",
    "      f\"R,C: {contacts.shape[0]} total contacts.\")"
   ]
  },
  {
   "cell_type": "markdown",
   "metadata": {},
   "source": [
    "### Assign Dataset to `current`\n",
    "\n",
    "Assign which dataset to focus on with the `current` variable."
   ]
  },
  {
   "cell_type": "code",
   "execution_count": null,
   "metadata": {},
   "outputs": [],
   "source": [
    "current = dc"
   ]
  },
  {
   "cell_type": "markdown",
   "metadata": {},
   "source": [
    "Continue to process the street addresses."
   ]
  },
  {
   "cell_type": "code",
   "execution_count": null,
   "metadata": {},
   "outputs": [],
   "source": [
    "current_st = current[current.address_type.isin(['Street Address'])]\n",
    "\n",
    "print(current_st.shape)\n",
    "current_st.address.sample(10).apply(normalize_address)"
   ]
  },
  {
   "cell_type": "code",
   "execution_count": null,
   "metadata": {},
   "outputs": [],
   "source": [
    "current_st = current_st.assign(address_clean=current_st.address.apply(normalize_address))"
   ]
  },
  {
   "cell_type": "code",
   "execution_count": null,
   "metadata": {},
   "outputs": [],
   "source": [
    "# address = \"1160 1st Street NE, Washington DC 20002\"\n",
    "address = ', '.join(current_st.sample()[['address_clean', 'city', 'state', 'zip']].iloc[0])\n",
    "location = geocoder.geocode(address)\n",
    "print(address)"
   ]
  },
  {
   "cell_type": "markdown",
   "metadata": {},
   "source": [
    "Get the location point coordinates and check for inclusion."
   ]
  },
  {
   "cell_type": "code",
   "execution_count": null,
   "metadata": {},
   "outputs": [],
   "source": [
    "location_point = shp.geometry.Point(tuple(location.point))\n",
    "example_shape.contains(location_point)"
   ]
  },
  {
   "cell_type": "markdown",
   "metadata": {},
   "source": [
    "#### Tester to Find School District for Address\n",
    "\n",
    "First design the logic then create the function definition."
   ]
  },
  {
   "cell_type": "code",
   "execution_count": null,
   "metadata": {},
   "outputs": [],
   "source": [
    "level = levels[2]\n",
    "SIZE = 0, len(shapes[level].shapes())\n",
    "\n",
    "for i in range(len(SIZE)):\n",
    "    current = shp.geometry.Polygon(shapes[level].shape(i).points)\n",
    "    if(current.contains(location_point)):\n",
    "        break\n",
    "\n",
    "# shape = shapes[level].shape(i)        \n",
    "print(f\"Your {level} school for {address} is {i}.\")\n",
    "current"
   ]
  },
  {
   "cell_type": "code",
   "execution_count": null,
   "metadata": {},
   "outputs": [],
   "source": [
    "location"
   ]
  },
  {
   "cell_type": "code",
   "execution_count": null,
   "metadata": {},
   "outputs": [],
   "source": [
    "from shapely.geometry import Point, Polygon\n",
    "from geopy.geocoders import Here\n",
    "from geopy.exec import GeocoderTimedOut\n",
    "\n",
    "geocoder = Here(app_id=\"Yc3DwCnHtBBIqRwBCyHS\",\n",
    "                app_code=\"M_6pX8o174Ny1Ifs536-kg\")\n",
    "\n",
    "def get_coordinates(address, i=3):\n",
    "    \"\"\" Return the longitude, latitude, and altitude of an address as a tuple \"\"\"\n",
    "    if(i > -1)\n",
    "    if(address):\n",
    "        try:\n",
    "            return(tuple(geocoder.geocode(address).point))\n",
    "        except(GeocoderTimedOut):\n",
    "            return(get_coordinates(address, i-1))\n",
    "    return(None)\n",
    "    \n",
    "def assign_school_zone(address, school_data=data, shape_data=shapes, school_levels=levels, level=0):\n",
    "    \"\"\" Return school name, object ID, and Ward number. \"\"\"\n",
    "    if(address):\n",
    "        longitude, latitude, altitude = address\n",
    "\n",
    "        point = Point((latitude, longitude))\n",
    "        school = school_levels[level] if isinstance(level, int) else level\n",
    "\n",
    "        for i, shape in enumerate(shape_data[school].shapes()):\n",
    "            polygon = Polygon(shape.points)\n",
    "            if(polygon.contains(point)):\n",
    "                return(i+1, f\"{school_data[school].loc[i,'NAME']} {school.replace('_', ' ')}\")\n",
    "    return(None)\n"
   ]
  },
  {
   "cell_type": "markdown",
   "metadata": {},
   "source": [
    "### Deploy School Zone Assignment Algorithm\n",
    "\n",
    "Test the algorithm on a single address and then multiple addresses."
   ]
  },
  {
   "cell_type": "code",
   "execution_count": null,
   "metadata": {},
   "outputs": [],
   "source": [
    "coords = get_coordinates(address)\n",
    "print(address, assign_school_zone(coords, data, shapes, levels, 'Middle_School'))"
   ]
  },
  {
   "cell_type": "markdown",
   "metadata": {},
   "source": [
    "### Get Boundary and Ward Information\n",
    "\n",
    "Run the cell to get `boundary school` and `ward` information for each address."
   ]
  },
  {
   "cell_type": "code",
   "execution_count": null,
   "metadata": {},
   "outputs": [],
   "source": [
    "from tqdm import tqdm\n",
    "import time\n",
    "# addresses = ['1150 1st street ne', '1822 1st St NW, Washington, DC 20001', '1918 14th St SE, Washington, DC 20020']\n",
    "\n",
    "DATA = current_st\n",
    "decide = lambda x: x if x else ''\n",
    "addresses = [(f\"{decide(a)} {decide(b)} {decide(c)} {decide(d)}\".strip(), e, f) \n",
    "             for i, (a, b, c, d, e, f) in list(DATA[['address_clean', 'city', 'state', 'zip', 'euid', 'leid']].iterrows())]\n",
    "\n",
    "address_boundary = list()\n",
    "\n",
    "for address, euid, leid in tqdm(addresses):\n",
    "    boundary = list()\n",
    "    address_ = get_coordinates(address)\n",
    "\n",
    "    for level in levels:\n",
    "        try:\n",
    "            school = assign_school_zone(address, level=level)[1]\n",
    "            boundary.append(school)\n",
    "        except:\n",
    "            pass\n",
    "    address_boundary.append(tuple([euid, leid, address] + boundary))\n",
    "    time.sleep(1)\n",
    "\n",
    "len(address_boundary)"
   ]
  },
  {
   "cell_type": "code",
   "execution_count": null,
   "metadata": {},
   "outputs": [],
   "source": [
    "address_boundary[:3]"
   ]
  },
  {
   "cell_type": "markdown",
   "metadata": {},
   "source": [
    "Address and boundary schools from the `dci` (`dc_invalid_quadrant`) data set."
   ]
  },
  {
   "cell_type": "code",
   "execution_count": null,
   "metadata": {},
   "outputs": [],
   "source": [
    "# ab_dci = address_boundary # Comment out once assigned to allow the list above to get reassigned\n",
    "len(ab_dci)"
   ]
  },
  {
   "cell_type": "markdown",
   "metadata": {},
   "source": [
    "Address and boundary schools from the `dcv` (`dc_valid_quadrant`) data set."
   ]
  },
  {
   "cell_type": "code",
   "execution_count": null,
   "metadata": {},
   "outputs": [],
   "source": [
    "# ab_dcv = address_boundary # Comment out once assigned to allow the list above to get reassigned\n",
    "len(ab_dcv)"
   ]
  },
  {
   "cell_type": "markdown",
   "metadata": {},
   "source": [
    "Create a new DataFrame to hold processed data."
   ]
  },
  {
   "cell_type": "code",
   "execution_count": null,
   "metadata": {},
   "outputs": [],
   "source": [
    "processed = pd.DataFrame(address_boundary, columns=['euid', 'leid', 'address', 'elementary_school', 'middle_school', 'senior_school', 'ward'])\n",
    "processed.shape"
   ]
  },
  {
   "cell_type": "code",
   "execution_count": null,
   "metadata": {},
   "outputs": [],
   "source": [
    "processed.head()"
   ]
  },
  {
   "cell_type": "markdown",
   "metadata": {},
   "source": [
    "Number of addresses where there is no boundary school information available at all for the addresses."
   ]
  },
  {
   "cell_type": "code",
   "execution_count": null,
   "metadata": {},
   "outputs": [],
   "source": [
    "has_all_school_levels = ~(processed.senior_school.isnull() & processed.middle_school.isnull() & processed.elementary_school.isnull())"
   ]
  },
  {
   "cell_type": "code",
   "execution_count": null,
   "metadata": {},
   "outputs": [],
   "source": [
    "processed[~has_all_school_levels].shape"
   ]
  },
  {
   "cell_type": "markdown",
   "metadata": {},
   "source": [
    "Look into the address where there is a school available."
   ]
  },
  {
   "cell_type": "code",
   "execution_count": null,
   "metadata": {},
   "outputs": [],
   "source": [
    "processed.sample(20)"
   ]
  },
  {
   "cell_type": "markdown",
   "metadata": {},
   "source": [
    "Save current processed DataFrame."
   ]
  },
  {
   "cell_type": "code",
   "execution_count": null,
   "metadata": {},
   "outputs": [],
   "source": [
    "processed.to_csv(\"./processed.csv\", index=False)"
   ]
  },
  {
   "cell_type": "markdown",
   "metadata": {},
   "source": [
    "#### Merge Back to Original Data\n",
    "\n",
    "Using the street address, city, and state columns, merged cleaned and assigned data back to main dataset. First, separate out the street address."
   ]
  },
  {
   "cell_type": "code",
   "execution_count": null,
   "metadata": {},
   "outputs": [],
   "source": [
    "processed = processed.assign(street_address=processed.address.apply(lambda x: ' '.join(x.split()[:-3])))\n",
    "processed.head()"
   ]
  },
  {
   "cell_type": "markdown",
   "metadata": {},
   "source": [
    "Now, attempt to merge the datasets."
   ]
  },
  {
   "cell_type": "code",
   "execution_count": null,
   "metadata": {},
   "outputs": [],
   "source": [
    "merged = contacts.merge(processed, on=['euid', 'leid'])\n",
    "merged.head()"
   ]
  },
  {
   "cell_type": "code",
   "execution_count": null,
   "metadata": {},
   "outputs": [],
   "source": [
    "merged.shape"
   ]
  },
  {
   "cell_type": "code",
   "execution_count": null,
   "metadata": {},
   "outputs": [],
   "source": [
    "merged.to_csv(\"./merged_1.csv\", index=False)"
   ]
  },
  {
   "cell_type": "markdown",
   "metadata": {},
   "source": [
    "#### Connecting via API\n",
    "\n",
    "Sandbox for reading in School Attendance Zones for Senior High School from the Open Data repository."
   ]
  },
  {
   "cell_type": "code",
   "execution_count": null,
   "metadata": {},
   "outputs": [],
   "source": [
    "api_data = gpd.read_file(\"https://opendata.arcgis.com/datasets/d2e0486155144b6d8e11e12469a64b1c_15.geojson\")\n",
    "api_data.head(2)"
   ]
  },
  {
   "cell_type": "code",
   "execution_count": null,
   "metadata": {},
   "outputs": [],
   "source": [
    "geometry = api_data['geometry']"
   ]
  },
  {
   "cell_type": "code",
   "execution_count": null,
   "metadata": {},
   "outputs": [],
   "source": [
    "geometry.head()"
   ]
  },
  {
   "cell_type": "code",
   "execution_count": null,
   "metadata": {},
   "outputs": [],
   "source": [
    "shape1 = Polygon(geometry[1])"
   ]
  },
  {
   "cell_type": "code",
   "execution_count": null,
   "metadata": {},
   "outputs": [],
   "source": [
    "api_data.plot(label='NAME')"
   ]
  },
  {
   "cell_type": "code",
   "execution_count": null,
   "metadata": {},
   "outputs": [],
   "source": [
    "geojson_copy = \"https://opendata.arcgis.com/datasets/d2e0486155144b6d8e11e12469a64b1c_15.geojson\""
   ]
  },
  {
   "cell_type": "markdown",
   "metadata": {},
   "source": [
    "---"
   ]
  },
  {
   "cell_type": "markdown",
   "metadata": {},
   "source": [
    "# END"
   ]
  }
 ],
 "metadata": {
  "kernelspec": {
   "display_name": "Python 3",
   "language": "python",
   "name": "python3"
  },
  "language_info": {
   "codemirror_mode": {
    "name": "ipython",
    "version": 3
   },
   "file_extension": ".py",
   "mimetype": "text/x-python",
   "name": "python",
   "nbconvert_exporter": "python",
   "pygments_lexer": "ipython3",
   "version": "3.6.5"
  }
 },
 "nbformat": 4,
 "nbformat_minor": 2
}
