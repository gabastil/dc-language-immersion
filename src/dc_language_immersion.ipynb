{
 "cells": [
  {
   "cell_type": "markdown",
   "metadata": {},
   "source": [
    "# DC Language Immersion: Mapping Addresses to Feeder Schools \n",
    "\n",
    "<img src=\"https://i0.wp.com/dcimmersion.org/wp-content/uploads/2016/04/cropped-dcimmersion_linkedin_logo_b.png?fit=512%2C512\" style=\"float:right; height: 50px; width: 50px; padding: 0em 1em 0em 1em;\"></img>\n",
    "\n",
    "\n",
    "\n",
    "---\n",
    "**Author** Glenn Abastillas | **Created** April, 14, 2019 | **Category** Volunteer Work | Language Not-for-Profit\n",
    "\n",
    "This notebook shows how to assign addresses to school districts in an automated way. The address information comes from the DC Language Immersion Google Drive storage. The school district and ward data comes from the [DC Government's Open Data](www.opendata.dc.gov) APIs.\n",
    "\n",
    "Update:\n",
    "    1. July 10, 2019: received data from DC Language Immersion to test boundary school and ward assignment.\n",
    "\n",
    "---\n",
    "#### Import Packages"
   ]
  },
  {
   "cell_type": "code",
   "execution_count": 174,
   "metadata": {},
   "outputs": [],
   "source": [
    "import pandas as pd\n",
    "import geopandas as gpd\n",
    "import shapely as shp\n",
    "import shapefile\n",
    "import usaddress\n",
    "import re\n",
    "\n",
    "from geopy.geocoders import Nominatim\n",
    "from random import randint\n",
    "\n",
    "%matplotlib inline"
   ]
  },
  {
   "cell_type": "markdown",
   "metadata": {},
   "source": [
    "#### Load Map Data\n",
    "\n",
    "Define the path and label variables."
   ]
  },
  {
   "cell_type": "code",
   "execution_count": 175,
   "metadata": {},
   "outputs": [],
   "source": [
    "folder = \"../\"\n",
    "prefix = 'School_Attendance_Zones'\n",
    "levels = ['Elementary', 'Middle_School', 'Senior_High']"
   ]
  },
  {
   "cell_type": "markdown",
   "metadata": {},
   "source": [
    "Point data files."
   ]
  },
  {
   "cell_type": "code",
   "execution_count": 176,
   "metadata": {},
   "outputs": [],
   "source": [
    "data = {levels[i]: pd.read_csv(f\"{folder}/{prefix}_{levels[i]}.csv\") for i in range(3)}"
   ]
  },
  {
   "cell_type": "code",
   "execution_count": 177,
   "metadata": {},
   "outputs": [
    {
     "data": {
      "text/html": [
       "<div>\n",
       "<style scoped>\n",
       "    .dataframe tbody tr th:only-of-type {\n",
       "        vertical-align: middle;\n",
       "    }\n",
       "\n",
       "    .dataframe tbody tr th {\n",
       "        vertical-align: top;\n",
       "    }\n",
       "\n",
       "    .dataframe thead th {\n",
       "        text-align: right;\n",
       "    }\n",
       "</style>\n",
       "<table border=\"1\" class=\"dataframe\">\n",
       "  <thead>\n",
       "    <tr style=\"text-align: right;\">\n",
       "      <th></th>\n",
       "      <th>OBJECTID</th>\n",
       "      <th>NAME</th>\n",
       "      <th>Shape_Length</th>\n",
       "      <th>Shape_Area</th>\n",
       "      <th>GIS_ID</th>\n",
       "    </tr>\n",
       "  </thead>\n",
       "  <tbody>\n",
       "    <tr>\n",
       "      <th>29</th>\n",
       "      <td>30</td>\n",
       "      <td>Houston</td>\n",
       "      <td>5114.179224</td>\n",
       "      <td>1.216817e+06</td>\n",
       "      <td>dcps_251</td>\n",
       "    </tr>\n",
       "    <tr>\n",
       "      <th>8</th>\n",
       "      <td>9</td>\n",
       "      <td>Brent</td>\n",
       "      <td>4589.649889</td>\n",
       "      <td>1.143600e+06</td>\n",
       "      <td>dcps_212</td>\n",
       "    </tr>\n",
       "  </tbody>\n",
       "</table>\n",
       "</div>"
      ],
      "text/plain": [
       "    OBJECTID     NAME  Shape_Length    Shape_Area    GIS_ID\n",
       "29        30  Houston   5114.179224  1.216817e+06  dcps_251\n",
       "8          9    Brent   4589.649889  1.143600e+06  dcps_212"
      ]
     },
     "execution_count": 177,
     "metadata": {},
     "output_type": "execute_result"
    }
   ],
   "source": [
    "data['Elementary'].sample(2)"
   ]
  },
  {
   "cell_type": "markdown",
   "metadata": {},
   "source": [
    "Load the Shape files."
   ]
  },
  {
   "cell_type": "code",
   "execution_count": 178,
   "metadata": {},
   "outputs": [],
   "source": [
    "shapes = {levels[i]: shapefile.Reader(f\"{folder}/{prefix}_{levels[i]}/{prefix}_{levels[i]}.shp\") for i in range(3)}"
   ]
  },
  {
   "cell_type": "code",
   "execution_count": 190,
   "metadata": {},
   "outputs": [
    {
     "data": {
      "text/plain": [
       "<shapefile.Reader at 0x11fa2f9e8>"
      ]
     },
     "execution_count": 190,
     "metadata": {},
     "output_type": "execute_result"
    }
   ],
   "source": [
    "shapes[levels[0]]"
   ]
  },
  {
   "cell_type": "markdown",
   "metadata": {},
   "source": [
    "Shape methods include `bbox`, `parts`, `points`, `shapeType`, `shapeTypeName`.\n",
    "\n",
    "Coordinate information is contained in the `points` attribute. The following cell prints out a random district shape every time it is run."
   ]
  },
  {
   "cell_type": "code",
   "execution_count": 179,
   "metadata": {},
   "outputs": [],
   "source": [
    "# import random\n",
    "# READER = shapes[levels[0]]"
   ]
  },
  {
   "cell_type": "code",
   "execution_count": 180,
   "metadata": {},
   "outputs": [
    {
     "name": "stdout",
     "output_type": "stream",
     "text": [
      "School boundary #2\n"
     ]
    },
    {
     "data": {
      "image/svg+xml": [
       "<svg xmlns=\"http://www.w3.org/2000/svg\" xmlns:xlink=\"http://www.w3.org/1999/xlink\" width=\"100.0\" height=\"100.0\" viewBox=\"-76.93383684104452 38.87514625570434 0.021453630016907255 0.015419110222659071\" preserveAspectRatio=\"xMinYMin meet\"><g transform=\"matrix(1,0,0,-1,0,77.76571162163134)\"><path fill-rule=\"evenodd\" fill=\"#66cc99\" stroke=\"#555555\" stroke-width=\"0.0004290726003381451\" opacity=\"0.6\" d=\"M -76.91367025611639,38.88976678799647 L -76.91352925550439,38.88976378863465 L -76.91317778991713,38.88974686467405 L -76.92229572008263,38.88264783403355 L -76.9309055743622,38.875940834593855 L -76.93107426133288,38.8761057846272 L -76.93109423042831,38.87613083751244 L -76.93112926090988,38.87617478482563 L -76.93114037325782,38.876191212566226 L -76.93115226095955,38.87620878539266 L -76.93116726024473,38.87624278518084 L -76.93118026073843,38.87628878523048 L -76.93118526091612,38.87633878479849 L -76.93118624952189,38.87648403175779 L -76.93118626007636,38.87648578446081 L -76.93118326078016,38.876804784768595 L -76.93118526029076,38.87686078497315 L -76.93119826048377,38.877082785489804 L -76.93121326094499,38.877248784774366 L -76.93122526027432,38.87734878506745 L -76.93124726159604,38.87749878560559 L -76.93127432370662,38.87764433840203 L -76.93127574180855,38.87765196540863 L -76.93128426045543,38.877697784882095 L -76.93131726033306,38.877849785539624 L -76.9313542606028,38.87800278508909 L -76.93138226032518,38.87810478504907 L -76.93141225989983,38.878205785116826 L -76.93142926045186,38.87825578607424 L -76.93144426101514,38.87830478535968 L -76.93147726006727,38.87840278511947 L -76.93149526096074,38.87845078566229 L -76.93151226115008,38.87849978498412 L -76.9315812604318,38.8786717850219 L -76.93161626127394,38.87875278537543 L -76.93162526072807,38.87877678563445 L -76.93164026174382,38.878812785211416 L -76.9316882613262,38.87892078568217 L -76.93173926110659,38.879028785632535 L -76.93184026122486,38.87922078538455 L -76.93196326150607,38.879458785719116 L -76.93205326118391,38.87963078529349 L -76.93213767164022,38.879789973860355 L -76.93223726103432,38.879977785771494 L -76.93225601974149,38.88001455428129 L -76.93226226186708,38.88002678567118 L -76.9322902700667,38.88007954606111 L -76.93230526176517,38.88010778649621 L -76.93230917737836,38.88011538002692 L -76.93233826193959,38.88017178492378 L -76.93261426181084,38.88069578596771 L -76.93266826145623,38.880800785724404 L -76.93269626233246,38.880852786485185 L -76.93277726124951,38.88100978636414 L -76.93288626162304,38.88121578541078 L -76.93300426190007,38.8814337864371 L -76.93304226215501,38.88149878576077 L -76.93291126089609,38.88154778605428 L -76.93269626154375,38.88161578607197 L -76.9326402606577,38.88162778618481 L -76.93261226115172,38.88163278658169 L -76.93255426196032,38.88163878591128 L -76.93249526096598,38.8816407860331 L -76.93243726235569,38.88163778592139 L -76.93236926170718,38.88162978596243 L -76.9323302612037,38.88162278581024 L -76.93229326128416,38.88161478518421 L -76.93225526129622,38.881604785792454 L -76.93221926140436,38.881592786559985 L -76.93214926171702,38.881563786187755 L -76.93211626173702,38.88154678619339 L -76.93205426104777,38.88150978645642 L -76.93202826193576,38.88148978621067 L -76.93200326072086,38.8814687866085 L -76.93198126062865,38.881446786002044 L -76.93196126063805,38.88142278556739 L -76.93192926087049,38.88137678639824 L -76.9319152614694,38.88135478593742 L -76.93188526116452,38.88131278595844 L -76.93185023970656,38.88126682103808 L -76.93184152967311,38.881255388809585 L -76.93182126070805,38.881228785893654 L -76.93176626114897,38.881164786305014 L -76.93172526096744,38.8811197856921 L -76.93168026137577,38.88107578603481 L -76.93160926062025,38.88101278594938 L -76.9315322606866,38.88095178554476 L -76.93145226051297,38.88089478530655 L -76.9313982613155,38.88086078576621 L -76.9313462612859,38.88083178590799 L -76.9312932605337,38.8808037859325 L -76.93121726104549,38.88076878581864 L -76.93116726048993,38.88074678545337 L -76.93111626207903,38.8807257860988 L -76.93106426005075,38.88070578606119 L -76.9310122604399,38.880687785865135 L -76.9309592615278,38.88067078611288 L -76.9309052604325,38.8806547856753 L -76.93085339166953,38.880641583018374 L -76.93085026122456,38.88064078561123 L -76.93084226667665,38.88063904169469 L -76.93079526153932,38.88062878538426 L -76.93068326115119,38.88060778571219 L -76.93061125988922,38.88059578600448 L -76.93050126052474,38.88058378504276 L -76.93042726009686,38.88057878636899 L -76.93035326107496,38.88057678575515 L -76.93031626130853,38.88057678620673 L -76.93028426100125,38.880577786184496 L -76.93025326095521,38.88057978611947 L -76.93022126064562,38.88058078607996 L -76.93016626058045,38.88058478558971 L -76.93013926070402,38.88058578513931 L -76.93011126122889,38.88058878563699 L -76.93003426072552,38.880594785856786 L -76.93000925992041,38.88059778587424 L -76.92998326101485,38.88059978648234 L -76.92969126063669,38.880634786030356 L -76.92934180500662,38.8806788198668 L -76.92931826065832,38.880681785709896 L -76.92932425972883,38.880776785665596 L -76.92932397965534,38.880778108603934 L -76.92925225959983,38.8811167863983 L -76.92918875907971,38.8814193066102 L -76.92916326000032,38.88154078621033 L -76.92914226036135,38.881635786111325 L -76.92899225954993,38.88231178606756 L -76.92897525972364,38.88239278650298 L -76.92885925962,38.882919787268406 L -76.92884525971594,38.88298778645565 L -76.92869826069824,38.88366378658151 L -76.92867825989303,38.8837527868245 L -76.92855025992172,38.884341786819846 L -76.92840525993003,38.885015786655735 L -76.92825526002109,38.88569478675831 L -76.92810726003518,38.88636578724865 L -76.92809326103584,38.88642578798672 L -76.92808825992078,38.88645178648429 L -76.92795426082873,38.88704878749935 L -76.92790325981542,38.88727778742724 L -76.92780826004464,38.88771978699921 L -76.92769626047671,38.88823878803324 L -76.92766126060692,38.88839678745519 L -76.92764326108463,38.88847678818908 L -76.92760626100454,38.888659787422185 L -76.92750926024132,38.88862778804847 L -76.92734826031221,38.88856878784618 L -76.92723026069713,38.888520786989375 L -76.92711425980085,38.888469787468956 L -76.92700226105462,38.888415788290715 L -76.92694725943696,38.888387787384175 L -76.92687025952044,38.88834678766187 L -76.9268522602349,38.88836878780958 L -76.92684426082808,38.88838578780951 L -76.92683726002159,38.88841178780764 L -76.92683725957386,38.888429787680025 L -76.92685526023618,38.88851678839028 L -76.92695625987987,38.88892978734085 L -76.92706225946414,38.88934078718302 L -76.92713226051023,38.8896207876747 L -76.92715526126294,38.88977078703748 L -76.92711156417111,38.889770744014434 L -76.92617626087439,38.88976978786919 L -76.9260784325914,38.88976732188972 L -76.92605726032173,38.88976678769228 L -76.92605716666861,38.88976678763299 L -76.92550641157831,38.88976419911486 L -76.9249932602499,38.8897617881098 L -76.92478638944281,38.88976139553571 L -76.92446625975774,38.88976078809376 L -76.92406965218308,38.88976152638524 L -76.9239292585885,38.889761788056354 L -76.92288748657921,38.8897617879207 L -76.9228872589289,38.88976178889649 L -76.92278225895107,38.88976078772873 L -76.92272625903105,38.889761788349084 L -76.92230425819656,38.88975878788839 L -76.92162325841704,38.889758787861915 L -76.92125525796784,38.88975978802325 L -76.92088025845793,38.889757788124335 L -76.92070425820798,38.88975778870427 L -76.91975225815402,38.88975878766171 L -76.91939825675857,38.88975778835043 L -76.91928425738047,38.88975878782288 L -76.9188372576659,38.88975778838625 L -76.91844625791269,38.88976778785991 L -76.91778225751604,38.889767788567774 L -76.91762025738323,38.88976678766764 L -76.91724325747103,38.889767787984816 L -76.9166802571647,38.88976578876932 L -76.91616725669354,38.88976578937712 L -76.91556025631017,38.889767787805155 L -76.91472325611508,38.88976778781915 L -76.91461225643346,38.88976878773699 L -76.91417125554872,38.88976778777891 L -76.91403725535373,38.889768788264625 L -76.91379525549733,38.889768788399685 L -76.91367025611639,38.88976678799647 z\" /></g></svg>"
      ],
      "text/plain": [
       "<shapely.geometry.polygon.Polygon at 0x11fa8c208>"
      ]
     },
     "execution_count": 180,
     "metadata": {},
     "output_type": "execute_result"
    }
   ],
   "source": [
    "# Set some parameters\n",
    "level = 'Elementary'\n",
    "LOW, HI = 0, len(shapes[level].shapes())\n",
    "\n",
    "# Sample a shape\n",
    "random_integer = randint(LOW, HI)\n",
    "example_shape = shp.geometry.Polygon(shapes[level].shape(random_integer).points)\n",
    "print(f\"School boundary #{random_integer}\")\n",
    "example_shape"
   ]
  },
  {
   "cell_type": "markdown",
   "metadata": {},
   "source": [
    "#### Instantiate Geocoders to Convert Addresses\n",
    "\n",
    "Instantiate the Geocoder and use it to convert addresses into `Point` objects to allow for inclusion checking."
   ]
  },
  {
   "cell_type": "code",
   "execution_count": 181,
   "metadata": {},
   "outputs": [],
   "source": [
    "geocoder = Nominatim(user_agent=\"default\")"
   ]
  },
  {
   "cell_type": "markdown",
   "metadata": {},
   "source": [
    "Load contact data and information."
   ]
  },
  {
   "cell_type": "code",
   "execution_count": 182,
   "metadata": {},
   "outputs": [
    {
     "data": {
      "text/plain": [
       "Index(['First Name', 'Last Name', 'Organization', 'Title in Organization',\n",
       "       'EMAIL', 'CAREGIVER', 'EDUCATOR', 'PRESS', 'GOVERNMENT',\n",
       "       'LANGUAGE INDUSTRY', 'COMMUNITY PARTNER', 'STUDENT', 'TYPE',\n",
       "       'School(s) your child(ren) attend',\n",
       "       'Why do you care about language immersion?', 'panel attended',\n",
       "       'Street Address 1', 'Work', 'Cell', 'Other', 'City', 'State',\n",
       "       'Zip Code', 'How many children do you have?',\n",
       "       'What is your ward of residence?', 'Languages spoken',\n",
       "       'How did you hear about this event?', 'Type of resource', 'Website',\n",
       "       'NOTES', 'DC Immersion', 'DC DL Network', 'Elected Officials and staff',\n",
       "       'Events invited to', 'MEMBER_RATING', 'OPTIN_TIME', 'CONFIRM_TIME',\n",
       "       'LATITUDE', 'LONGITUDE', 'GMTOFF', 'DSTOFF', 'TIMEZONE', 'CC', 'REGION',\n",
       "       'LAST_CHANGED', 'LEID', 'EUID', 'In-Boundary School',\n",
       "       'Text Opt In Status', 'P2A Email Action', 'P2A Faceook Action',\n",
       "       'P2A Phone Action', 'P2A Twitter Action',\n",
       "       'Sign up for DC Immersion e-mails?'],\n",
       "      dtype='object')"
      ]
     },
     "execution_count": 182,
     "metadata": {},
     "output_type": "execute_result"
    }
   ],
   "source": [
    "raw_contacts = pd.read_csv(\"dc_language_immersion_contacts.csv\").drop_duplicates()\n",
    "raw_contacts.columns"
   ]
  },
  {
   "cell_type": "code",
   "execution_count": 183,
   "metadata": {},
   "outputs": [
    {
     "data": {
      "text/plain": [
       "True"
      ]
     },
     "execution_count": 183,
     "metadata": {},
     "output_type": "execute_result"
    }
   ],
   "source": [
    "# Check if EUID and LEID are actually unique identifiers\n",
    "(raw_contacts.EUID.unique().shape[0] == raw_contacts.LEID.unique().shape[0] == raw_contacts.shape[0])"
   ]
  },
  {
   "cell_type": "code",
   "execution_count": 184,
   "metadata": {},
   "outputs": [
    {
     "data": {
      "text/plain": [
       "(877, 6)"
      ]
     },
     "execution_count": 184,
     "metadata": {},
     "output_type": "execute_result"
    }
   ],
   "source": [
    "raw_contacts.TYPE = raw_contacts.TYPE.apply(lambda x: '; '.join([__.title() for __ in x.split(';') if __.strip()]))\n",
    "\n",
    "contacts = raw_contacts[raw_contacts['Street Address 1'].notnull()]\n",
    "contacts = contacts[['EUID', 'LEID', 'Street Address 1', 'City', 'State', 'Zip Code']]\n",
    "contacts.columns = ['euid', 'leid', 'address', 'city', 'state', 'zip']\n",
    "contacts.shape"
   ]
  },
  {
   "cell_type": "markdown",
   "metadata": {},
   "source": [
    "Some contacts' addresses have a DC street address, but out of state city and state designation. These functions help analyze the street address."
   ]
  },
  {
   "cell_type": "code",
   "execution_count": 18,
   "metadata": {},
   "outputs": [],
   "source": [
    "def n_tokens(addr):\n",
    "    return(len(addr.split()))\n",
    "\n",
    "def valid_quadrant(addr):\n",
    "    suffix = addr.split()[-1].upper()\n",
    "    if(suffix not in ['NW', 'NE', 'SE', 'SW']):\n",
    "        return(False)\n",
    "    return(True)"
   ]
  },
  {
   "cell_type": "code",
   "execution_count": 84,
   "metadata": {},
   "outputs": [
    {
     "data": {
      "text/html": [
       "<div>\n",
       "<style scoped>\n",
       "    .dataframe tbody tr th:only-of-type {\n",
       "        vertical-align: middle;\n",
       "    }\n",
       "\n",
       "    .dataframe tbody tr th {\n",
       "        vertical-align: top;\n",
       "    }\n",
       "\n",
       "    .dataframe thead th {\n",
       "        text-align: right;\n",
       "    }\n",
       "</style>\n",
       "<table border=\"1\" class=\"dataframe\">\n",
       "  <thead>\n",
       "    <tr style=\"text-align: right;\">\n",
       "      <th></th>\n",
       "      <th>euid</th>\n",
       "      <th>leid</th>\n",
       "      <th>address</th>\n",
       "      <th>city</th>\n",
       "      <th>state</th>\n",
       "      <th>zip</th>\n",
       "    </tr>\n",
       "  </thead>\n",
       "  <tbody>\n",
       "  </tbody>\n",
       "</table>\n",
       "</div>"
      ],
      "text/plain": [
       "Empty DataFrame\n",
       "Columns: [euid, leid, address, city, state, zip]\n",
       "Index: []"
      ]
     },
     "execution_count": 84,
     "metadata": {},
     "output_type": "execute_result"
    }
   ],
   "source": [
    "valid_quadrant_ = contacts.address.apply(valid_quadrant)\n",
    "not_washington_ = ~contacts.city.apply(lambda x: 'ashi' in str(x).lower())\n",
    "state_is_in_dc_ = contacts.state.str.lower() == 'dc'\n",
    "state_is_an_nan = contacts.state.isnull()\n",
    "\n",
    "contacts[valid_quadrant_ & not_washington_ & (state_is_in_dc_ | state_is_an_nan)]"
   ]
  },
  {
   "cell_type": "markdown",
   "metadata": {},
   "source": [
    "Replace `NaN` city names with Washington if the address is in Washington, DC. Assume that street addresses with quadrant information are in DC."
   ]
  },
  {
   "cell_type": "code",
   "execution_count": 85,
   "metadata": {},
   "outputs": [],
   "source": [
    "# contacts.loc[contacts[valid_quadrant_ & not_washington_ & (state_is_in_dc_ | state_is_an_nan)], 'city'] = 'Washington'\n",
    "# contacts.loc[contacts[valid_quadrant_ & not_washington_ & (state_is_in_dc_ | state_is_an_nan)], 'state'] = 'DC'\n",
    "contacts.loc[valid_quadrant_ & not_washington_ & (state_is_in_dc_ | state_is_an_nan), 'city'] = 'Washington'\n",
    "contacts.loc[valid_quadrant_ & (state_is_an_nan), 'state'] = 'DC'"
   ]
  },
  {
   "cell_type": "code",
   "execution_count": 86,
   "metadata": {},
   "outputs": [],
   "source": [
    "contacts.loc[state_is_in_dc_, 'city'] = 'Washington'"
   ]
  },
  {
   "cell_type": "markdown",
   "metadata": {},
   "source": [
    "Save this second dataset, which contains rows of contacts with a `state=='dc'`"
   ]
  },
  {
   "cell_type": "code",
   "execution_count": 87,
   "metadata": {},
   "outputs": [],
   "source": [
    "# df2 = contacts.copy()\n",
    "# df2.to_csv(\"contacts_washington_dc.csv\", index=False)"
   ]
  },
  {
   "cell_type": "code",
   "execution_count": 88,
   "metadata": {},
   "outputs": [
    {
     "data": {
      "text/plain": [
       "array(['Washington'], dtype=object)"
      ]
     },
     "execution_count": 88,
     "metadata": {},
     "output_type": "execute_result"
    }
   ],
   "source": [
    "contacts[state_is_in_dc_].city.unique()"
   ]
  },
  {
   "cell_type": "markdown",
   "metadata": {},
   "source": [
    "#### Address Analysis\n",
    "\n",
    "Discover different address types for regular expression normalization. All entries had a `state='DC'`."
   ]
  },
  {
   "cell_type": "code",
   "execution_count": 89,
   "metadata": {},
   "outputs": [
    {
     "data": {
      "text/plain": [
       "array(['6100 nebraska ave nw', 'Po box 2194', '8000 Blair Mill Drive',\n",
       "       '15505 Bounds Ave.', '22 Hesketh Street'], dtype=object)"
      ]
     },
     "execution_count": 89,
     "metadata": {},
     "output_type": "execute_result"
    }
   ],
   "source": [
    "contacts.address.unique()[:5]"
   ]
  },
  {
   "cell_type": "code",
   "execution_count": 90,
   "metadata": {},
   "outputs": [
    {
     "data": {
      "text/plain": [
       "(494, 6)"
      ]
     },
     "execution_count": 90,
     "metadata": {},
     "output_type": "execute_result"
    }
   ],
   "source": [
    "dc = contacts[state_is_in_dc_]\n",
    "dc.shape"
   ]
  },
  {
   "cell_type": "markdown",
   "metadata": {},
   "source": [
    "#### ZIP\n",
    "Examine the ZIP codes for all DC rows."
   ]
  },
  {
   "cell_type": "code",
   "execution_count": 91,
   "metadata": {},
   "outputs": [
    {
     "data": {
      "text/plain": [
       "array([nan, '20016', '20020', '20024', '20005', '20004', '20009', '20011',\n",
       "       '20019', '20045', '20001', '20006', '20036', '20010', '20017',\n",
       "       '20008', '20012', '20002', '20018', '20003', '20064', '20032',\n",
       "       '20772', '20040', '20015', '20853', '22204', '20013', '22311',\n",
       "       '20019-3802', '20912', '20903', '20037', '20007', '20910', '20090',\n",
       "       '21061', '20021'], dtype=object)"
      ]
     },
     "execution_count": 91,
     "metadata": {},
     "output_type": "execute_result"
    }
   ],
   "source": [
    "dc.zip.unique()"
   ]
  },
  {
   "cell_type": "markdown",
   "metadata": {},
   "source": [
    "#### City\n",
    "Examine the city names for all DC rows."
   ]
  },
  {
   "cell_type": "code",
   "execution_count": 92,
   "metadata": {},
   "outputs": [
    {
     "data": {
      "text/plain": [
       "array(['Washington'], dtype=object)"
      ]
     },
     "execution_count": 92,
     "metadata": {},
     "output_type": "execute_result"
    }
   ],
   "source": [
    "washington = ('Washington', re.compile(r\"\\w+?shingt\\w+?|DC|Wa\", re.IGNORECASE))\n",
    "dc[dc.city.apply(lambda x: len(washington[1].findall(str(x))) > 0)].city.unique()"
   ]
  },
  {
   "cell_type": "markdown",
   "metadata": {},
   "source": [
    "Define a function to get just the `StreetPostType` data from the street addresses."
   ]
  },
  {
   "cell_type": "code",
   "execution_count": 111,
   "metadata": {},
   "outputs": [],
   "source": [
    "def get_address_type(street_address):\n",
    "    try:\n",
    "        return(usaddress.tag(street_address)[-1])\n",
    "    except:\n",
    "        return(None)\n",
    "    "
   ]
  },
  {
   "cell_type": "code",
   "execution_count": 116,
   "metadata": {},
   "outputs": [
    {
     "name": "stderr",
     "output_type": "stream",
     "text": [
      "/Users/glenabastillas/anaconda3/lib/python3.6/site-packages/pandas/core/indexing.py:543: SettingWithCopyWarning: \n",
      "A value is trying to be set on a copy of a slice from a DataFrame.\n",
      "Try using .loc[row_indexer,col_indexer] = value instead\n",
      "\n",
      "See the caveats in the documentation: http://pandas.pydata.org/pandas-docs/stable/indexing.html#indexing-view-versus-copy\n",
      "  self.obj[item] = s\n"
     ]
    },
    {
     "data": {
      "text/plain": [
       "Street Address    478\n",
       "Ambiguous           9\n",
       "PO Box              4\n",
       "Name: address_type, dtype: int64"
      ]
     },
     "execution_count": 116,
     "metadata": {},
     "output_type": "execute_result"
    }
   ],
   "source": [
    "dc.loc[:,'address_type'] = dc.address.apply(get_address_type)\n",
    "dc.address_type.value_counts()"
   ]
  },
  {
   "cell_type": "markdown",
   "metadata": {},
   "source": [
    "##### Quadrant\n",
    "\n",
    "Check if the street address ends in a quadrant. Separate addresses into two variables."
   ]
  },
  {
   "cell_type": "code",
   "execution_count": 97,
   "metadata": {},
   "outputs": [
    {
     "data": {
      "text/plain": [
       "(396, 6)"
      ]
     },
     "execution_count": 97,
     "metadata": {},
     "output_type": "execute_result"
    }
   ],
   "source": [
    "dc_valid_quadrant = dc[dc.address.apply(valid_quadrant) & dc.city.isin([washington[0]])]\n",
    "dc_valid_quadrant.shape"
   ]
  },
  {
   "cell_type": "code",
   "execution_count": 98,
   "metadata": {},
   "outputs": [
    {
     "data": {
      "text/plain": [
       "(98, 6)"
      ]
     },
     "execution_count": 98,
     "metadata": {},
     "output_type": "execute_result"
    }
   ],
   "source": [
    "dc_invalid_quadrant = dc[~dc.address.apply(valid_quadrant) & dc.city.isin([washington[0]])]\n",
    "dc_invalid_quadrant.shape"
   ]
  },
  {
   "cell_type": "markdown",
   "metadata": {},
   "source": [
    "Some examples of tokens that end a street address."
   ]
  },
  {
   "cell_type": "code",
   "execution_count": 99,
   "metadata": {},
   "outputs": [
    {
     "data": {
      "text/plain": [
       "array(['#', '-', '1', '1615', '3rd', '4514', '4th', '9th', 'A', 'APT',\n",
       "       'Aprt', 'Apt', 'Apt.', 'Ave', 'Belmont', 'Bison', 'Box', 'C',\n",
       "       'Calvert', 'Cathedral', 'Columbia', 'Connecticut', 'D.C', 'DC',\n",
       "       'Dakota', 'Douglas', 'F', 'G', 'Hampshire', 'Manor',\n",
       "       'Massachussets', 'Mercury', 'Mintwood', 'NE', 'NE,', 'NW', 'NW,',\n",
       "       'Oakview', 'Osborn', 'Place', 'Pomeroy', 'Quebec', 'Rd.', 'SE',\n",
       "       'SE,', 'Suite', 'Unit', 'Virginia', 'Vista', 'York', 'apt', 'box',\n",
       "       'columbia', 'dc', 'florida', 'harvard', 'l', 'nw', 'sports'],\n",
       "      dtype=object)"
      ]
     },
     "execution_count": 99,
     "metadata": {},
     "output_type": "execute_result"
    }
   ],
   "source": [
    "dc_invalid_quadrant[dc_invalid_quadrant.address.apply(n_tokens) > 1].address.apply(lambda x: x.split()[-2]).sort_values().unique()"
   ]
  },
  {
   "cell_type": "markdown",
   "metadata": {},
   "source": [
    "The next cell investigates the type of suffixes for the valid quadrant data for regular expression development."
   ]
  },
  {
   "cell_type": "code",
   "execution_count": 101,
   "metadata": {},
   "outputs": [
    {
     "data": {
      "text/plain": [
       "array(['Alley', 'Av.', 'Ave', 'Ave,', 'Ave.', 'Avenue', 'Avenue,',\n",
       "       'Branch', 'CT', 'Ct', 'Dr', 'Dr.', 'Ln', 'PL', 'PL,', 'Pl',\n",
       "       'Place', 'Place,', 'Rd', 'Rd,', 'Road', 'ST', 'ST.', 'STREET',\n",
       "       'St', 'St.', 'St.,', 'Street', 'Street,', 'Waltman', 'Way', 'ave',\n",
       "       'dr', 'dr.', 'pl', 'place', 'road', 'st', 'st.', 'street',\n",
       "       'street,', 'way'], dtype=object)"
      ]
     },
     "execution_count": 101,
     "metadata": {},
     "output_type": "execute_result"
    }
   ],
   "source": [
    "dc_valid_quadrant[dc_valid_quadrant.address.apply(n_tokens) > 1].address.apply(lambda x: x.split()[-2]).sort_values().unique()"
   ]
  },
  {
   "cell_type": "markdown",
   "metadata": {},
   "source": [
    "##### Regular Expressions for Normalizing Addresses\n",
    "Regular expressions can be used to standardize the address names. First create a shorthand variable name for the two types of quadrant classifications."
   ]
  },
  {
   "cell_type": "code",
   "execution_count": 36,
   "metadata": {},
   "outputs": [],
   "source": [
    "dcv = dc_valid_quadrant\n",
    "dci = dc_invalid_quadrant"
   ]
  },
  {
   "cell_type": "markdown",
   "metadata": {},
   "source": [
    "Now create the regular expressions to detect the street entities and the replacement term. These post types were determined by examining the data."
   ]
  },
  {
   "cell_type": "code",
   "execution_count": 122,
   "metadata": {},
   "outputs": [],
   "source": [
    "import re\n",
    "\n",
    "types = [('alley',          r'all?e?y'), \n",
    "         ('avenue',         r'av(\\w+)?\\S?'), \n",
    "         ('boulevard',     r'b\\w{0,2}l\\w?v\\w?r?d'),\n",
    "         ('branch',         r'branch\\S?'), \n",
    "         ('court',          r'c[ou]{0,2}r?t\\S?'), \n",
    "         ('drive',          r'dr(ive)?\\S?'), \n",
    "         ('lane',           r'l\\w?n\\w?\\S?'), \n",
    "         ('place',          r'pl(ace)?\\S?'), \n",
    "         ('road',           r'r[oa]{0,2}d\\S?'), \n",
    "         ('street',         r'st(ree?t)?\\S?'), \n",
    "         ('way',            r'wa?y')]\n",
    "\n",
    "types_dict = dict([(a, re.compile(b, re.IGNORECASE)) for a, b in types])"
   ]
  },
  {
   "cell_type": "markdown",
   "metadata": {},
   "source": [
    "Test the regular expressions on an example."
   ]
  },
  {
   "cell_type": "code",
   "execution_count": 123,
   "metadata": {},
   "outputs": [],
   "source": [
    "# example = ' 2342 Nebraska av.'\n",
    "# [types_dict[key].sub(key, example) for key in types_dict.keys()]"
   ]
  },
  {
   "cell_type": "markdown",
   "metadata": {},
   "source": [
    "Define functions to normalize street address strings."
   ]
  },
  {
   "cell_type": "code",
   "execution_count": 124,
   "metadata": {},
   "outputs": [
    {
     "data": {
      "text/plain": [
       "'testreetng this street'"
      ]
     },
     "execution_count": 124,
     "metadata": {},
     "output_type": "execute_result"
    }
   ],
   "source": [
    "types_dict['street'].sub('street', 'testing this st.')"
   ]
  },
  {
   "cell_type": "code",
   "execution_count": 125,
   "metadata": {},
   "outputs": [],
   "source": [
    "def get_address_type(A):\n",
    "    \"\"\" See if input address `A` is a Street Address, PO Box, Ambiguous, or None \"\"\"\n",
    "    try:\n",
    "        return(usaddress.tag(A)[-1])\n",
    "    except:\n",
    "        return(None)\n",
    "\n",
    "def normalize_posttype(P, tdict=types_dict):\n",
    "    for key in tdict:\n",
    "        regex = tdict[key]\n",
    "        if(regex.findall(P)):\n",
    "            return(regex.sub(key, P))\n",
    "    return(P)\n",
    "\n",
    "def normalize_address(A):\n",
    "    try:\n",
    "        parsed, street_type = usaddress.tag(A)\n",
    "        A = parsed['AddressNumber'].replace('.', '')\n",
    "        B = parsed['StreetName'].replace('.', '')\n",
    "        \n",
    "        # Process StreetNames if numeric\n",
    "        B = B.lower() if B[0].isdigit() else B.title()\n",
    "        B = f\"{B}th\" if (B.isdigit()) else (f\"{B[:-2]}th\" if (B[:-2].isdigit()) else B)\n",
    "        B = f\"{B[:-2]}st\" if B[:-2].isdigit() and (B[:-2] == '1' or B[-3] == '1') else B\n",
    "        B = f\"{B[:-2]}nd\" if B[:-2].isdigit() and (B[:-2] == '2' or B[-3] == '2' and B[0] != '1') else B\n",
    "        \n",
    "        C = normalize_posttype(parsed['StreetNamePostType']).title()\n",
    "            \n",
    "        try:\n",
    "            D = parsed['StreetNamePostDirectional'].upper()\n",
    "        except:\n",
    "            D = 'NW'\n",
    "        return(f\"{A} {B} {C} {D}\".replace('.', ''))\n",
    "        \n",
    "    except:\n",
    "#         print(A)\n",
    "        return(None)"
   ]
  },
  {
   "cell_type": "markdown",
   "metadata": {},
   "source": [
    "Normalize the addresses of the original dataset `contacts`."
   ]
  },
  {
   "cell_type": "code",
   "execution_count": 126,
   "metadata": {},
   "outputs": [
    {
     "data": {
      "text/plain": [
       "Street Address    840\n",
       "Ambiguous          22\n",
       "PO Box              9\n",
       "Name: address_type, dtype: int64"
      ]
     },
     "execution_count": 126,
     "metadata": {},
     "output_type": "execute_result"
    }
   ],
   "source": [
    "contacts = contacts.assign(address_type=contacts.address.apply(get_address_type))\n",
    "contacts.address_type.value_counts()"
   ]
  },
  {
   "cell_type": "code",
   "execution_count": 127,
   "metadata": {},
   "outputs": [
    {
     "data": {
      "text/html": [
       "<div>\n",
       "<style scoped>\n",
       "    .dataframe tbody tr th:only-of-type {\n",
       "        vertical-align: middle;\n",
       "    }\n",
       "\n",
       "    .dataframe tbody tr th {\n",
       "        vertical-align: top;\n",
       "    }\n",
       "\n",
       "    .dataframe thead th {\n",
       "        text-align: right;\n",
       "    }\n",
       "</style>\n",
       "<table border=\"1\" class=\"dataframe\">\n",
       "  <thead>\n",
       "    <tr style=\"text-align: right;\">\n",
       "      <th></th>\n",
       "      <th>euid</th>\n",
       "      <th>leid</th>\n",
       "      <th>address</th>\n",
       "      <th>city</th>\n",
       "      <th>state</th>\n",
       "      <th>zip</th>\n",
       "      <th>address_type</th>\n",
       "      <th>address_norm</th>\n",
       "    </tr>\n",
       "  </thead>\n",
       "  <tbody>\n",
       "    <tr>\n",
       "      <th>602</th>\n",
       "      <td>c8af6d7e5a</td>\n",
       "      <td>587253041.0</td>\n",
       "      <td>3133 Connecticut Ave NW</td>\n",
       "      <td>Washington</td>\n",
       "      <td>DC</td>\n",
       "      <td>20008</td>\n",
       "      <td>Street Address</td>\n",
       "      <td>3133 Connecticut Avenue NW</td>\n",
       "    </tr>\n",
       "    <tr>\n",
       "      <th>1982</th>\n",
       "      <td>db1544ee94</td>\n",
       "      <td>581753621.0</td>\n",
       "      <td>2921 W St SE</td>\n",
       "      <td>Washington</td>\n",
       "      <td>DC</td>\n",
       "      <td>20020</td>\n",
       "      <td>Street Address</td>\n",
       "      <td>2921 W Street SE</td>\n",
       "    </tr>\n",
       "    <tr>\n",
       "      <th>610</th>\n",
       "      <td>7d77d939f7</td>\n",
       "      <td>587253085.0</td>\n",
       "      <td>2016 basil hall court</td>\n",
       "      <td>Gambrills</td>\n",
       "      <td>MD</td>\n",
       "      <td>21054</td>\n",
       "      <td>Street Address</td>\n",
       "      <td>2016 Basil Hall Court NW</td>\n",
       "    </tr>\n",
       "    <tr>\n",
       "      <th>1879</th>\n",
       "      <td>7f05d90387</td>\n",
       "      <td>587253853.0</td>\n",
       "      <td>1701 N Kent St</td>\n",
       "      <td>Arlington</td>\n",
       "      <td>VA</td>\n",
       "      <td>22209</td>\n",
       "      <td>Street Address</td>\n",
       "      <td>1701 Kent Street NW</td>\n",
       "    </tr>\n",
       "    <tr>\n",
       "      <th>1841</th>\n",
       "      <td>7a203c590b</td>\n",
       "      <td>584716629.0</td>\n",
       "      <td>2000 M St. NW</td>\n",
       "      <td>Washington</td>\n",
       "      <td>DC</td>\n",
       "      <td>NaN</td>\n",
       "      <td>Street Address</td>\n",
       "      <td>2000 M Street NW</td>\n",
       "    </tr>\n",
       "    <tr>\n",
       "      <th>914</th>\n",
       "      <td>175ebe60b6</td>\n",
       "      <td>587254629.0</td>\n",
       "      <td>301 G Street SW</td>\n",
       "      <td>Washington</td>\n",
       "      <td>DC</td>\n",
       "      <td>20024</td>\n",
       "      <td>Street Address</td>\n",
       "      <td>301 G Street SW</td>\n",
       "    </tr>\n",
       "    <tr>\n",
       "      <th>2132</th>\n",
       "      <td>885ef43b5e</td>\n",
       "      <td>587253729.0</td>\n",
       "      <td>209 N. Trenton St. #4</td>\n",
       "      <td>Arlington</td>\n",
       "      <td>VA</td>\n",
       "      <td>22203</td>\n",
       "      <td>Street Address</td>\n",
       "      <td>209 Trenton Street NW</td>\n",
       "    </tr>\n",
       "    <tr>\n",
       "      <th>815</th>\n",
       "      <td>22d1bb1a93</td>\n",
       "      <td>587255041.0</td>\n",
       "      <td>7140 Royal Fern Circle Apt 203</td>\n",
       "      <td>Manassas</td>\n",
       "      <td>VA</td>\n",
       "      <td>20111</td>\n",
       "      <td>Street Address</td>\n",
       "      <td>7140 Royal Fern Circle NW</td>\n",
       "    </tr>\n",
       "    <tr>\n",
       "      <th>1800</th>\n",
       "      <td>14eaeb1bb8</td>\n",
       "      <td>587253685.0</td>\n",
       "      <td>4201 wilson blvd</td>\n",
       "      <td>Arlington</td>\n",
       "      <td>VA</td>\n",
       "      <td>22203</td>\n",
       "      <td>Street Address</td>\n",
       "      <td>4201 Wilson Boulevard NW</td>\n",
       "    </tr>\n",
       "    <tr>\n",
       "      <th>1185</th>\n",
       "      <td>89da479f8a</td>\n",
       "      <td>233975861.0</td>\n",
       "      <td>3123 Queens Chapel Rd</td>\n",
       "      <td>Mount Rainier</td>\n",
       "      <td>MD</td>\n",
       "      <td>20712</td>\n",
       "      <td>Street Address</td>\n",
       "      <td>3123 Queens Chapel Road NW</td>\n",
       "    </tr>\n",
       "  </tbody>\n",
       "</table>\n",
       "</div>"
      ],
      "text/plain": [
       "            euid         leid                         address           city  \\\n",
       "602   c8af6d7e5a  587253041.0         3133 Connecticut Ave NW     Washington   \n",
       "1982  db1544ee94  581753621.0                    2921 W St SE     Washington   \n",
       "610   7d77d939f7  587253085.0           2016 basil hall court      Gambrills   \n",
       "1879  7f05d90387  587253853.0                  1701 N Kent St      Arlington   \n",
       "1841  7a203c590b  584716629.0                   2000 M St. NW     Washington   \n",
       "914   175ebe60b6  587254629.0                 301 G Street SW     Washington   \n",
       "2132  885ef43b5e  587253729.0           209 N. Trenton St. #4      Arlington   \n",
       "815   22d1bb1a93  587255041.0  7140 Royal Fern Circle Apt 203       Manassas   \n",
       "1800  14eaeb1bb8  587253685.0                4201 wilson blvd      Arlington   \n",
       "1185  89da479f8a  233975861.0           3123 Queens Chapel Rd  Mount Rainier   \n",
       "\n",
       "     state    zip    address_type                address_norm  \n",
       "602     DC  20008  Street Address  3133 Connecticut Avenue NW  \n",
       "1982    DC  20020  Street Address            2921 W Street SE  \n",
       "610     MD  21054  Street Address    2016 Basil Hall Court NW  \n",
       "1879    VA  22209  Street Address         1701 Kent Street NW  \n",
       "1841    DC    NaN  Street Address            2000 M Street NW  \n",
       "914     DC  20024  Street Address             301 G Street SW  \n",
       "2132    VA  22203  Street Address       209 Trenton Street NW  \n",
       "815     VA  20111  Street Address   7140 Royal Fern Circle NW  \n",
       "1800    VA  22203  Street Address    4201 Wilson Boulevard NW  \n",
       "1185    MD  20712  Street Address  3123 Queens Chapel Road NW  "
      ]
     },
     "execution_count": 127,
     "metadata": {},
     "output_type": "execute_result"
    }
   ],
   "source": [
    "contacts.loc[contacts.address_type.isin(['Street Address']),].assign(address_norm=contacts.address.apply(normalize_address)).sample(10)"
   ]
  },
  {
   "cell_type": "code",
   "execution_count": 136,
   "metadata": {},
   "outputs": [
    {
     "data": {
      "text/plain": [
       "(478, 7)"
      ]
     },
     "execution_count": 136,
     "metadata": {},
     "output_type": "execute_result"
    }
   ],
   "source": [
    "dc = contacts[state_is_in_dc_ & (contacts.address_type == 'Street Address')]\n",
    "not_dc = contacts[~state_is_in_dc_ & (contacts.address_type == 'Street Address')]\n",
    "dc.shape"
   ]
  },
  {
   "cell_type": "markdown",
   "metadata": {},
   "source": [
    "### Assign Dataset to `current`\n",
    "\n",
    "Assign which dataset to focus on with the `current` variable."
   ]
  },
  {
   "cell_type": "code",
   "execution_count": 138,
   "metadata": {},
   "outputs": [],
   "source": [
    "current = dc"
   ]
  },
  {
   "cell_type": "markdown",
   "metadata": {},
   "source": [
    "Continue to process the street addresses."
   ]
  },
  {
   "cell_type": "code",
   "execution_count": 139,
   "metadata": {},
   "outputs": [
    {
     "name": "stdout",
     "output_type": "stream",
     "text": [
      "(478, 7)\n"
     ]
    },
    {
     "data": {
      "text/plain": [
       "1191             1101 L Street NW\n",
       "1466            6439 2nd Place NW\n",
       "285     920 Westminster Street NW\n",
       "629          2872 Perry Street NE\n",
       "2288             2517 K Street NW\n",
       "883            1100 1st Street SE\n",
       "1165          1813 13th Street NW\n",
       "1517           1904 3th Street NW\n",
       "711            1413 Ives Place SE\n",
       "527         2142 Branch Avenue SE\n",
       "Name: address, dtype: object"
      ]
     },
     "execution_count": 139,
     "metadata": {},
     "output_type": "execute_result"
    }
   ],
   "source": [
    "current_st = current[current.address_type.isin(['Street Address'])]\n",
    "\n",
    "print(current_st.shape)\n",
    "current_st.address.sample(10).apply(normalize_address)"
   ]
  },
  {
   "cell_type": "code",
   "execution_count": 140,
   "metadata": {},
   "outputs": [],
   "source": [
    "current_st = current_st.assign(address_clean=current_st.address.apply(normalize_address))"
   ]
  },
  {
   "cell_type": "code",
   "execution_count": 147,
   "metadata": {},
   "outputs": [
    {
     "name": "stdout",
     "output_type": "stream",
     "text": [
      "1600 New York Avenue NW, Washington, DC, 20003\n"
     ]
    }
   ],
   "source": [
    "# address = \"1160 1st Street NE, Washington DC 20002\"\n",
    "address = ', '.join(current_st.sample()[['address_clean', 'city', 'state', 'zip']].iloc[0])\n",
    "location = geocoder.geocode(address)\n",
    "print(address)"
   ]
  },
  {
   "cell_type": "markdown",
   "metadata": {},
   "source": [
    "Get the location point coordinates and check for inclusion."
   ]
  },
  {
   "cell_type": "code",
   "execution_count": 148,
   "metadata": {},
   "outputs": [
    {
     "data": {
      "text/plain": [
       "False"
      ]
     },
     "execution_count": 148,
     "metadata": {},
     "output_type": "execute_result"
    }
   ],
   "source": [
    "location_point = shp.geometry.Point(tuple(location.point))\n",
    "example_shape.contains(location_point)"
   ]
  },
  {
   "cell_type": "markdown",
   "metadata": {},
   "source": [
    "#### Tester to Find School District for Address\n",
    "\n",
    "First design the logic then create the function definition."
   ]
  },
  {
   "cell_type": "code",
   "execution_count": 149,
   "metadata": {},
   "outputs": [
    {
     "name": "stdout",
     "output_type": "stream",
     "text": [
      "Your Senior_High school for 1600 New York Avenue NW, Washington, DC, 20003 is 1.\n"
     ]
    },
    {
     "data": {
      "image/svg+xml": [
       "<svg xmlns=\"http://www.w3.org/2000/svg\" xmlns:xlink=\"http://www.w3.org/1999/xlink\" width=\"100.0\" height=\"100.0\" viewBox=\"-77.05134939266084 38.788124026759704 0.09310955597534587 0.08589825698899034\" preserveAspectRatio=\"xMinYMin meet\"><g transform=\"matrix(1,0,0,-1,0,77.6621463105084)\"><path fill-rule=\"evenodd\" fill=\"#66cc99\" stroke=\"#555555\" stroke-width=\"0.0018621911195069174\" opacity=\"0.6\" d=\"M -76.98867727860566,38.86848178109721 L -76.98904727891484,38.86833678098112 L -76.98930727895697,38.868232781020986 L -76.98948127846681,38.86816078133752 L -76.98950627733187,38.86814878156857 L -76.98960527870821,38.868096780927345 L -76.98965327839637,38.868068780856525 L -76.98972727803957,38.86802278087318 L -76.98977327910144,38.867989781472 L -76.98983827736717,38.867935780597506 L -76.98987927876418,38.867897781614076 L -76.9900332777615,38.867739781137615 L -76.99020427799796,38.86755178161956 L -76.99023227814911,38.867524781251824 L -76.9902632795971,38.867500780928445 L -76.99029727815756,38.86747878071315 L -76.99033327853674,38.867458780520856 L -76.99035227860375,38.86744678119882 L -76.99038727784968,38.86742178123871 L -76.99043927958718,38.86738278077448 L -76.99050227783594,38.86732678061987 L -76.99055427848687,38.86726778086676 L -76.99091627808214,38.86681878078074 L -76.99094627874913,38.86678278099009 L -76.99108027940676,38.866613780531694 L -76.99110127888336,38.86658578060873 L -76.99125427906954,38.866393780660694 L -76.99150027832906,38.866093780938805 L -76.99162427893752,38.86594378066814 L -76.99171027816703,38.8658417800304 L -76.99171999750388,38.86582972183185 L -76.99190793033505,38.86587921765774 L -76.99190827822562,38.86587878077379 L -76.99212427928715,38.865626780653486 L -76.99220327899434,38.8655367811981 L -76.99225927877598,38.86547878030598 L -76.99231727897202,38.865421780578075 L -76.99240827968791,38.86533878074479 L -76.99243727926815,38.86531078053233 L -76.99249727886361,38.86525578014789 L -76.99255627414324,38.86520383971404 L -76.99255811651503,38.86520191991303 L -76.99256132797622,38.86519938875304 L -76.99258927853377,38.86517478066658 L -76.99268427859373,38.865096779975744 L -76.9928022788567,38.865004780423156 L -76.9928902793863,38.8649397810893 L -76.99298027943665,38.86487678111373 L -76.99308827970628,38.86480578040974 L -76.99316627882907,38.86475678034541 L -76.9932552783564,38.86469878033108 L -76.9933632789656,38.864633779538494 L -76.99339595554116,38.8646154503908 L -76.99340369766658,38.86461047818281 L -76.99341690161215,38.8646036989689 L -76.99348627912094,38.864564780309216 L -76.99357027892998,38.86452178047551 L -76.9938802790045,38.86436578037305 L -76.99388075864486,38.86436556081803 L -76.99392827975707,38.86434377982179 L -76.99402427956565,38.86430177965423 L -76.9941692791115,38.86424178023293 L -76.99426827918818,38.864203780313666 L -76.99431467697359,38.86418684675848 L -76.99431792495945,38.8641855091667 L -76.99431936529041,38.864185136513534 L -76.99440527883775,38.86415378011071 L -76.9944432793012,38.86414078052765 L -76.99451928003324,38.86411678006679 L -76.99459628013045,38.864094780597114 L -76.9946752790916,38.86407577984435 L -76.99499828035228,38.86400678007926 L -76.99507096971124,38.863990321976814 L -76.99526581072251,38.86393981984349 L -76.99529228023232,38.86393277970951 L -76.99549827936924,38.86387478038209 L -76.99596928037454,38.863771779579515 L -76.9968750537654,38.86359499573765 L -76.99688091507768,38.86359374372425 L -76.99687607225064,38.863590408791424 L -76.99688115488779,38.863593698688575 L -76.99688128018937,38.86359378089374 L -76.99689414640471,38.863591236358566 L -76.99740727979032,38.86348978031077 L -76.99804228043396,38.86337278008648 L -76.9985612804803,38.86327177961706 L -76.99875080858531,38.863239370634275 L -76.99909928128898,38.8631797803374 L -76.99929228224616,38.863136779980586 L -76.99947028102204,38.86309377980066 L -76.99954828090456,38.8630747796845 L -76.9997382819574,38.86302378022893 L -76.99996428102612,38.86295377947367 L -77.00016313481197,38.86289394713689 L -77.00019028181734,38.86288578040116 L -77.0001938882632,38.86288476694808 L -77.00024728136653,38.86286978021637 L -77.0002832809893,38.862858779166096 L -77.00038628127717,38.86281777986795 L -77.00047628216362,38.86276177926377 L -77.0005182810489,38.86273678015983 L -77.00056128162943,38.86271378034174 L -77.00057767185338,38.86270558428973 L -77.00060528101874,38.862691779873956 L -77.0007692809907,38.86261578050798 L -77.00077526815937,38.86261283696747 L -77.00088528103583,38.862558779477546 L -77.00103528098062,38.86248077997281 L -77.00117228151595,38.8624047797118 L -77.00130528063343,38.8623247801589 L -77.00134351917923,38.86230058311065 L -77.00135628551877,38.86229250409986 L -77.00143328172307,38.86224377945437 L -77.001555281677,38.862162779814646 L -77.00171428157792,38.862050780410726 L -77.0017775286138,38.86200334450451 L -77.00179890234683,38.86198731256802 L -77.00186628200363,38.86193677990514 L -77.00191428183189,38.86189877879757 L -77.00204528146013,38.86179077913259 L -77.0021562823317,38.86169077916711 L -77.00219128157573,38.86165778010898 L -77.00224528137055,38.86160477973105 L -77.00235128227797,38.86149577913518 L -77.00240228173176,38.86144077887428 L -77.00245228298304,38.86138477980298 L -77.00251828092031,38.861307780047895 L -77.0025822817478,38.86122877930327 L -77.0026442826232,38.8611487791962 L -77.002703282585,38.86106777862688 L -77.00275928232254,38.86098477935423 L -77.00281228192023,38.86090178012596 L -77.00286328299066,38.86081677992589 L -77.00291128177672,38.860731778651214 L -77.00296828156503,38.86062177875681 L -77.00300627580647,38.860542777866364 L -77.00331228125356,38.86065677904046 L -77.00344459778938,38.86069569553214 L -77.00344828267237,38.86069677868596 L -77.00353528261473,38.86054977947239 L -77.00361828216684,38.86042077914167 L -77.00373728250771,38.86023377969026 L -77.00374115495035,38.8602278092343 L -77.00380928189628,38.86012278008589 L -77.00409628191078,38.85967677855377 L -77.0042022824841,38.85949977784766 L -77.00427028186273,38.8593797786742 L -77.00436628272509,38.8591987789987 L -77.00442628183613,38.85907677846818 L -77.00445501057494,38.85901376175951 L -77.00445902961349,38.85900494461088 L -77.00448828245347,38.858940778736134 L -77.00450228267111,38.85890777921275 L -77.00451828245872,38.858872779176856 L -77.00457728267668,38.85873477963879 L -77.00466128205642,38.85852877841427 L -77.00471428327972,38.85838977854027 L -77.0047782824275,38.85819977811542 L -77.00483828258425,38.85800977894132 L -77.00489428155271,38.85781877883692 L -77.00497328238912,38.857531778301016 L -77.00499728245919,38.85743477791822 L -77.00507378576854,38.85714536258138 L -77.00539828245708,38.855917778005455 L -77.00547706281621,38.855654651637536 L -77.00549828197806,38.855583777385995 L -77.00557441406525,38.85529466906229 L -77.0055772819368,38.85528377885983 L -77.00569128222187,38.85489877726819 L -77.0057702822629,38.85456577731731 L -77.00584128243378,38.85431077888608 L -77.00589328282447,38.85415077808687 L -77.00602101106439,38.85381082207091 L -77.00602328301936,38.85380477842191 L -77.00602636718205,38.85379869306694 L -77.0061662828099,38.853522777188125 L -77.00626528205952,38.853364777522906 L -77.00638028295717,38.85318977742016 L -77.00641541753939,38.853136435437 L -77.00642303006711,38.85312347638756 L -77.00621306935747,38.852980522232535 L -77.00620528274355,38.8529707772112 L -77.00620339003918,38.8529739319525 L -77.00594794582834,38.85280000873197 L -77.00405687650087,38.85151245234045 L -76.99994287798327,38.84871138419649 L -76.9995958856699,38.84851030163305 L -76.99933228123508,38.84859377713372 L -76.99907227994167,38.84855177689003 L -76.9973242804944,38.84851077730678 L -76.99599427932934,38.848485776882946 L -76.99598827931248,38.84868377654974 L -76.99596027891434,38.849520776665024 L -76.99591127927437,38.850989777430286 L -76.99589828010173,38.851465777088094 L -76.9958852785678,38.85185477774872 L -76.99587227894159,38.85222077759832 L -76.99586927929342,38.85235777775891 L -76.99587127887851,38.852493778156976 L -76.99587827910774,38.85262977760252 L -76.99588927916048,38.85276577774846 L -76.99591027943893,38.85305977827555 L -76.99596827935362,38.85384877765269 L -76.99598827975473,38.8541237781708 L -76.99603327996617,38.854706778336485 L -76.99606027956443,38.85507777793892 L -76.9960752797539,38.85528877839211 L -76.99610027999049,38.85557077910604 L -76.99610727942877,38.85566877809959 L -76.99610927947006,38.85576677805079 L -76.99610527992121,38.855864778926524 L -76.99609528003742,38.85596277847407 L -76.99607727939431,38.856074777974776 L -76.99248027797618,38.853571777727815 L -76.99217327842595,38.85375877823703 L -76.99213427897797,38.85373577821579 L -76.99205327867706,38.853692777737706 L -76.99200927787432,38.85366977846009 L -76.99186527716736,38.85359777819492 L -76.99173227704091,38.85354277800549 L -76.9915772783621,38.853481778152506 L -76.99135118953777,38.85340244913474 L -76.99134927862802,38.85340177786499 L -76.99134300586105,38.85339981806604 L -76.99110927785827,38.8533267781502 L -76.99096227827202,38.853283778061844 L -76.99059327761746,38.85317977865559 L -76.99032127805714,38.853112778165645 L -76.9901252775524,38.85306177852869 L -76.98990527732037,38.85301377798728 L -76.98922827798053,38.852900777644656 L -76.98869108548213,38.85282152020305 L -76.98867927716802,38.85281977817906 L -76.98861623313397,38.85281428309871 L -76.98804827708453,38.852764777928904 L -76.98766641383952,38.85273778780025 L -76.98766627703385,38.85273778215554 L -76.98708827639086,38.85271977768682 L -76.98647065246719,38.85272867227407 L -76.98646327568785,38.85272877839425 L -76.98645765865226,38.85272900013861 L -76.98590727682952,38.852750778769746 L -76.98551427622297,38.852787778983945 L -76.9853460811804,38.8528076215921 L -76.98533627549442,38.85280877850778 L -76.98512142311736,38.852833698495004 L -76.98501727599735,38.85284577843633 L -76.98478727592105,38.85287777818151 L -76.98460180328223,38.85291050909597 L -76.98460027530572,38.85291077858444 L -76.98459944866052,38.852910977223935 L -76.98440527616606,38.8529577784141 L -76.98422927590887,38.85300377886022 L -76.98401127632766,38.85306577846765 L -76.98383922368517,38.85312060825598 L -76.98381899776813,38.85312705436679 L -76.98364727535267,38.853181778068375 L -76.98344027510554,38.85325477857044 L -76.98330527456419,38.853304778106114 L -76.98323896886251,38.85332938752744 L -76.98282027507608,38.85348477900207 L -76.98241727607287,38.8536357785991 L -76.98215627521104,38.85372777815619 L -76.98195827433604,38.85380177902445 L -76.98175127451262,38.8538677786624 L -76.98164527568866,38.853898779204826 L -76.98153527469483,38.85393277826285 L -76.98134219394026,38.85398272803808 L -76.98131171657663,38.85399061229811 L -76.98107527482699,38.854051779189184 L -76.98074127480518,38.854117777775414 L -76.98052427538856,38.85415877800248 L -76.98019627471089,38.8542007786936 L -76.97997627472705,38.85422477848246 L -76.97974827466068,38.8542417786072 L -76.97946227427249,38.854256778924686 L -76.97923327373587,38.85425677895748 L -76.97894927446725,38.8542537789651 L -76.97870727365503,38.85424577838653 L -76.97854527426654,38.85423477871382 L -76.97827827363477,38.854204778563954 L -76.97809227491904,38.8541827790045 L -76.97773865135781,38.85412252453391 L -76.9777342736917,38.85412177881447 L -76.97773023806386,38.854120985302835 L -76.97742927409081,38.85406177814825 L -76.97725627429512,38.85402177866947 L -76.97723927307393,38.85401777955394 L -76.97719827416988,38.85400677845247 L -76.97682361894697,38.8539043345531 L -76.97681427284778,38.85390177880708 L -76.97680856421421,38.85389987520509 L -76.97642127346903,38.853770778870505 L -76.97617227298538,38.85367177857355 L -76.97598627392642,38.853594778613164 L -76.97595227346979,38.85357977933138 L -76.97586627311834,38.85354077928386 L -76.97575927299033,38.853545779319 L -76.9756702729815,38.85353877814584 L -76.9755942735659,38.85352277850977 L -76.97549127337048,38.853489779314295 L -76.97509127263312,38.853321778038925 L -76.97503727218498,38.85329777873808 L -76.97492727221484,38.85325077900492 L -76.97460127225327,38.85310577805499 L -76.97454927277833,38.85308677808023 L -76.97452227309893,38.85307777896003 L -76.97446727327497,38.85306277860136 L -76.97441027249052,38.85304977877644 L -76.97438227271459,38.85304477858603 L -76.97435327173002,38.85304077866808 L -76.97431427229863,38.85303677823284 L -76.97421027286755,38.853032778083694 L -76.97405327253294,38.853025778090775 L -76.97362427203475,38.85302677817883 L -76.97329627265245,38.85303177818412 L -76.97321127255525,38.85302877860994 L -76.97304327292046,38.8530277782923 L -76.97220827154817,38.853021778835526 L -76.97123427136036,38.85302277933376 L -76.9701562721416,38.85302277957753 L -76.97011527161739,38.853024779096856 L -76.96997828286315,38.853043777646434 L -76.96997827173749,38.853090778582256 L -76.96997830387376,38.85309140974388 L -76.9699812715106,38.85314877902595 L -76.96997927246024,38.85358077904432 L -76.96997927204438,38.85415877863967 L -76.96997859821943,38.85435876508731 L -76.96997827155909,38.85445577905412 L -76.96997864146547,38.854493923662844 L -76.9699792723192,38.854558779463254 L -76.96997873126713,38.8546536426088 L -76.96997727200075,38.854909779513235 L -76.96997897631132,38.85509484858673 L -76.96997927178816,38.85512677960743 L -76.96997899521608,38.85512694450319 L -76.96992727188855,38.855157779436325 L -76.9698952706813,38.85516877949145 L -76.96985527200906,38.85517577885621 L -76.96913227078745,38.855170778323696 L -76.9684462706015,38.85517077905691 L -76.96812627056933,38.85517177934306 L -76.96792527128946,38.8551677797325 L -76.96787527124381,38.85516577962721 L -76.9678242705872,38.85516477972356 L -76.96762327171838,38.85515677872392 L -76.96745026998336,38.855147780183714 L -76.96733427061831,38.85513977983079 L -76.96720127061619,38.85512877984797 L -76.96704627037313,38.855113778830436 L -76.96680626967314,38.85508577908035 L -76.9666272701881,38.855062779076945 L -76.9664062697254,38.85503078024916 L -76.9662382710394,38.85500277919348 L -76.96607127047041,38.85497177950454 L -76.96597527016273,38.85495677899293 L -76.96593526997533,38.85494677979474 L -76.96588726996248,38.85493677880878 L -76.96585227035472,38.85492577941808 L -76.96582226986993,38.85491077948499 L -76.96571027028536,38.85484877933864 L -76.96562627058651,38.85473377947006 L -76.96557527017086,38.85466877931044 L -76.96550927020355,38.854590778909476 L -76.9654392700134,38.85451077910341 L -76.96535627070499,38.85441777904618 L -76.96530327016924,38.85436077991019 L -76.96519527023756,38.8542487797143 L -76.96508326979294,38.854138778654935 L -76.96487527008021,38.85394077961444 L -76.9648382692319,38.8539037787277 L -76.96468726885203,38.85375977952899 L -76.96465027035448,38.853722779708285 L -76.9643452701517,38.85343277926548 L -76.96399326971999,38.853092779668856 L -76.96352227007507,38.852641779356645 L -76.96321826880475,38.85235377891478 L -76.96305327000739,38.85220077935661 L -76.96301826978052,38.852170778632036 L -76.96298126954262,38.852141779451074 L -76.96294226929602,38.85211377899669 L -76.96290226936063,38.85208777921021 L -76.96285926857611,38.852062778954604 L -76.96281626894005,38.852039778556026 L -76.96277026865204,38.85201877874646 L -76.96272426950684,38.851999778791715 L -76.96261126881113,38.851961779422936 L -76.9625632687189,38.85194977888106 L -76.96249726920959,38.85193677879598 L -76.96246426867499,38.85193177920673 L -76.96239627012503,38.85192477916583 L -76.96232826875732,38.851921779392825 L -76.96229426980366,38.85192177911499 L -76.96168833875865,38.851946416981875 L -76.97484169409951,38.841690301266446 L -76.98797557356924,38.83144494629268 L -77.00109873048349,38.82120428601707 L -77.0142527398652,38.810927431400756 L -77.02373948878733,38.80351442046184 L -77.039020445771,38.791572528832866 L -77.03897628940577,38.79318676376308 L -77.03897928903683,38.79329676408149 L -77.03899028944143,38.79368076478678 L -77.0389912896369,38.79370876404974 L -77.03901128947116,38.79441776421888 L -77.0390122890983,38.794548765162396 L -77.03901728963837,38.79474176418586 L -77.03907628932126,38.796883764760494 L -77.03907629042091,38.79691076496232 L -77.03908228897133,38.79716776512218 L -77.03908628950037,38.7972957651719 L -77.03909428954927,38.797578765463584 L -77.03909628948037,38.7975967654893 L -77.03910028953138,38.79765676534214 L -77.039116289877,38.79817676504484 L -77.03916028890049,38.79951476517197 L -77.03916629029935,38.79974976532238 L -77.03917718577893,38.8000148995346 L -77.03918472766833,38.80054882284681 L -77.0391322899129,38.80082476597655 L -77.03896928956854,38.80168476586906 L -77.03896828943479,38.80168476564012 L -77.03862228917217,38.80348776637527 L -77.03841528902274,38.80456276706048 L -77.03838028898184,38.8047467665454 L -77.03831828911473,38.80505176582425 L -77.03818528944474,38.805709767295596 L -77.03800228989012,38.80658876729264 L -77.03772228950136,38.80815176794769 L -77.03764428996799,38.80858176703259 L -77.03762220875224,38.808703587614886 L -77.03748328309796,38.80940577819197 L -77.03705485130844,38.81098106839698 L -77.03649457706105,38.812986760615 L -77.03613146499542,38.81428050181683 L -77.03614000151572,38.81481249548204 L -77.03812910297988,38.81559638460818 L -77.03813820824591,38.8156127770795 L -77.03814742919117,38.81563016044589 L -77.03815584354292,38.8156464630568 L -77.03816425760961,38.81566222515791 L -77.03817232696484,38.815679338644216 L -77.03818108666927,38.815695460970424 L -77.03818927175622,38.81571365543612 L -77.03819722698911,38.815732660740295 L -77.03820506621285,38.815750044554164 L -77.03821255937582,38.81576625737741 L -77.03822039783567,38.815782199832455 L -77.03822846755538,38.81579994390858 L -77.03823630722819,38.815818138483834 L -77.03824391588924,38.815834981861194 L -77.0382512937791,38.815850924464954 L -77.0382586714309,38.815866416643885 L -77.0382662787508,38.8158807376437 L -77.03827123380118,38.815887762638454 L -77.03827400097855,38.81589460818095 L -77.03828022519798,38.81590640725714 L -77.03828875345478,38.815920277528896 L -77.03829682209597,38.8159359496483 L -77.03830558137679,38.81595117111596 L -77.03831238409258,38.81596810483795 L -77.03831930234459,38.815985759200565 L -77.03832668012184,38.816001431544606 L -77.0383342877598,38.81601629304881 L -77.03834270094221,38.816030253439095 L -77.03835019339182,38.81604502489517 L -77.03835734059871,38.81606015680373 L -77.03836402586776,38.816072766487366 L -77.03836863627609,38.816081232949 L -77.03837324591095,38.81608825805278 L -77.03837866341189,38.81609870611563 L -77.03838408130177,38.816109874857055 L -77.03838926919083,38.81612158418309 L -77.03839445824389,38.816135455545286 L -77.03839757577437,38.8161513995409 L -77.0384013837984,38.816166622630234 L -77.03840783908264,38.81617977289605 L -77.03841417835031,38.816191301672085 L -77.03842063266983,38.81620265024017 L -77.03842743267381,38.81621444911834 L -77.03843400335626,38.816228049768945 L -77.03844034462058,38.81624327202232 L -77.03844461305172,38.81625813461888 L -77.03844819084644,38.816273447867154 L -77.03845165388384,38.816289481832015 L -77.03845454220725,38.81630740776831 L -77.03845766237826,38.816328216343734 L -77.038460091427,38.81634857472251 L -77.03846274994618,38.81636740158283 L -77.0384655234197,38.81638586806571 L -77.0384686433061,38.8164061361315 L -77.03847176377671,38.816427485215314 L -77.03847407739461,38.81644730312241 L -77.0384762747018,38.81646495903099 L -77.03847858710861,38.8164825248167 L -77.03848078485494,38.816500991488695 L -77.03848252167379,38.81651882771863 L -77.03848379669103,38.81653441197924 L -77.03848437985445,38.81654819477077 L -77.03848473228672,38.81656116687462 L -77.03848681231666,38.81657485908752 L -77.03849142723892,38.81659161334937 L -77.0384948908356,38.81660863824547 L -77.03849650901687,38.816619988404035 L -77.03849754937363,38.81662746510425 L -77.03849928275174,38.81663890530964 L -77.03850159390714,38.816654128888416 L -77.03850494386757,38.81667394645223 L -77.03850921675843,38.8166970067662 L -77.03851256701446,38.81671736483869 L -77.0385166073803,38.81673628132546 L -77.03851995725157,38.81675591871887 L -77.03852434442496,38.81677735746683 L -77.03852953637089,38.81679645374249 L -77.03853276939965,38.81681293820393 L -77.03853519654191,38.81682969318596 L -77.0385380858804,38.8168494208155 L -77.03854028530627,38.81687095036997 L -77.03854144699346,38.81688986780631 L -77.03854260605588,38.816903920661105 L -77.03854376200697,38.81691220808612 L -77.03854526529818,38.816924008705726 L -77.03854769298204,38.816941754620444 L -77.03854908506537,38.81696085215004 L -77.0385503607858,38.816977697596656 L -77.0385524413754,38.816992380740686 L -77.03855417559797,38.81700535238689 L -77.03855567908732,38.817017513345554 L -77.0385551086972,38.817027422868115 L -77.03855212019839,38.817037333189674 L -77.03854751933434,38.817046703534665 L -77.03854176606488,38.81705436264785 L -77.03853866197753,38.81706346224349 L -77.03853970467868,38.81707526301504 L -77.03854523839944,38.81708751272734 L -77.03855549319522,38.817099760879394 L -77.0385658640183,38.81711363051956 L -77.0385756600778,38.817129302045856 L -77.03858418994936,38.817145784753734 L -77.03858995568339,38.81716118735691 L -77.03859318635715,38.81717325765872 L -77.03859411061016,38.81717893269874 L -77.03859872744684,38.81719911017861 L -77.03859953635761,38.81720442491732 L -77.0386032306473,38.817222080326275 L -77.03860911378024,38.817241626792715 L -77.03861614878996,38.81726189355637 L -77.03862398998876,38.81728243030721 L -77.03863413557448,38.817305578755196 L -77.03864301370459,38.817327196179534 L -77.03865131541487,38.817347552606115 L -77.03865927173307,38.817367999231365 L -77.03866699961199,38.81739186915603 L -77.03867369071943,38.81741492866006 L -77.03868026575537,38.81743627658998 L -77.03868626549095,38.81745843547386 L -77.03869330298437,38.81748320647382 L -77.03870033940869,38.81750599560696 L -77.03870659390408,38.81752280786929 L -77.03871329043253,38.817567769810516 L -77.03870229071666,38.817596768956804 L -77.03870429162531,38.81760376957482 L -77.03871329008574,38.81765076835848 L -77.03874529070002,38.81764276889995 L -77.03876096779832,38.81766582372474 L -77.03876306933805,38.817669929206566 L -77.03877067768475,38.81768560144196 L -77.03877568996712,38.81769564986701 L -77.03875429087933,38.817712769155904 L -77.03875329079098,38.81774376937251 L -77.03878029063142,38.81781576915968 L -77.03879128989004,38.81786277008595 L -77.03882829034224,38.81788277012718 L -77.03883929108099,38.817929768795864 L -77.03881429077894,38.81795376952363 L -77.03880229159317,38.81798576883536 L -77.03881129007803,38.81800876900695 L -77.03885246530571,38.81804030695649 L -77.03885239848198,38.818044472276576 L -77.03885091226945,38.81806420135167 L -77.03885196008481,38.81808528085552 L -77.03885196802986,38.818085333214675 L -77.03884629009653,38.818121768792786 L -77.03882329080983,38.81814376897209 L -77.03882229098947,38.81814476924649 L -77.03885829126746,38.818172770269925 L -77.03886744356416,38.81820854779368 L -77.03886481676183,38.818223196463414 L -77.03886160187778,38.81824031365352 L -77.03885999977845,38.81825869149415 L -77.03886012517364,38.818277519183546 L -77.03886174702943,38.81829544552611 L -77.03886463538981,38.81831310119228 L -77.03886855995549,38.818330486258624 L -77.03887375186119,38.81834913209029 L -77.038878599349,38.81836966981804 L -77.03888390660653,38.81838867595005 L -77.03888990457203,38.818407321512225 L -77.03889590195195,38.818424886056185 L -77.03890224596336,38.81844461252028 L -77.03890442155546,38.81845116434063 L -77.0389112898297,38.818476768664894 L -77.03891876418254,38.818494623238536 L -77.03891897034705,38.81849523462057 L -77.0389223190367,38.81851234962223 L -77.03892658917687,38.81852991474049 L -77.03893235671714,38.81854829012244 L -77.03893789292798,38.818564773799764 L -77.03894331349954,38.818580356667 L -77.03894930987526,38.818596029426594 L -77.03895599833648,38.818613863990805 L -77.03896222639517,38.81863205904764 L -77.03896591942295,38.818647101981504 L -77.03896892036856,38.81865998311041 L -77.03897249657703,38.81867196319876 L -77.0389763029405,38.81868367295558 L -77.03897976365641,38.81869502248838 L -77.03898241885943,38.818707363223346 L -77.0389831157631,38.818718353340024 L -77.03898219957306,38.818727542298944 L -77.0389795556296,38.81873583098677 L -77.0389763353416,38.81874303884904 L -77.03897438067912,38.818748354506994 L -77.03897380551521,38.81874943571711 L -77.03896207463413,38.81877601465998 L -77.03897416733923,38.818779433845044 L -77.03897548242094,38.818779805568724 L -77.03897229078495,38.81878676906615 L -77.03906781587439,38.818821428789924 L -77.03905124630127,38.81885814221578 L -77.03906801499897,38.81886310478085 L -77.03906329117855,38.818872769649516 L -77.0391189604739,38.818891641224994 L -77.0390984988849,38.818932446376195 L -77.0390190332205,38.81891157329629 L -77.03902007415763,38.8189199508373 L -77.03901938595843,38.818924905733006 L -77.03901823764706,38.8189307616309 L -77.03901731958847,38.81893652736693 L -77.03901455916137,38.81894238380384 L -77.03900995670986,38.818948961535135 L -77.03900362694156,38.81895544975881 L -77.03899626086113,38.81896202841329 L -77.03898739766694,38.81896833731307 L -77.03897772865912,38.818975096905504 L -77.03896759963459,38.8189829376687 L -77.03895758620139,38.81899158915586 L -77.03894745776189,38.819000510934984 L -77.0389375595241,38.8190092524668 L -77.03892800644289,38.81901745337362 L -77.0389189138662,38.819025473956366 L -77.03891039773083,38.819034755533806 L -77.03890257259899,38.81904421704986 L -77.03889532385926,38.81905484947596 L -77.03888865092296,38.81906557179458 L -77.03888220779673,38.81907539318789 L -77.0388748433111,38.819084944633374 L -77.03886782491479,38.81909566706582 L -77.0388620740148,38.81910792051771 L -77.03885839618091,38.819120803872735 L -77.0388562148237,38.81913278588103 L -77.03885426406268,38.819145308321424 L -77.03885300474879,38.81915882146463 L -77.0388527822388,38.819173145026 L -77.03885129203302,38.81918557722813 L -77.03884922562816,38.81919719885857 L -77.03884750502024,38.81920945096764 L -77.03884693646629,38.81922269362621 L -77.03884671307267,38.819235395660854 L -77.03884856152551,38.819246475478856 L -77.0388499812765,38.819252699867555 L -77.03886696290505,38.81928245936423 L -77.03886929046115,38.81933676960303 L -77.03890129078687,38.819375769045394 L -77.03890729070793,38.81940576923204 L -77.03889429074397,38.819434770181175 L -77.03892229053248,38.819480769415186 L -77.03892129136557,38.81950676935387 L -77.03892528986627,38.8195117694167 L -77.03894429065355,38.81954076982583 L -77.03896229056011,38.81954376870864 L -77.03898529094863,38.81954676929627 L -77.03902729132713,38.81953376952914 L -77.03913429128963,38.8196137701134 L -77.03921829055352,38.81967676975476 L -77.03927929073099,38.81973377011118 L -77.03934229076663,38.81979676884678 L -77.03937629058592,38.81982476925205 L -77.039431290665,38.81985276987195 L -77.03949829140967,38.819874769007576 L -77.03955729068797,38.819882769385 L -77.0395602159701,38.8198835008954 L -77.03974404309469,38.820021182613466 L -77.03996750605664,38.82065423133769 L -77.03979284945756,38.82102391967341 L -77.03974229065597,38.82106876929383 L -77.03967529097712,38.821098770062946 L -77.03962329085316,38.821128769642236 L -77.03957029138148,38.82114777018328 L -77.03955529099638,38.82116976947261 L -77.03954929028319,38.821215770493396 L -77.03954628989923,38.821262769874906 L -77.03954429135614,38.82128376988133 L -77.03951829192468,38.82129876992553 L -77.0395182902583,38.821321769700575 L -77.03951029052475,38.821343769990605 L -77.03950029107406,38.82136777027636 L -77.03948829034138,38.82141177062595 L -77.03946129042782,38.82143977023147 L -77.03944629105274,38.821463769950945 L -77.03946129040948,38.821564770201576 L -77.0394942908709,38.82159176983577 L -77.039490290925,38.82161177001337 L -77.03949829060174,38.82166377044069 L -77.03955629089909,38.82170677022231 L -77.03958629081308,38.82171277039336 L -77.03963629123996,38.82173977041171 L -77.03966029167361,38.82177577027339 L -77.03971329125913,38.82182477019672 L -77.0397662912795,38.82183176975188 L -77.03981928992302,38.82185177020757 L -77.03989129124315,38.821859770480906 L -77.03993829103692,38.821888769588256 L -77.04006129111632,38.821902769954306 L -77.04010629215776,38.82192376958784 L -77.04023829127621,38.82197777051287 L -77.04039029181597,38.82199876968748 L -77.04039566980542,38.82199785459133 L -77.0407200816449,38.82210638127151 L -77.04092419598612,38.822869850444185 L -77.04104069490096,38.82330669646173 L -77.0410212912034,38.82332377040691 L -77.04098429141591,38.82334476978069 L -77.04095529161941,38.82337977057536 L -77.04090229172728,38.823387770112134 L -77.04089229194847,38.82339077062439 L -77.04085520201932,38.82341536662291 L -77.04011960465282,38.82363225600166 L -77.03993447476472,38.82375052591476 L -77.03981729204249,38.82374677057482 L -77.03979729203681,38.82375877049445 L -77.03977129132004,38.82375877035052 L -77.03975129081405,38.82377377008493 L -77.03972029118265,38.82378877074521 L -77.03969829219291,38.823797770379585 L -77.03967829133236,38.82381476998322 L -77.0396752907097,38.82383677082812 L -77.03967429140208,38.82385177028051 L -77.03968329038818,38.82386477095576 L -77.03968829175335,38.82387877011563 L -77.03967129076287,38.82389577038661 L -77.03967069478807,38.82391904286084 L -77.03951667422501,38.82401743896223 L -77.03948950110217,38.82403333460801 L -77.03946129107392,38.82403277042383 L -77.0394132905343,38.82404977043808 L -77.0393762912735,38.8240497699792 L -77.0393372911277,38.82406677030291 L -77.03925829128274,38.824069769704266 L -77.03921929062443,38.82409377070029 L -77.03918429117428,38.82409577051609 L -77.03912929051685,38.82409877077736 L -77.03908729107079,38.82411177057075 L -77.03907029080331,38.82413177057561 L -77.03905229097049,38.82415077040866 L -77.039032290459,38.82417677105661 L -77.0390142915864,38.824235770766656 L -77.0389792919551,38.82427976972256 L -77.03894229066053,38.82432377046168 L -77.03890229119486,38.82436577061772 L -77.03888329113815,38.82437876998684 L -77.03887329093183,38.8244157711264 L -77.03883829136342,38.82442977125329 L -77.03880329109003,38.82445177089586 L -77.038786290512,38.82448077032504 L -77.03879129055036,38.82451377008546 L -77.03880429205049,38.82454277023729 L -77.03881229052597,38.82455977051082 L -77.03884029210698,38.82456577040995 L -77.03882929046962,38.824595770603864 L -77.03881329048468,38.824619771125796 L -77.03879329031115,38.82465077030819 L -77.03879838401583,38.824682598934594 L -77.03879796996046,38.82468355960091 L -77.03879176157842,38.82470247946201 L -77.03878735484678,38.82472028167309 L -77.03876629073869,38.82474977059538 L -77.03875129079076,38.824897770740115 L -77.03875140642901,38.82489865071706 L -77.03875041349187,38.82490455328671 L -77.03874639464746,38.82492626504473 L -77.03874030280876,38.82494779732129 L -77.03873444148344,38.8249696898599 L -77.03872731318982,38.824991222479674 L -77.03872029927118,38.82501131370508 L -77.03871351415634,38.82502861222704 L -77.038713279853,38.825029233889474 L -77.03866729141973,38.82507377070631 L -77.03862829165044,38.8254267711062 L -77.03861829121281,38.82551177105482 L -77.03865729082499,38.82557577066642 L -77.03866829183497,38.82567977153729 L -77.03863029065292,38.82577577109604 L -77.0386125869338,38.82591209317171 L -77.03861069617393,38.82591886366486 L -77.03860778710036,38.82593390596225 L -77.03854129045565,38.82604377106957 L -77.03858029154347,38.8260967702298 L -77.03857045448366,38.826160712243286 L -77.03856948602227,38.826165349111676 L -77.03856535008889,38.826183727762974 L -77.0385613294621,38.82620237663012 L -77.03856076863552,38.82620613897884 L -77.03852229053652,38.82626477150773 L -77.03850829171357,38.82635677064957 L -77.03846629073662,38.82644977051704 L -77.03845129133461,38.82653377045582 L -77.03840429076737,38.826835770746634 L -77.03833929075817,38.82693077125219 L -77.03830529105532,38.827105770850785 L -77.0383362915747,38.827134770763855 L -77.0383780308846,38.82717390279374 L -77.03837483282447,38.827184451639255 L -77.0383687386964,38.827202290416224 L -77.03836126186604,38.82721877837673 L -77.03835378469354,38.82723463574377 L -77.03834815126231,38.82725256445284 L -77.03834378371897,38.82726878113615 L -77.03833987600946,38.82728346622805 L -77.03833654513691,38.82730004290922 L -77.03833560528336,38.8273043954356 L -77.03831429079459,38.82732377064841 L -77.03830429078407,38.82735977178161 L -77.03828829111403,38.82742477089831 L -77.03827429096602,38.82748977104546 L -77.03827929102373,38.82751077152915 L -77.03828029132072,38.827515772028406 L -77.0382652912077,38.82753077154755 L -77.03823829211747,38.82755477164426 L -77.03820729120773,38.82757777028951 L -77.038198290778,38.827598771418145 L -77.03819129096617,38.82762177120876 L -77.03818128984344,38.82764377147762 L -77.03817229034371,38.82765577088946 L -77.0381532903482,38.827670771702216 L -77.03814329085414,38.82768777113986 L -77.03813729193108,38.82770077063444 L -77.0381382919665,38.82771877092082 L -77.03814329039747,38.82773677102645 L -77.03814729141958,38.8277497717567 L -77.03814429094638,38.827759771013625 L -77.03814329124016,38.82777877133067 L -77.03814429095193,38.82779077141254 L -77.03815329157328,38.82780777195819 L -77.03815829166047,38.82782077123519 L -77.03816229083642,38.827843771367455 L -77.03816429080268,38.82786877090768 L -77.03815829133416,38.82788077102593 L -77.03815429191584,38.82790177107785 L -77.03814929025782,38.827943771327384 L -77.03813329115125,38.82795777121492 L -77.03813329156998,38.828009770919685 L -77.03812729113217,38.82803077162408 L -77.03811729048981,38.82804977093924 L -77.03809629153072,38.828064771268586 L -77.03808929118384,38.8280747712663 L -77.0380802916406,38.82808277090955 L -77.03807229094693,38.828095772179154 L -77.03806529000616,38.82811277119374 L -77.03805829071618,38.82812477106949 L -77.03805829119476,38.82813377165688 L -77.03806029156046,38.828148770669934 L -77.03806729103817,38.82816277149034 L -77.0380732912932,38.82817377168976 L -77.03807429099844,38.82818577120852 L -77.03806629079757,38.82820377105208 L -77.03805829152705,38.82821677175703 L -77.03804329137888,38.828234771066406 L -77.03803029079585,38.82825277197431 L -77.03802329092413,38.828267771105295 L -77.03802129095908,38.828296772273085 L -77.0380362910417,38.828340770944195 L -77.0380452906405,38.8283557704907 L -77.03805229029497,38.8283727716949 L -77.03805129058296,38.828387771122735 L -77.03803329071634,38.82839977120464 L -77.03800929021,38.82842577183695 L -77.03801029113023,38.82844277161898 L -77.03801929123978,38.82846277199367 L -77.03801629068886,38.82847677100666 L -77.0380082903442,38.828483771504295 L -77.03797629090873,38.82858177154752 L -77.03797129073082,38.828599770970136 L -77.03798329144298,38.82862477176027 L -77.03798529177598,38.82864377222295 L -77.03798629125373,38.82866077144199 L -77.03797729134162,38.82868177142371 L -77.03796729122341,38.82870877137054 L -77.03795629099437,38.82872977087522 L -77.03794929111554,38.82875977135369 L -77.03794929076015,38.8287807717842 L -77.03795629108596,38.82880577082418 L -77.03795029087229,38.82882877139684 L -77.0379412913734,38.82883977197459 L -77.03793429074034,38.82885077190191 L -77.03791529077756,38.82890177107756 L -77.03788829079349,38.828953771661325 L -77.03788229107609,38.8289777721698 L -77.03786729174685,38.82898277110767 L -77.03785629016177,38.828987771562 L -77.0378452917157,38.8290027714145 L -77.03783929061869,38.829018770711805 L -77.03783829119372,38.82903577170533 L -77.03785229023758,38.82906377111627 L -77.03785129054727,38.82908977157 L -77.03782829118826,38.82914877210972 L -77.03780829156098,38.82917177158059 L -77.03778829162505,38.82918877197109 L -77.03777529046496,38.82920477127895 L -77.03776629137677,38.82922077154233 L -77.03776429160233,38.82923677122932 L -77.03776529093311,38.82924677199489 L -77.03777129089393,38.82925577120204 L -77.03779029096863,38.82928077199593 L -77.03780729183502,38.8293037713023 L -77.03780629129776,38.82932277161206 L -77.03779429087082,38.829333770897584 L -77.03775729113329,38.82938977163019 L -77.03776329026981,38.829425772031925 L -77.03777129086535,38.82944077192025 L -77.03776729128933,38.82945777163089 L -77.03773229186652,38.82947577173695 L -77.03770129039341,38.82950777082625 L -77.03771529039331,38.8295497710995 L -77.03771829025922,38.8296037713907 L -77.03774829120155,38.829639771914415 L -77.03774529091095,38.82974977190594 L -77.03777229077075,38.82977977093872 L -77.03777829081494,38.82981877115687 L -77.0377432917133,38.82985677231501 L -77.03773929033015,38.82987177158134 L -77.0377502912891,38.8299197718941 L -77.03774129124788,38.83001177152549 L -77.03775129139235,38.83003877117159 L -77.0377572906954,38.83014577180353 L -77.03778629092825,38.83018777171425 L -77.0378012917468,38.830202772147125 L -77.03782829155361,38.83020377178372 L -77.03782729134917,38.83022477253354 L -77.03782429147478,38.83024977087558 L -77.03781729137798,38.83029877244771 L -77.03784029191546,38.830322772556244 L -77.0378472912552,38.8303497720397 L -77.0378462914394,38.830349771237884 L -77.03782829181081,38.83041077171293 L -77.03786029061862,38.83046577153801 L -77.03788329122433,38.83048977163747 L -77.0378652913299,38.83050277162911 L -77.03787029144034,38.83054677186142 L -77.0379682906167,38.830624771918764 L -77.03802429162711,38.830676771385775 L -77.03802629019735,38.830724771221135 L -77.03800729145333,38.83074777152023 L -77.03808129132959,38.830831772175905 L -77.03814129197107,38.83089877219105 L -77.03815229126471,38.83093477149305 L -77.03820429132345,38.83099777151603 L -77.0382452909531,38.831042772827914 L -77.03826029115912,38.831054771691875 L -77.0382622907391,38.83111777230458 L -77.03828729084483,38.831179772189714 L -77.03835129189746,38.83121977240965 L -77.03841929163502,38.83124777143881 L -77.03841529132613,38.83130077124723 L -77.0384812909152,38.83138777240534 L -77.03850029144428,38.83141477239162 L -77.0385372912789,38.83143677236456 L -77.03854829229554,38.83148477259045 L -77.03856629214619,38.83152077122675 L -77.03862329069085,38.83155577222216 L -77.03863029096088,38.83155977247885 L -77.03862129107638,38.83160377167486 L -77.03864829216175,38.83161677208576 L -77.03868629143811,38.831637771740176 L -77.0387112915711,38.831706772795904 L -77.03876029201002,38.831739772555736 L -77.03879829203406,38.83174077225511 L -77.0388242919599,38.83176177247461 L -77.03882029180029,38.83178277253672 L -77.0388572923449,38.831818772124045 L -77.03886129140821,38.831836772520134 L -77.0388982914172,38.83186377207508 L -77.03890129143576,38.83189377207758 L -77.03895429131245,38.831935772693114 L -77.03900629096245,38.83196377164963 L -77.03904129140258,38.83204077218297 L -77.03911829196011,38.83210777218876 L -77.03917429205713,38.83215577189768 L -77.0392312916918,38.83220177192731 L -77.03933929101562,38.83227477225885 L -77.03955929224148,38.83239677158923 L -77.03968529175746,38.83248177265197 L -77.03971529175958,38.832523772291594 L -77.0397412905705,38.83254177248636 L -77.03977529225205,38.83255677238174 L -77.03978329197363,38.83255977228861 L -77.03985829177152,38.83257877257361 L -77.03993029207372,38.83258877156635 L -77.03996129091904,38.832597772234976 L -77.04041229177567,38.83287777283197 L -77.04046929170687,38.832883771860075 L -77.04054429113924,38.83294177159302 L -77.04060429191328,38.832977772199264 L -77.04064629166406,38.832990771993416 L -77.04070829187928,38.83303877168542 L -77.04077029254915,38.833069772937286 L -77.04083029276393,38.83312077195471 L -77.04083129175066,38.83312177267066 L -77.04091329234082,38.83316377181081 L -77.04100329229126,38.83321277159977 L -77.04171429257912,38.83364177175051 L -77.04178929165352,38.83368377221141 L -77.04189129177088,38.83371777242932 L -77.04200929281697,38.83372877269989 L -77.04203829354601,38.833725772011064 L -77.04212029339857,38.83371777277208 L -77.04219629305733,38.83370077168711 L -77.0422445240492,38.83368261457437 L -77.04224739498082,38.83368173183189 L -77.04225791590532,38.83367757343275 L -77.04228129263443,38.83366877270699 L -77.04228511384478,38.83366682155353 L -77.04229529651784,38.83366279671143 L -77.0423405469789,38.83364043931741 L -77.04236177909193,38.83362769083187 L -77.04237729275701,38.833619772391714 L -77.04238620879721,38.83361261812394 L -77.04242228897029,38.833586358859705 L -77.04244934206588,38.83356454854404 L -77.04247420586228,38.83354111749563 L -77.04249676534604,38.83351633601151 L -77.04249688978304,38.83351617550294 L -77.04252829287367,38.83348477126127 L -77.04256429299016,38.83341377257833 L -77.04258129251757,38.833339772553934 L -77.04257929276943,38.83324677272877 L -77.04256752179009,38.83321146103305 L -77.04256510680074,38.833201915758295 L -77.04256118250453,38.83318786398732 L -77.04255668239328,38.83317390251076 L -77.04255633483076,38.83317047942156 L -77.04255515174113,38.8331661918246 L -77.0425602930579,38.83313277305632 L -77.04254251297984,38.833104833597474 L -77.04254166693451,38.83310202045024 L -77.04253532362068,38.83308733896751 L -77.04253174899026,38.83308022358443 L -77.04253019379715,38.83307722714811 L -77.04252629245896,38.83305577209969 L -77.04253729320185,38.83303677205706 L -77.04250429313639,38.832983772089456 L -77.0424972921226,38.83295977158868 L -77.04246429290654,38.83291777263163 L -77.04243729168346,38.83284477223551 L -77.04239929188802,38.83269977230524 L -77.04234729324928,38.832671772047554 L -77.04234929250784,38.83262977217522 L -77.04233529231378,38.832602772695466 L -77.04231367774254,38.832585480342466 L -77.04231285162992,38.832578621822876 L -77.04231053855919,38.83256240742661 L -77.04230961365154,38.83255646217577 L -77.04230568981471,38.832543040987126 L -77.04230199477755,38.832527007260815 L -77.04229737835816,38.832510973868324 L -77.04229149583888,38.83249629220394 L -77.04228480881872,38.83248449353925 L -77.04227777585531,38.832471974322296 L -77.04227154713124,38.832456121682 L -77.04226739216139,38.832441349305924 L -77.04226312122051,38.83242522570204 L -77.04225631663975,38.83240937326933 L -77.04225181407837,38.83239108771746 L -77.04224984563967,38.83237334175587 L -77.0422458040396,38.83235550645999 L -77.04223922981467,38.83233965394271 L -77.04223254004702,38.83232317087435 L -77.04223115600351,38.83231983824342 L -77.0422243516529,38.83230434614708 L -77.04222020016414,38.83229542926946 L -77.04221935510103,38.832294239331844 L -77.04222229149345,38.8322507724296 L -77.0421962922158,38.832226772023425 L -77.04220129261915,38.83217277235403 L -77.04215329307762,38.8320947718948 L -77.04214929224155,38.83197277170412 L -77.04208929168422,38.8318527718936 L -77.0420622923701,38.83184277209719 L -77.04203729254617,38.831795771556905 L -77.04202329283686,38.83175077199703 L -77.04199729253344,38.831681772010086 L -77.04200229277812,38.8316407715599 L -77.0419912924084,38.831613772081106 L -77.04196129272867,38.831594771068644 L -77.04198129274161,38.83157477183952 L -77.04197429232953,38.831526771624326 L -77.04198629204491,38.83149177223529 L -77.04201429244665,38.831452772394215 L -77.04204429208272,38.83143877144355 L -77.0420902929909,38.83143277267802 L -77.04211729239286,38.83141877166451 L -77.04210629174483,38.831382771612624 L -77.04211129275583,38.83134077121585 L -77.04227629311646,38.831280772045986 L -77.04239129323679,38.831231772134544 L -77.0424252927602,38.831234771985415 L -77.04246329294494,38.83125577210048 L -77.04251329179374,38.831253772035076 L -77.04255129244918,38.83122477175836 L -77.04280729259293,38.83119777153985 L -77.04288729270075,38.83121377217014 L -77.04291329327437,38.83123177222453 L -77.04300029190061,38.83125677191305 L -77.04304929296221,38.83129877214723 L -77.0431012925462,38.83135577203749 L -77.04313129344446,38.83135977140999 L -77.0431502938853,38.83137777230902 L -77.04318629245978,38.831430772123866 L -77.04320929279662,38.83143777107048 L -77.04327629189781,38.83151677131898 L -77.0432802936492,38.83153977126215 L -77.04332029254635,38.83162377218388 L -77.04331629265732,38.83164777221983 L -77.0433422932878,38.83168677203579 L -77.04334029266333,38.83172077241513 L -77.04335929302714,38.831740772032326 L -77.04337229329833,38.83185377220133 L -77.0434142926061,38.83187577158424 L -77.04346629268794,38.83190877163053 L -77.04347729352558,38.83209277161721 L -77.04350429341643,38.83213277208779 L -77.04350829279537,38.83219777173513 L -77.04352529215926,38.832224772209685 L -77.04355029270651,38.83231477151716 L -77.0435452923242,38.832377771825215 L -77.04357429306623,38.83243477162903 L -77.04360329261254,38.832476771770025 L -77.0436012936324,38.832575772157305 L -77.04361629353635,38.832601772298474 L -77.04361329264663,38.83265377196202 L -77.04364429235477,38.832705771301654 L -77.0436662929263,38.832762772571265 L -77.04367329372401,38.8328587720215 L -77.04369029312798,38.83290077156085 L -77.04371629312891,38.832951772248485 L -77.04373829337483,38.83297277230503 L -77.04374829237636,38.833028772484326 L -77.04379329357585,38.833083771980526 L -77.04378829305763,38.833115771917846 L -77.043757293117,38.83315077241539 L -77.04377029314061,38.83318677267817 L -77.04384429296138,38.83320277208341 L -77.0438432932147,38.83323577214784 L -77.04379729380214,38.833258771697245 L -77.04379929225162,38.833324772576404 L -77.04377629372368,38.83336877178109 L -77.04379429324459,38.83338977220026 L -77.04383629367118,38.833417772751176 L -77.04391529301152,38.83344777163599 L -77.04393029351515,38.83347777261655 L -77.04397429333392,38.833523771836 L -77.0440582927672,38.83353377220491 L -77.04416929284336,38.83352877165316 L -77.04419529333187,38.833537772524814 L -77.04421729299408,38.83356777194346 L -77.04424029313722,38.83359177190566 L -77.04425829353067,38.83359877253865 L -77.04430729237184,38.83362877183283 L -77.0443482931272,38.83369477252426 L -77.04440029375981,38.83375477219573 L -77.04444429296076,38.83382677191024 L -77.04445829328317,38.83389277270557 L -77.04448829351655,38.83393777205398 L -77.04454629379012,38.83406377268174 L -77.04453629314494,38.834106772760315 L -77.04457929363069,38.834147771869496 L -77.0446141523728,38.83420094675891 L -77.04461952427,38.83421424006853 L -77.04462540690285,38.83422811085019 L -77.04463036925803,38.834243783675745 L -77.04463579631712,38.834265852330994 L -77.04464087333142,38.83428299349137 L -77.04464600183555,38.83431340240641 L -77.04464677114179,38.834318817886505 L -77.04464729082544,38.83432104390371 L -77.04465129435104,38.834344772348544 L -77.0446692938102,38.834371772828014 L -77.04470229349933,38.83445277215944 L -77.04471745982318,38.834468522148114 L -77.04471989675932,38.8344849960008 L -77.0447239369536,38.834499407990535 L -77.04473018050659,38.83451249827004 L -77.04473429376341,38.83458377163774 L -77.04478551377024,38.83464976824852 L -77.04478600461049,38.83465420022297 L -77.04478029392722,38.83472177206426 L -77.04480471522307,38.83474857637524 L -77.04480932987286,38.83475836848958 L -77.04481532883828,38.83477395082338 L -77.04481977883579,38.834787487705015 L -77.04481829283304,38.83480777307714 L -77.04486129330515,38.834886773143275 L -77.04486729366222,38.83494577287527 L -77.04488529396328,38.834989772283585 L -77.04489629352342,38.83501177178045 L -77.0448982934264,38.835049772638335 L -77.04490729450228,38.83506577270519 L -77.044903294416,38.835087772904394 L -77.04490915711132,38.835099500227 L -77.04490917363253,38.83510173262974 L -77.04491057003806,38.83512443341234 L -77.04491191201274,38.83513155408378 L -77.04491529345309,38.8351937725282 L -77.0449405794186,38.835204418676696 L -77.04494828855805,38.83521270180225 L -77.04495560503257,38.83522043894062 L -77.04496629432929,38.83526977246968 L -77.0449929735175,38.83530139370612 L -77.04499330815877,38.83530238788587 L -77.04499529398282,38.83538877318414 L -77.04501029318736,38.835418772328346 L -77.04502029398087,38.8354777721938 L -77.04502029365715,38.83552977296472 L -77.04502629362759,38.83554677299176 L -77.04503129339594,38.83561577248538 L -77.04504729362006,38.8356337719694 L -77.04505029343049,38.83568077244907 L -77.04504829250092,38.83578277262919 L -77.04508929362346,38.83583377282758 L -77.04510529385304,38.83586877239167 L -77.04513229343154,38.83588977249617 L -77.04522029442879,38.83593577222264 L -77.04521652325772,38.83594064388195 L -77.04521296686926,38.83594138395337 L -77.04519201430257,38.8359570667871 L -77.04518268791996,38.83596193496587 L -77.04517267120566,38.83596797451077 L -77.04516184909457,38.83597536563532 L -77.0451510275509,38.835983657604565 L -77.04514193345572,38.835991588566266 L -77.04514020668813,38.835993030587574 L -77.0451284647354,38.836002944433304 L -77.04511614637394,38.836012047739324 L -77.04510405802507,38.83602061044758 L -77.04509277660674,38.836030253857906 L -77.04508333918162,38.83604169824664 L -77.04507482414984,38.836054673716404 L -77.04506492736846,38.836068280311146 L -77.04505721841073,38.83608098521456 L -77.04505629795092,38.83608480403039 L -77.04505529362716,38.83608577226443 L -77.04505542631615,38.83608842351526 L -77.0450544613409,38.83609242702171 L -77.04505609268392,38.83610174845779 L -77.04505729418679,38.83612577242769 L -77.04508229463576,38.836172772852805 L -77.04512629417292,38.836183773194044 L -77.0451442930197,38.83624977289964 L -77.04515087398107,38.836303146034396 L -77.04514777988973,38.83631210726942 L -77.04514502669889,38.83632967482864 L -77.04514584115547,38.8363426466939 L -77.04515333383974,38.83635219276148 L -77.04515374737937,38.83635272128539 L -77.04515429352573,38.83638877292498 L -77.04514929337809,38.836453772576014 L -77.04519729446781,38.83651077247148 L -77.04520829346583,38.836534772937775 L -77.04522629371547,38.83659477299339 L -77.04521429366434,38.836633772442966 L -77.04523229437387,38.83666377207912 L -77.04524329343805,38.8366957731783 L -77.0452202936481,38.83674377239965 L -77.04525129347145,38.836853772798534 L -77.04526929373282,38.836931772869114 L -77.04526329338749,38.83697577250353 L -77.04528629381767,38.83702177258951 L -77.04528329313452,38.837049773728886 L -77.04531029414028,38.83715277214564 L -77.04533229343669,38.837188773222344 L -77.04531929337864,38.83725377260109 L -77.0453002942326,38.837271772117916 L -77.04527729475963,38.837280773734804 L -77.04526829444544,38.83731877264617 L -77.04527229347919,38.83734277356602 L -77.04533129418544,38.837426772544326 L -77.0453262942371,38.83767677323828 L -77.0453292935118,38.83772477307138 L -77.04535929357407,38.837754773652264 L -77.04539629432084,38.8377787724336 L -77.0454292933765,38.83783577242576 L -77.04543329396482,38.837850773326586 L -77.04544167356082,38.83787134143756 L -77.04544583211944,38.83789135435626 L -77.04544606646247,38.8378919516383 L -77.04544729364038,38.83790177319299 L -77.04543129452384,38.837940773087716 L -77.04543029383731,38.83797577301874 L -77.0454382934026,38.83799077292549 L -77.04543629430856,38.83805077283673 L -77.04544229315566,38.83813677310496 L -77.04542629426724,38.838163773171125 L -77.04541829307715,38.83819377331704 L -77.0454222931806,38.83821477328617 L -77.0454052935994,38.83826777326803 L -77.04535929403242,38.83830277267659 L -77.04534729406411,38.838329772866096 L -77.04532329355624,38.8383647727193 L -77.04529229435639,38.838423773246014 L -77.04527529402895,38.838483773340336 L -77.04531729456514,38.83850177338832 L -77.04533029346969,38.838537772884685 L -77.04533829357835,38.83859777284627 L -77.04537529459945,38.83865777279639 L -77.0453812935312,38.83869977294938 L -77.04541129417275,38.838753773162566 L -77.04546729443874,38.83877477259096 L -77.04551629390686,38.838802773729185 L -77.04554529422053,38.838845773284625 L -77.04559029491051,38.83887177269672 L -77.045635293245,38.8388827735779 L -77.04568129400924,38.838862773704 L -77.04576529467933,38.83893977322098 L -77.04592029419618,38.839003773153365 L -77.04595829438013,38.83905477307572 L -77.04601629443313,38.83909177328294 L -77.04606029417883,38.83918377278667 L -77.04606429385517,38.839213773865794 L -77.04618429356752,38.8392957737581 L -77.04621029438255,38.83932277362812 L -77.04621329497401,38.83936177341678 L -77.04619829381961,38.83937977261664 L -77.04617829380376,38.83940577386266 L -77.04620429378392,38.83944477355777 L -77.04621529394045,38.839453773152584 L -77.04625329515248,38.83946677362671 L -77.04626029360372,38.83950277313979 L -77.04630929432469,38.83954477364226 L -77.04630529448791,38.839666773341975 L -77.04634729441145,38.839696773403006 L -77.0463622949485,38.83972877279257 L -77.046396293776,38.839760773638176 L -77.04642029399368,38.83978077356021 L -77.04641029446569,38.83982277325832 L -77.04642429494665,38.839846773530184 L -77.04648529439702,38.83987177360993 L -77.04649507420271,38.839881552895044 L -77.046499904118,38.839904869352814 L -77.0465036590643,38.839927952018755 L -77.04650329460712,38.83992877362232 L -77.04647629459203,38.83994877357165 L -77.04647929422818,38.83997277314911 L -77.04645629475223,38.839981772742014 L -77.04644414844623,38.84004810512839 L -77.0464402981737,38.840053318050586 L -77.04642129486706,38.84005677303254 L -77.0464148580022,38.84007976009778 L -77.04641322933358,38.840081609167434 L -77.04637529433188,38.84007577438173 L -77.04633629442563,38.840080773234476 L -77.04630929430664,38.840100773707675 L -77.04627118714163,38.840093668201575 L -77.04626619938142,38.840091076870294 L -77.04623935119396,38.84007559297002 L -77.04621307865231,38.840059658412926 L -77.04618997534125,38.84004623876938 L -77.04613529448011,38.840006773529915 L -77.0460702938704,38.83998077265675 L -77.04599229471901,38.83996377293668 L -77.04597658344237,38.83999054098927 L -77.04597310395314,38.839991379019914 L -77.04594350365858,38.83999490397185 L -77.04591424874245,38.83999815852682 L -77.04588741496804,38.84000492541938 L -77.0458616164653,38.84000952987021 L -77.045848258179,38.84001448976755 L -77.04584987886975,38.84002710096544 L -77.04585177990202,38.84003008652094 L -77.04584629350562,38.840054773526994 L -77.04587229378345,38.84015577340743 L -77.04598129464075,38.84033277364355 L -77.04612129330837,38.840421774282596 L -77.04619329411636,38.84043677359784 L -77.04620729473086,38.84043977350111 L -77.04624637889559,38.840447838603936 L -77.04627864861021,38.84046068875799 L -77.04629667590622,38.840467340544514 L -77.04643329433728,38.84054277372984 L -77.046738295392,38.84063977381204 L -77.0470212937879,38.84066677390077 L -77.04745529508241,38.84066677279362 L -77.04748866204804,38.84066306688336 L -77.04759046359064,38.84082076961341 L -77.04790089058768,38.84126656099881 L -77.04788153933667,38.841266839192244 L -77.04786253376759,38.84126729740976 L -77.0478468691675,38.841268565015234 L -77.04782844049885,38.84127046434297 L -77.04780586527436,38.84127263561973 L -77.0477852481691,38.84127471600592 L -77.04776958374684,38.84127625385458 L -77.04775426488528,38.84127779155977 L -77.04773445402654,38.84127978152261 L -77.04771256997921,38.84128204258313 L -77.047694487226,38.84128448225536 L -77.04768078110118,38.841286199460924 L -77.04766569254963,38.841287646975886 L -77.04765509605515,38.841288732316876 L -77.04765683823463,38.841310261804644 L -77.04764002126883,38.84131080917679 L -77.04763816474886,38.84129054091864 L -77.0476249192499,38.84129207776063 L -77.04760810385007,38.84129496732493 L -77.04760257570818,38.84129623076282 L -77.0475943986821,38.84129812587217 L -77.04757873551134,38.841301555469514 L -77.04755857955982,38.8413042662193 L -77.0475371561281,38.84130634689016 L -77.04751918813012,38.84130815589695 L -77.04750409909113,38.84130888271507 L -77.04748589909956,38.841308259529185 L -77.04746424343345,38.84130754766126 L -77.04744339407803,38.841306835461516 L -77.04742576996344,38.84130612194769 L -77.04740722483052,38.8413061294814 L -77.04738372688881,38.84130649936093 L -77.047359998453,38.84130668916023 L -77.04734237505615,38.8413070566477 L -77.04732682538636,38.84130796379874 L -77.04730689842488,38.841308602468395 L -77.04728455253253,38.84130924211458 L -77.0472660075777,38.84130951987934 L -77.04725103342486,38.8413097961956 L -77.04723364069906,38.84131061399585 L -77.04721256240045,38.841312063875925 L -77.04719194455193,38.841313063143446 L -77.04717535777763,38.84131334010205 L -77.04715946188831,38.84131325644109 L -77.04713964999195,38.84131371486664 L -77.04711661356797,38.8413152556047 L -77.04709634169473,38.841316885307315 L -77.04707883383769,38.8413177932154 L -77.04705879150582,38.841318161635705 L -77.04703540844878,38.84131808097621 L -77.04701398357386,38.84131799952335 L -77.04699693515954,38.841316925374805 L -77.04697931051341,38.84131540103309 L -77.0469585760513,38.84131423827801 L -77.04693726547637,38.84131280549737 L -77.04691883452242,38.84131128147082 L -77.04690086419946,38.841309577087245 L -77.04687909299672,38.84130832465007 L -77.04685490333732,38.84130779385581 L -77.04683474469711,38.84130645067849 L -77.0468176956975,38.84130447565889 L -77.04679822835904,38.84130340245155 L -77.04677599694253,38.84130296094035 L -77.04675821601039,38.84130242643152 L -77.04673029447095,38.84129777405074 L -77.04669329379888,38.841292773966025 L -77.04665829529479,38.84128677313115 L -77.04662929471537,38.8412767735155 L -77.04659429478502,38.841270773225006 L -77.04655829534165,38.84126877363828 L -77.04652629460615,38.8412627738201 L -77.0464902941407,38.841254773457955 L -77.04646029479294,38.8412487733876 L -77.04642529496088,38.841241774234305 L -77.04639029462513,38.841231773567294 L -77.0463612946844,38.84122377376102 L -77.04632929484721,38.8412157734492 L -77.04629529378596,38.841205774046095 L -77.04626829394422,38.84119577354711 L -77.04624029399872,38.841187773314324 L -77.04621029412587,38.84117977386663 L -77.04618329408704,38.841172773725404 L -77.04616777348438,38.84118075572329 L -77.04615793682854,38.84117789943029 L -77.04614532719583,38.84117415971541 L -77.04614329398564,38.84116277383636 L -77.04611429481976,38.84115477284229 L -77.04608329436351,38.84114577438209 L -77.04605329388019,38.84113677383004 L -77.04602229358933,38.84112577435124 L -77.0459902941363,38.84111377306765 L -77.04596229376335,38.84110277407991 L -77.04592829367942,38.84109077300403 L -77.04589629410485,38.84108077326 L -77.04586529386248,38.841069773739385 L -77.045831293733,38.84105877313643 L -77.04580029518527,38.84104477378343 L -77.04577029317252,38.8410287741551 L -77.04573729423808,38.841011774629195 L -77.04571129419055,38.84099677391857 L -77.04568729424294,38.84098877367542 L -77.04566329405426,38.84100177325477 L -77.04564984530663,38.840995048638824 L -77.04564333149918,38.84099167020164 L -77.0456512941753,38.84096977373442 L -77.04562029418001,38.84095677314613 L -77.04559629402375,38.84094277325534 L -77.04557029475166,38.840927773638924 L -77.04554129376868,38.84090877374614 L -77.04551429328198,38.84089177350541 L -77.04548729416513,38.84087577319603 L -77.04545729414946,38.84085477379523 L -77.04542929390846,38.840835774047704 L -77.04540129359795,38.84081777366858 L -77.04537629487957,38.840796773427385 L -77.04534829341289,38.840775774347385 L -77.04532129382748,38.84075777412315 L -77.04529429425496,38.84073977276657 L -77.04526729368716,38.84071677396522 L -77.04524229343163,38.84069777413497 L -77.04521329452847,38.84068177284782 L -77.04518929371419,38.84066077443166 L -77.04516429376027,38.84063877364378 L -77.04513729390396,38.840616773623886 L -77.0451112942875,38.8405917739595 L -77.04509129354243,38.84056877297437 L -77.04507029420432,38.84054677343558 L -77.04504629428536,38.84052477336198 L -77.04502229366159,38.840502773846644 L -77.04500129355431,38.84048177367077 L -77.04498529405406,38.84045977387771 L -77.04496829379664,38.840438773280134 L -77.0449492929174,38.840417774013545 L -77.0449312942547,38.84039577329366 L -77.04491029339523,38.84037577360264 L -77.04489129371616,38.84035777414066 L -77.04487929328658,38.84033677329584 L -77.04486629416662,38.840317773273135 L -77.04485329298554,38.84029777331144 L -77.04483729348019,38.840276773435754 L -77.04481429330941,38.84025877380864 L -77.04479129377724,38.84024177355188 L -77.04476929455856,38.840228773786095 L -77.04474129362721,38.84022177313132 L -77.04471029390652,38.84021877337171 L -77.04468129390729,38.84021777327795 L -77.04464629346771,38.84021677322023 L -77.04461529437818,38.84021477337339 L -77.04458329418357,38.84020977408592 L -77.04455229322643,38.840204773845244 L -77.04452529280653,38.840199773196304 L -77.04449629402085,38.840193773364724 L -77.04445729407468,38.840189773834105 L -77.04442029370944,38.84018177321333 L -77.04437629400861,38.84017777274316 L -77.0443382937343,38.840176773170576 L -77.04432435376103,38.84017847374337 L -77.04430534010378,38.8401782287256 L -77.04428737119026,38.84017823554502 L -77.04426767544615,38.840179774453574 L -77.044246828071,38.84018167413354 L -77.04422575037987,38.84018366398157 L -77.04420766761835,38.84018583286057 L -77.04419050689623,38.84018890223295 L -77.04417380713708,38.840192331766474 L -77.04415607148803,38.84019702287291 L -77.04413845118907,38.84020198418663 L -77.04412152177733,38.84020658489839 L -77.04410597492208,38.84021172559244 L -77.04409158002991,38.84021704601831 L -77.04407476568576,38.84022146651072 L -77.0440586418961,38.8402249858948 L -77.0440436698479,38.840228324672964 L -77.04402904279908,38.8402307624738 L -77.04402503323618,38.84023129886312 L -77.04400329310242,38.84022377374247 L -77.04397629344149,38.84021177339841 L -77.04394129364148,38.84020477349945 L -77.04391412044,38.84020554944462 L -77.04389656266254,38.840203336591635 L -77.04387790240878,38.84020298326989 L -77.04386200782214,38.84020461076554 L -77.04384887901197,38.84020839924865 L -77.04383609719478,38.84021452979777 L -77.04382181873915,38.8402219220908 L -77.04380661835495,38.84022859405188 L -77.0437917631374,38.84023463528971 L -77.04377875049776,38.840240045242915 L -77.0437659680614,38.84024518485473 L -77.0437530706586,38.84025068484633 L -77.04374017424718,38.84025780635767 L -77.04372796960836,38.84026600862272 L -77.04371576480114,38.840273940632954 L -77.04370448142022,38.84028178221241 L -77.04369250730957,38.840290254641005 L -77.04367926665115,38.84029953830303 L -77.04366498876844,38.84030792150635 L -77.04365105583312,38.8403153136491 L -77.04363931131071,38.84032252480294 L -77.04362940992053,38.840330005520244 L -77.04362043056348,38.84033838673736 L -77.04361087571654,38.840347488845005 L -77.04360270331478,38.84035695077356 L -77.043593839632,38.840366142706124 L -77.04358451575416,38.840376235655114 L -77.04357450064973,38.84038614869234 L -77.04356494601032,38.84039561113417 L -77.04355665841128,38.84040507310242 L -77.0435487171915,38.840415886208696 L -77.04354042997252,38.84042597876729 L -77.04353133551709,38.840434540189406 L -77.04352132012242,38.84044400279946 L -77.04351107462809,38.84045391591704 L -77.04350163515707,38.84046337831064 L -77.04349242578084,38.840472390195146 L -77.0434839069685,38.84048050097638 L -77.04347469709411,38.8404887020989 L -77.04346398991109,38.8404970839473 L -77.04345213037335,38.84050465546301 L -77.04343888827367,38.840511686984904 L -77.04342610691494,38.84051871833385 L -77.04341516918551,38.84052683000995 L -77.04340584416602,38.84053512125431 L -77.04339674913295,38.84054278182078 L -77.04338776884585,38.840549721667664 L -77.0433860374124,38.84055083316605 L -77.04338829377687,38.84052977338075 L -77.04340129430193,38.84051377404007 L -77.04340329380028,38.840491773529635 L -77.04340029317595,38.84047277300398 L -77.04338829339112,38.840449773818776 L -77.04337029295128,38.84041577360034 L -77.0433602932545,38.840397773923094 L -77.04334729358251,38.84038077417126 L -77.04333829324472,38.840361774182654 L -77.04333429302667,38.84033977364825 L -77.04332629359837,38.84031877341048 L -77.04331029313826,38.84030377351863 L -77.0432942926851,38.84028877418759 L -77.04328729311472,38.84026877351433 L -77.0432832939788,38.84024377372576 L -77.04328329359885,38.840221773394994 L -77.04328929392449,38.84020377340696 L -77.04329529352329,38.8401667734656 L -77.04328729389889,38.840147773664185 L -77.04327329289762,38.840130773711834 L -77.04326029363656,38.84011077357157 L -77.04324629336885,38.84009377361557 L -77.04323529330584,38.84007377442075 L -77.04322929357627,38.840048773681524 L -77.0432232939986,38.840028773196316 L -77.04321129354258,38.84001277355968 L -77.04319529340535,38.83999577433765 L -77.04317729227999,38.83997577378666 L -77.04315629335973,38.83995677371651 L -77.04313729339809,38.8399397727804 L -77.04312429242317,38.83992277356604 L -77.04312029338793,38.839903773400394 L -77.04311729260849,38.83988077423856 L -77.04310829334707,38.83985977435361 L -77.04309529346139,38.83983977363138 L -77.04308129375204,38.839818773901364 L -77.04306729346749,38.83980277386149 L -77.04301129367283,38.83977077283718 L -77.04298929289537,38.83976277355338 L -77.04296229334317,38.8397527734137 L -77.04293429325054,38.839741773697455 L -77.04291029307905,38.83973577388482 L -77.04288229264291,38.83972777340819 L -77.04285829332002,38.83972077364622 L -77.04283329345523,38.83971277374507 L -77.04280629322426,38.83970277413253 L -77.04277829353222,38.83969477306762 L -77.04274829227303,38.83968877316884 L -77.04271429315153,38.8396847740391 L -77.04268629323359,38.83967877395499 L -77.04266329304977,38.83967277372578 L -77.04263629296327,38.839667772639494 L -77.04261029198453,38.83966377337271 L -77.0425832929756,38.83966177377789 L -77.04255829338656,38.83965777300812 L -77.04252929329846,38.83965377312768 L -77.04249929326815,38.83964977360415 L -77.04247329289853,38.839646774244926 L -77.04244129273224,38.839644774185004 L -77.04241129355574,38.83963977357411 L -77.04238229348317,38.83963577365718 L -77.0423502934511,38.839632773633845 L -77.04232129338412,38.83962877257566 L -77.04229829299342,38.83962477440345 L -77.04226929331622,38.83961777351711 L -77.04223829180204,38.839614773101474 L -77.04221329368924,38.839610773383285 L -77.04218429220006,38.8396067739807 L -77.04215429331693,38.83959977398993 L -77.0421272932937,38.83959477278588 L -77.04210429233451,38.83958977351114 L -77.0420772937591,38.83958477342101 L -77.042049293083,38.83957977312263 L -77.04202229307568,38.83957477358337 L -77.0419932924628,38.83956977306852 L -77.0419652923869,38.83956577381421 L -77.04193929292201,38.83956177327131 L -77.04191429281776,38.8395567735514 L -77.04188629315043,38.83954977333683 L -77.04186229286502,38.839545774311404 L -77.04183829284877,38.839539773152126 L -77.04181229276698,38.839529774076965 L -77.04178629287307,38.839523773623355 L -77.04176029244393,38.83952177348068 L -77.04173629262361,38.839519773179866 L -77.04170929342256,38.83951977382271 L -77.0416812935573,38.839519773690604 L -77.04165529200328,38.83952077334007 L -77.04162529283354,38.839521773846435 L -77.04159629244103,38.83952077354935 L -77.04157229279534,38.83952277353129 L -77.04154529273484,38.839523773511864 L -77.04151629192779,38.839525773573214 L -77.041491293054,38.83952777333085 L -77.04145729352271,38.83952777358857 L -77.04143029259954,38.839529774044266 L -77.041404293198,38.83953077363703 L -77.04138029210345,38.839532773016906 L -77.04135129316634,38.839536772913334 L -77.04132629212508,38.83953877376247 L -77.04130129310005,38.83954177341785 L -77.04127629277524,38.83954377369297 L -77.04125229225117,38.83954677411076 L -77.04122729264277,38.83954877381212 L -77.04120329269142,38.83955277303194 L -77.0411782932275,38.83955877360228 L -77.04116705582292,38.83956298789236 L -77.04116560832553,38.839563380270604 L -77.04116255452674,38.83956467574983 L -77.0411542925536,38.83956777419317 L -77.04114889771982,38.839570471311994 L -77.04114372864578,38.83957266669268 L -77.04113819009613,38.83957582441886 L -77.0411342922272,38.83957777330773 L -77.04113236807602,38.83957928008667 L -77.04112576611153,38.83958348316761 L -77.04111782176138,38.839589341461455 L -77.04111114454211,38.83959537947746 L -77.0411056196326,38.83960222784814 L -77.0410998644051,38.83960916638418 L -77.04109973206164,38.83960937249915 L -77.04109429184092,38.83961577323191 L -77.0410545235166,38.8396217384365 L -77.04094250449945,38.83958414947357 L -77.04091929222767,38.83956577417489 L -77.04091305734967,38.83955983584841 L -77.04091254592645,38.83955932536094 L -77.04090586105346,38.83955203085645 L -77.04089790951542,38.83954536738721 L -77.0408897278683,38.83953915442067 L -77.04088103651151,38.83953542008293 L -77.04087329202424,38.83953077330706 L -77.04087284271621,38.83953061750555 L -77.0408702546024,38.839526729574956 L -77.04087013611758,38.839520964206066 L -77.04087013230132,38.839514297951624 L -77.04086897700341,38.839508262692114 L -77.0408645969075,38.839502859153505 L -77.04085676180041,38.83949835766951 L -77.04084662295799,38.83949376690672 L -77.04083521822382,38.83949115844576 L -77.04082473681889,38.839491792704116 L -77.0408158693321,38.8394947685951 L -77.040808845565,38.839499095108906 L -77.04080216704092,38.83950288099438 L -77.04079525639737,38.839503604086296 L -77.04078822820192,38.83950018333015 L -77.04078039371744,38.839496762855305 L -77.04077189515402,38.83949402443921 L -77.04077129245303,38.83949377353908 L -77.04077032694448,38.83949356274071 L -77.04076057868402,38.83949091428185 L -77.04074986526453,38.839488665909286 L -77.04073915199987,38.83948668778934 L -77.0407388135984,38.83948660401623 L -77.04070829223437,38.83947577299115 L -77.0407080365933,38.83947563964258 L -77.0407002108456,38.83947111674977 L -77.04069237606043,38.83946715576183 L -77.04068645544959,38.83946438040695 L -77.04068529246324,38.839463773867756 L -77.04068426346707,38.839463322677716 L -77.04067878052666,38.839460494245145 L -77.04067267422505,38.839457793837035 L -77.04066765912476,38.83945605976809 L -77.04063729260584,38.83944277386679 L -77.04063035863199,38.83943917909254 L -77.0406286627423,38.83943826082059 L -77.04062828038357,38.839438100490604 L -77.04061029266907,38.83942877399238 L -77.04060768029647,38.839427768769575 L -77.04060158637199,38.83942403688544 L -77.04059283027816,38.83942034646492 L -77.04058453594591,38.83941845757396 L -77.0405796471858,38.83941734391455 L -77.04056121666126,38.839411673305875 L -77.0405582694118,38.839410449180285 L -77.04055043474351,38.8394066683519 L -77.04054490355324,38.839402526384625 L -77.0405364933753,38.839399466431495 L -77.04052750702193,38.8393959562551 L -77.04051829004571,38.83939199573544 L -77.04050861202747,38.83938749486775 L -77.04049835834566,38.839383444621724 L -77.0404882205644,38.839380655518156 L -77.0404795804248,38.83938084318832 L -77.04047929242478,38.839380772909685 L -77.04045869107809,38.83937450284938 L -77.04045608017915,38.839373549984316 L -77.04044801520324,38.839369859313344 L -77.0404396044209,38.83936571833894 L -77.04042900560225,38.83936238888271 L -77.04042881191175,38.839362323075484 L -77.04039640875818,38.83934882273996 L -77.04039363284093,38.83934249244662 L -77.04038867580103,38.839335197314284 L -77.04038187724522,38.83933042518605 L -77.04037358231768,38.83932745526579 L -77.04036436668308,38.83932583693148 L -77.0403544603015,38.83932484942705 L -77.04034397850937,38.83932476296602 L -77.04033315172529,38.83932566755329 L -77.04032215015023,38.83932682894083 L -77.04032129271808,38.839326773497255 L -77.04029629244101,38.839328773562556 L -77.04020029246648,38.83931877350108 L -77.04017729173145,38.83931377440946 L -77.04015229239974,38.83930977425018 L -77.04013421605836,38.839302699822426 L -77.04012891626667,38.83930033411034 L -77.04011797161668,38.839296464237485 L -77.04010817916125,38.83929322455947 L -77.04010195806586,38.839291154752665 L -77.04007304442561,38.83928675054081 L -77.04006981897282,38.839286211140916 L -77.04006233171552,38.83928567320387 L -77.04005277084488,38.83928459547068 L -77.04004090700377,38.83928477971035 L -77.04002961888018,38.839284603413226 L -77.0400185607204,38.839283706359815 L -77.04000462392248,38.83928452189829 L -77.03999045665556,38.839285157345046 L -77.03998156809352,38.8392852245754 L -77.03997729235745,38.839284773365144 L -77.03995329290629,38.83928577363885 L -77.03990060784835,38.839289764389726 L -77.03988725479576,38.839290417562474 L -77.03988079149403,38.839290340384046 L -77.03984738474965,38.839288112630065 L -77.03984313779836,38.83928764001004 L -77.03982747223392,38.83928665442668 L -77.0398097342637,38.83928729106987 L -77.03979188146086,38.839288558341266 L -77.03978737203903,38.83928861055112 L -77.03976229171155,38.83928777399237 L -77.03974211114677,38.839285869947254 L -77.03973877992304,38.83928542347395 L -77.03973152086837,38.83928487079922 L -77.03970929280335,38.83928277320062 L -77.03970579198241,38.83928286391312 L -77.03970295612527,38.83928255296011 L -77.0396929348254,38.83928201586128 L -77.0396705899997,38.83928355489534 L -77.03964663269846,38.839285274641874 L -77.03963145375407,38.83928681911646 L -77.03961929302052,38.83928777363694 L -77.03960694491728,38.83928967354435 L -77.03959365149925,38.83929141837529 L -77.03958658530634,38.839292034473054 L -77.03951629222523,38.83929477434182 L -77.03947156270057,38.839294773712304 L -77.03946741167098,38.83929461408988 L -77.03945806800321,38.83929445059265 L -77.03941029237826,38.839292774270874 L -77.03937501878636,38.83929025367421 L -77.03935464313659,38.83928834624979 L -77.0393281434875,38.83928546797238 L -77.03932312831748,38.839284832877055 L -77.03929854480351,38.83928151872643 L -77.03928780182893,38.83928036644583 L -77.03926729190562,38.83927777271972 L -77.03925456293942,38.83927700227441 L -77.0392411800525,38.83927577261638 L -77.03922033092708,38.83927424818699 L -77.03920711710617,38.83927412650811 L -77.03920129220622,38.83927377375673 L -77.0391812398662,38.83927460926769 L -77.03917759780354,38.83927444270778 L -77.03916481179894,38.83927336598437 L -77.0391547903067,38.83927246850129 L -77.0391459797249,38.83927164267886 L -77.0391272922716,38.83926977349745 L -77.03911398255053,38.83926936976297 L -77.03909408627815,38.839268615214486 L -77.03906298485636,38.83926538258422 L -77.03903979951404,38.839263583020504 L -77.03903129202108,38.83926277341583 L -77.03902215475594,38.839262219073014 L -77.03899801839594,38.839260359574894 L -77.03896864483839,38.839257306511236 L -77.0389375443632,38.83925578995775 L -77.03893729238959,38.83925577371398 L -77.0389052914284,38.83925577368769 L -77.03880552659255,38.83926283968712 L -77.0387789408854,38.839264486372706 L -77.03874496291414,38.83926683985489 L -77.03871536178156,38.839268921621866 L -77.03868898569836,38.83927082214325 L -77.03866983365758,38.839272451700914 L -77.03866529198679,38.83927277413173 L -77.03863629119088,38.83926677340741 L -77.03863390820689,38.83926655686724 L -77.03862332718127,38.83926399746399 L -77.03860488835753,38.839263919109925 L -77.03860329226183,38.83926377325043 L -77.03859287452896,38.83926497594603 L -77.03857783086634,38.839266444793076 L -77.03855145551005,38.839269696551206 L -77.03853060815135,38.83927141504149 L -77.03846000436153,38.83927873517556 L -77.03845827645755,38.83927846549131 L -77.03844503079473,38.839279370700396 L -77.03841727278456,38.83928181212279 L -77.0384090951638,38.83928262557503 L -77.03840094422362,38.83928352178306 L -77.03838529140172,38.8392847740398 L -77.03836651610305,38.83928686003979 L -77.03835795617339,38.83928759704227 L -77.03832800946924,38.839289678824514 L -77.03829794762761,38.83929185072142 L -77.03828791699281,38.83929268279007 L -77.038272291437,38.83929377455961 L -77.03826424075334,38.83929503162643 L -77.03824611785718,38.83929745295811 L -77.03822388933702,38.83930115370598 L -77.03821367491263,38.83930293284218 L -77.03820829123228,38.83930377295395 L -77.03818129087871,38.83929877308921 L -77.03817823978001,38.83929712047292 L -77.03817113047238,38.83929252285636 L -77.03815718955909,38.83928568098977 L -77.03813714534573,38.839281543652056 L -77.03811602878918,38.83928202236776 L -77.03811329231819,38.83928177327676 L -77.03809343578746,38.83928397951096 L -77.03808865446169,38.8392844421916 L -77.03808447213022,38.83928497618118 L -77.038059292256,38.839287774200216 L -77.03803866830768,38.83929132912828 L -77.03802991503697,38.83929265903856 L -77.038003654782,38.839295820550895 L -77.037988545915,38.83929790022899 L -77.03797329223733,38.83929977332081 L -77.03795256668836,38.83930316442548 L -77.03794330305031,38.83930457838645 L -77.0379180798254,38.83930846021867 L -77.0379069581489,38.83930991982265 L -77.03784922096176,38.83931575802125 L -77.03784079560099,38.83931641274001 L -77.03782881694684,38.83931731746838 L -77.03781464984492,38.83931831298909 L -77.03778309063182,38.83932057532306 L -77.03775349016348,38.839324008113884 L -77.03773981875113,38.83932576186441 L -77.03772229097031,38.8393277736007 L -77.03765925588547,38.83933337694559 L -77.03763266816324,38.83933539778456 L -77.03760905639498,38.839337207086004 L -77.03759742323977,38.83933802328387 L -77.03757029112724,38.83933977346738 L -77.03754029125646,38.8393407729241 L -77.03753322499773,38.839341306695424 L -77.03751345647576,38.839342552839256 L -77.03750297095579,38.83934359049201 L -77.03748729143256,38.8393447739474 L -77.03746750300688,38.83934787808343 L -77.03745966890432,38.839348966116724 L -77.03745210345,38.839350293913306 L -77.03743629214276,38.83935277405849 L -77.03743571504708,38.83935327815396 L -77.0374246570266,38.83935672461865 L -77.03742085822041,38.839361049894485 L -77.03742040022296,38.839366274944545 L -77.03742023133293,38.839366821699244 L -77.03740194982565,38.83938125459777 L -77.03740174829043,38.83938132504089 L -77.03739667809398,38.839381444901456 L -77.03735032988641,38.83937813280785 L -77.03734219605732,38.8393773803894 L -77.03731777604877,38.839375496424445 L -77.03728563922775,38.839374605849706 L -77.03725223571192,38.839374346262176 L -77.03722064721468,38.83937575377629 L -77.03721929165202,38.83937577278848 L -77.03717967047466,38.83937850596943 L -77.03704529146155,38.83938777335456 L -77.03700568345526,38.83939094281922 L -77.03697039018354,38.83939344371519 L -77.03680627864595,38.839412777051734 L -77.03678173258189,38.83942052868171 L -77.0367766520233,38.83942290063207 L -77.03675729197717,38.83943177442728 L -77.0367454065405,38.83944041727682 L -77.03673578788316,38.839447298258996 L -77.0367352913962,38.83944777417421 L -77.03669827068586,38.83948178935457 L -77.03665829246691,38.839512773544264 L -77.0366571376173,38.839513928115075 L -77.03664149204278,38.83952525102368 L -77.03663435634864,38.83953642374604 L -77.03663436944615,38.83953669512159 L -77.03663429101701,38.83953677340715 L -77.0366352912452,38.83955977336412 L -77.03661829113946,38.83957877414917 L -77.03658529111414,38.839580774239934 L -77.0365512905496,38.83957177362391 L -77.03654574902401,38.83957092068213 L -77.03653013072544,38.839568076084944 L -77.03651181502947,38.83956537927989 L -77.03650596539823,38.83956454895375 L -77.03648129190456,38.83955977374256 L -77.0364796547756,38.83955963462323 L -77.03645905626858,38.83955692782583 L -77.03643383006946,38.83955531418141 L -77.03641031685623,38.83955577363054 L -77.03636846677782,38.83955577316564 L -77.03635354662833,38.83955542929918 L -77.03633039039543,38.83955429581388 L -77.03632229194939,38.83955377359196 L -77.03631514488741,38.839554024111386 L -77.03629376540478,38.83955436688933 L -77.03628112651343,38.83955521761339 L -77.03626529110595,38.83955577373947 L -77.03623791916316,38.83955896672932 L -77.03623410243065,38.83955934007598 L -77.036227463921,38.83956018611618 L -77.0362052908026,38.83956277391823 L -77.03617629135076,38.83956777359342 L -77.03616481146452,38.839571399675364 L -77.0361458800218,38.839576753745966 L -77.03611927694266,38.83958568035054 L -77.03610904865464,38.839588700221185 L -77.03609129122219,38.83959377296854 L -77.03606882650247,38.83960201026121 L -77.03606157911811,38.839604615943664 L -77.0360612912366,38.83960477368056 L -77.03603729069717,38.83961677415999 L -77.03602413862004,38.83962499449259 L -77.03601286964916,38.8396314761742 L -77.03598534773619,38.83964571801915 L -77.03595989954185,38.83966076997946 L -77.03595366978968,38.839664206934515 L -77.03593329104486,38.83967477393267 L -77.03591231238529,38.83968345440387 L -77.0359045087032,38.83968646112387 L -77.03587709876301,38.83969439699139 L -77.03584922758084,38.83970134206427 L -77.03583084911605,38.83970699488184 L -77.03582029168163,38.83970977385204 L -77.03580360832517,38.839714906469936 L -77.03579406229758,38.83971757421091 L -77.03576803360087,38.839723617854006 L -77.03574235248314,38.839733715188764 L -77.03574159609862,38.83973418385996 L -77.03572029107791,38.83974677350218 L -77.03567615148566,38.8397595249552 L -77.03567578868635,38.83975958981434 L -77.03565240709752,38.83976139864943 L -77.03564696582836,38.83976093356091 L -77.03561753238048,38.83975628517625 L -77.03561393244985,38.83975546481642 L -77.03559469494881,38.839752137557085 L -77.03557932467997,38.83975150883658 L -77.03557329079625,38.839750773671696 L -77.03556708123887,38.83975144894597 L -77.0355500032556,38.8397520610934 L -77.03552777431962,38.839755491074015 L -77.03550358849651,38.83976144401257 L -77.03547882786516,38.83976964923414 L -77.03545522010408,38.83977992604447 L -77.03543103672568,38.83979083361647 L -77.0354282094109,38.83979178205134 L -77.03537629038928,38.839808773666114 L -77.03536490499776,38.83981439107178 L -77.03535145871322,38.839820405472445 L -77.03532589411297,38.83983338538511 L -77.03530136572125,38.83984546413345 L -77.03527787309446,38.839855740872935 L -77.03526588237246,38.8398601541343 L -77.03522729064909,38.8398737741826 L -77.03520329029298,38.839880774235525 L -77.03517675708872,38.83988587595235 L -77.03515107167546,38.83989046167392 L -77.03513005892209,38.83989893932422 L -77.0351252904491,38.83990077341655 L -77.03503929145748,38.83994377409034 L -77.03501720389039,38.83995232354756 L -77.03500804403174,38.83995572586022 L -77.03497395412931,38.83996564537829 L -77.03494182095191,38.83997268159565 L -77.03490680849482,38.839980439341545 L -77.034880806547,38.83998706269761 L -77.03487329011837,38.83998877429756 L -77.03484229173218,38.83999777455419 L -77.03481822064694,38.84000604811889 L -77.03481006681862,38.8400086646914 L -77.03480313809496,38.840010919996864 L -77.03478029159042,38.84001777323119 L -77.03472841942528,38.84002814839753 L -77.03472149952918,38.8400293204291 L -77.03469535491746,38.840034282852784 L -77.03467047851977,38.84004167717613 L -77.03466884754886,38.84004237468961 L -77.03464629093972,38.84005177382548 L -77.0346391515112,38.84005748561449 L -77.03462614487259,38.84006772476515 L -77.03461025953848,38.840088809256066 L -77.03460197303534,38.84009993602591 L -77.03459529081482,38.84010877360968 L -77.03459241897701,38.84011297183678 L -77.0345821730691,38.840127463843 L -77.03457193191934,38.84014881690953 L -77.03456341932853,38.840171790984726 L -77.03455605675464,38.84019098116869 L -77.03455295699585,38.84021215194975 L -77.03455204715362,38.84023620478723 L -77.03455195414303,38.84024186043381 L -77.0345512911254,38.8402567741231 L -77.03455129072579,38.8402767734506 L -77.03455529072744,38.84032177399026 L -77.03455229056091,38.840365774411616 L -77.03454529080149,38.84040877382609 L -77.03454477238508,38.84042199726128 L -77.03454385013373,38.840435294009666 L -77.03454317070091,38.840459436862496 L -77.03454329045188,38.84048077447198 L -77.03454330782243,38.84048096589647 L -77.03454977573182,38.84055283116044 L -77.03454989755934,38.84055465420984 L -77.03455186858245,38.840581228559714 L -77.03455320528414,38.84060317613115 L -77.0345542901078,38.84062977326422 L -77.03455979092308,38.84071594310761 L -77.03456000059289,38.84072373986051 L -77.0345592165318,38.84073845708769 L -77.03455762381637,38.840760217474376 L -77.03455725965165,38.840764910422536 L -77.0345522905853,38.8407867742798 L -77.03454957594155,38.84079453136026 L -77.03454483602691,38.84080644193625 L -77.03453297980595,38.84082293091116 L -77.03452722210086,38.840829247539105 L -77.03451829112082,38.840838773803085 L -77.03450256139116,38.84085155412735 L -77.03449848604801,38.840853245542675 L -77.0344272910573,38.84088077387077 L -77.03439006843213,38.84089101056248 L -77.03438764764824,38.84089161822015 L -77.034382902295,38.84089230594952 L -77.03436412654825,38.84089458160871 L -77.0343547060867,38.84089532138584 L -77.03434067403782,38.84089346977416 L -77.03431675649101,38.840889421879396 L -77.0343050567635,38.84088713829805 L -77.03428915968627,38.840884350349306 L -77.03427337848865,38.840883003716634 L -77.03426368776103,38.840883121982614 L -77.03425829110633,38.840882773926204 L -77.03425579116258,38.840883447478646 L -77.03424607998296,38.84088445308164 L -77.03423606035696,38.84088778914809 L -77.03423237525308,38.84088959191924 L -77.03423217588447,38.84088969219673 L -77.0342142905867,38.840876773691136 L -77.03421232784036,38.84090327881986 L -77.03421199393463,38.84090356099491 L -77.03420704384952,38.84090968819274 L -77.03420393717973,38.84091671569528 L -77.03420129203245,38.84092536458382 L -77.03419818674232,38.84093527479026 L -77.03419485090559,38.84094482472614 L -77.03419404913006,38.84095428383501 L -77.03419612758066,38.84096491319875 L -77.03420200775196,38.84097671254712 L -77.03420768151089,38.840985928219254 L -77.03421029065125,38.8409907740014 L -77.03421353355286,38.84099460614689 L -77.03422137266635,38.84100499340833 L -77.03422819720778,38.84101193692317 L -77.03425266089818,38.84104084800129 L -77.03425433442791,38.84104326965749 L -77.03425642926167,38.841047509208124 L -77.03426530159302,38.84106715516208 L -77.0342678258061,38.84107353409353 L -77.0342703095585,38.84107960956468 L -77.03427729092255,38.84109977405875 L -77.03428129031347,38.84112877446667 L -77.03427729069332,38.841154774031295 L -77.03426829003543,38.841176774185705 L -77.03425762588445,38.84119028323648 L -77.03425314033382,38.84119533266366 L -77.03425071335897,38.841198065751705 L -77.03423529063267,38.841211773819516 L -77.03421520568183,38.84121942619477 L -77.03421467949309,38.84121957667755 L -77.03420489023578,38.84122300275811 L -77.03419556258876,38.84122823039282 L -77.03418704263012,38.84123634049452 L -77.0341794453738,38.84124697269165 L -77.03417334697039,38.841260577238295 L -77.03417329954276,38.84126075911028 L -77.03416955364355,38.84127697372957 L -77.03416668138107,38.84129246910596 L -77.03416369388712,38.841307874431514 L -77.03416346197007,38.84130916383392 L -77.03416029099284,38.84132477359222 L -77.03415133010795,38.84137435309752 L -77.0341508257615,38.8413765225927 L -77.03414760775668,38.841391657731485 L -77.03414496633349,38.841408143969126 L -77.03414462253801,38.84141183753448 L -77.03414347609326,38.8414231885178 L -77.03414198533542,38.84143715205246 L -77.0341402635991,38.84144985447155 L -77.03413854199141,38.84146282714409 L -77.03413693552744,38.84147570969838 L -77.03413521383236,38.84148850220183 L -77.03413406803098,38.84150120445229 L -77.03413349799447,38.84151354619628 L -77.03413315764364,38.84152444652103 L -77.03413305152093,38.8415268427999 L -77.03413129122342,38.84155677501767 L -77.03413132028848,38.84155733578523 L -77.03413110472609,38.84156723726144 L -77.0341321454199,38.841575614816094 L -77.03413228583551,38.84157567896026 L -77.03413229092045,38.84157577411051 L -77.03413829096098,38.84159577505706 L -77.03411232789341,38.84160830777214 L -77.03410900885213,38.84160940326884 L -77.03409495810905,38.84161391159925 L -77.03407871983046,38.841620582594814 L -77.0340784664791,38.84162071160221 L -77.03407829012754,38.841620773586804 L -77.03407800728031,38.841620946518994 L -77.03406282779969,38.84162869483908 L -77.03405160670741,38.84163697519007 L -77.03405029034852,38.84163777338499 L -77.03404655262582,38.84164255120614 L -77.03404164262933,38.84164833944157 L -77.03403701297435,38.841654740169695 L -77.0340322909932,38.84166077383014 L -77.03403073087495,38.841665212072904 L -77.03402506972333,38.84167798207564 L -77.03401897443031,38.841698252865555 L -77.03401732284817,38.84170564590644 L -77.0340142912676,38.84171777385314 L -77.03401229028121,38.84173977363486 L -77.03401237863663,38.841740874892125 L -77.03401382278385,38.84176500698342 L -77.03401590655378,38.841786806825695 L -77.03401787582385,38.841810048053205 L -77.03401800333175,38.84183590226795 L -77.03401614615882,38.84185150262964 L -77.03401529099582,38.8418577738862 L -77.03401307061374,38.841871096341805 L -77.0340111141102,38.84188220770903 L -77.03400594261805,38.841907342791416 L -77.03400151131004,38.84192211456222 L -77.03399929062992,38.84192877414271 L -77.0339952906298,38.84195277381851 L -77.03399229011816,38.841978774767966 L -77.03399133768659,38.84198640069817 L -77.03398893997958,38.842002296806214 L -77.03398754529348,38.842024585243344 L -77.0339872912376,38.84202777430857 L -77.03398529094243,38.84205277390231 L -77.03398467850185,38.842066841901016 L -77.03398413723612,38.842076167493225 L -77.03398375806016,38.84208269141032 L -77.03398229057225,38.842101774549285 L -77.03398075616491,38.842119418044774 L -77.03398012901074,38.842125264711214 L -77.0339772604032,38.842148597430985 L -77.03397707606933,38.84215155507123 L -77.03397529017877,38.842174774870045 L -77.03397229038197,38.84219777431504 L -77.03397022628377,38.84221428627781 L -77.0339691166527,38.84222138807414 L -77.03396613357768,38.84224625226299 L -77.03396303364038,38.8422676031904 L -77.03396108597452,38.84228976454277 L -77.03396035540386,38.84231128425197 L -77.03396029059896,38.84231277404319 L -77.03395829101937,38.84233477438444 L -77.03395777679835,38.842340427336026 L -77.03395616456608,38.84235642850023 L -77.0339562899735,38.842368830283384 L -77.03395629085935,38.84237977385997 L -77.03395664226147,38.84238750131817 L -77.03395710771633,38.84240192089495 L -77.03395728984776,38.84241249225718 L -77.03395729041905,38.84242277427581 L -77.03395729002769,38.84243405961071 L -77.0339571281987,38.84244498127645 L -77.03395506486575,38.84246615173236 L -77.03395219482248,38.842486511662386 L -77.03394909499907,38.84250813284201 L -77.03394802496976,38.84251980190998 L -77.03394729107495,38.84252677466305 L -77.03394531408722,38.84255542829945 L -77.03394529121381,38.84255577400532 L -77.03394585516081,38.84256990471972 L -77.03394624966903,38.842580471515696 L -77.03394629156915,38.84258077441265 L -77.03394829049863,38.84259977433931 L -77.03394829145427,38.84260783971602 L -77.03394822185139,38.84260983848589 L -77.03394811240256,38.842621909839366 L -77.03394803874687,38.84262446994937 L -77.03394529029762,38.84265377467008 L -77.03393636621705,38.84268451578186 L -77.03393616273561,38.84268506254124 L -77.0339306416087,38.842701819861254 L -77.0339268483209,38.84271857667872 L -77.03392443739061,38.84273551326324 L -77.03392331917378,38.84274578434591 L -77.03392229010927,38.84275277407522 L -77.03391529027073,38.84278477524537 L -77.03390453896404,38.842817029178235 L -77.03390431820841,38.84281758607708 L -77.03390353793078,38.842819380111095 L -77.03389055768648,38.842847070221545 L -77.0338890134286,38.84285011102136 L -77.03388026623973,38.84286533783883 L -77.0338720955942,38.84288182567116 L -77.03386381031054,38.842899484634394 L -77.03385726149155,38.84291558913597 L -77.03385628989457,38.842917775092644 L -77.03384929057083,38.84293577487671 L -77.03384129125153,38.842953774387276 L -77.03383747677589,38.84296235604029 L -77.03383297370075,38.84297174133381 L -77.03382319058716,38.8429886800522 L -77.03382001174289,38.84299255742126 L -77.03381029070759,38.84300377406671 L -77.03379886213168,38.843016835122576 L -77.03379625082513,38.843019676918054 L -77.0337840481954,38.84303553531977 L -77.03377322779752,38.843051303235725 L -77.03376171616955,38.84306689118163 L -77.03375472975263,38.84307877196736 L -77.03375129153504,38.843083774339505 L -77.03374624764395,38.843094420968605 L -77.03374192043434,38.84310275053001 L -77.03373087129675,38.843122031802835 L -77.03372028295628,38.84314140302587 L -77.03371015575362,38.84316158487502 L -77.03370187141812,38.84318140585328 L -77.0336939326913,38.84320131681556 L -77.03369358754578,38.84320221776 L -77.03368932500615,38.84321336131463 L -77.03368529058937,38.843222774618184 L -77.03367828997652,38.84324277482998 L -77.03367467680664,38.84325542148138 L -77.03367196088915,38.84326393187012 L -77.03366825332212,38.84327487651489 L -77.03366429015365,38.84328577506492 L -77.0336542904811,38.84330777488941 L -77.03364529129695,38.84332777511211 L -77.03363729041664,38.843348775547184 L -77.03362529098032,38.843369774881445 L -77.03361975221806,38.843379927308554 L -77.03361304354547,38.8433915985588 L -77.03360222602404,38.84341367237061 L -77.03359679016936,38.84342527512706 L -77.03359129018932,38.8434367743045 L -77.0335882126599,38.843441832307505 L -77.03357690566558,38.84345953265627 L -77.03356419201866,38.84347595533484 L -77.03356029004011,38.84348077485028 L -77.03354328984197,38.84350177505036 L -77.03353377156722,38.84351573693796 L -77.03352809495719,38.843523686834644 L -77.03351497310858,38.843544770370514 L -77.03350691964803,38.843565852450034 L -77.03350384118467,38.84357661505042 L -77.03350029134411,38.84358777472067 L -77.03349893438484,38.843597263820484 L -77.03349680306134,38.84360891573299 L -77.03349185961625,38.84362972666524 L -77.03348649406935,38.84364394634993 L -77.03348329039282,38.84365177448377 L -77.03347852831622,38.84366173187325 L -77.03347206777107,38.8436745043264 L -77.03345813958322,38.84369567817104 L -77.03344536308671,38.84371640126161 L -77.03343523618888,38.84373757401416 L -77.0334311032262,38.84374576950684 L -77.03342429000126,38.84375877515175 L -77.03341329090499,38.84378077467701 L -77.03340329011377,38.84380377441614 L -77.03339229075213,38.84382677444 L -77.03338710073267,38.843839231228934 L -77.03338230102781,38.84385037492481 L -77.03337229058897,38.84387434025672 L -77.03336977134094,38.84388170369339 L -77.03336428951766,38.8438967752664 L -77.03336090089648,38.84390791180163 L -77.03335710634063,38.843919296748 L -77.03334942476911,38.84393987705119 L -77.033348290047,38.843942774154144 L -77.03334662092246,38.843946780011755 L -77.03333823691402,38.843966326232405 L -77.03332799559857,38.84398930069684 L -77.03332132697271,38.84400370260318 L -77.03331729111719,38.84401177532368 L -77.03331285410287,38.84402261825592 L -77.03330797304164,38.84403380813996 L -77.03330424497081,38.8440426746415 L -77.03329829135586,38.8440557746218 L -77.03329383780266,38.844072846898975 L -77.03329221263459,38.84407849453263 L -77.03328600266089,38.84410074716732 L -77.03327829076646,38.8441227750186 L -77.03327817284061,38.844123087532715 L -77.03326932115313,38.84414642474821 L -77.03326751267132,38.84415112147951 L -77.03326029045299,38.84416877558901 L -77.03325029099746,38.844191774187166 L -77.0332439750069,38.844204404139276 L -77.03323825150929,38.84421543830123 L -77.03323456045996,38.84422190403871 L -77.03322429103565,38.84423877527849 L -77.03321145485421,38.84425845788303 L -77.0332091295502,38.84426184009024 L -77.03320608359662,38.84426681361932 L -77.03319529007761,38.84428377509 L -77.03318429108522,38.84430477521719 L -77.03317529066855,38.84432577533831 L -77.0331692895605,38.8443467751694 L -77.03316229034162,38.8443687746582 L -77.03315964049065,38.844383343757926 L -77.03315804424881,38.84439085556659 L -77.03316104769763,38.84440905177497 L -77.03316114207533,38.84440918969002 L -77.03313229071517,38.844489774493795 L -77.03313099581078,38.844490397570155 L -77.03311800611199,38.84449590541707 L -77.03310811508554,38.84450141407272 L -77.03310529062459,38.844502775149216 L -77.03310437089897,38.844503579976916 L -77.0330916344631,38.84451185784622 L -77.03308175413346,38.84452336893688 L -77.03308128995212,38.84452377444854 L -77.03308099871458,38.84452451491272 L -77.03307298544885,38.8445380777101 L -77.03306827111575,38.844556546360344 L -77.03306609222395,38.84457762674148 L -77.03306483449528,38.84459789610143 L -77.03306415327093,38.84461933639598 L -77.03306263271057,38.84462706776245 L -77.03305928957808,38.84464177443447 L -77.03305568369477,38.844654998728345 L -77.03305300011851,38.84466366110906 L -77.0330475232341,38.84467723388364 L -77.03304429125198,38.844684774867886 L -77.03303769673295,38.84470089171825 L -77.03303539541315,38.84470636612655 L -77.033035289769,38.84470677491469 L -77.03302884026863,38.8447297899409 L -77.03302479526175,38.8447462540202 L -77.03302329023083,38.84475177493423 L -77.03301929025965,38.844773775253515 L -77.03301528951313,38.844798774822216 L -77.03301229166212,38.844823775233145 L -77.03300967605706,38.84484555726849 L -77.03300919742814,38.84484897723505 L -77.03300873568598,38.84485154927686 L -77.03300429015586,38.844873774369404 L -77.0329982903384,38.844897774564885 L -77.03299229118383,38.844924775698196 L -77.03298898198842,38.84494131613956 L -77.03298701194888,38.844950148351124 L -77.03298351573332,38.84496550085635 L -77.0329812903117,38.84497477455375 L -77.03297703341578,38.844993929400694 L -77.03297528601873,38.845001589888106 L -77.0329680408749,38.84502762634201 L -77.03296391998664,38.845041979085465 L -77.03296029036694,38.84505377441757 L -77.03295629004633,38.84507977504645 L -77.03295229049786,38.845102775862614 L -77.03294929117163,38.845127775145 L -77.03294903154246,38.84512993274095 L -77.03294586646565,38.84515303016193 L -77.03294080955487,38.84517816515129 L -77.03293609884449,38.84520465130945 L -77.0329300058085,38.84523113785726 L -77.03292685014758,38.845240332991764 L -77.03292128982174,38.84525577503505 L -77.03291701535619,38.84526812569269 L -77.03291205888067,38.845281590211485 L -77.03290492725955,38.84530411333467 L -77.03289583759083,38.845327177515884 L -77.032888361126,38.84535132225518 L -77.03288602724705,38.8453612063029 L -77.03288229062258,38.84537677563752 L -77.03288152066845,38.84538077898212 L -77.03287698055725,38.84540258351274 L -77.03287319111,38.845428528901174 L -77.03287154106877,38.845439713350146 L -77.03286929046389,38.8454537750402 L -77.03286667936004,38.84547140473884 L -77.03286515172186,38.84548105039821 L -77.03286238912827,38.84549334601396 L -77.03285929011291,38.84550677453633 L -77.03285529082774,38.84552577447197 L -77.03285129110346,38.845554776033204 L -77.0328482911219,38.845573775687214 L -77.0328460317152,38.845582809540865 L -77.03284308621684,38.845593481998385 L -77.03283618393651,38.84561384302498 L -77.03283516984115,38.845617697235454 L -77.03283029130361,38.84563477467736 L -77.03282629076328,38.84565577448664 L -77.0328245533991,38.8456774954609 L -77.03282423444213,38.845680598959746 L -77.03282090507534,38.8457051028648 L -77.03281926571427,38.84571449350304 L -77.03281629090739,38.845728775538916 L -77.03281129052594,38.84575177494008 L -77.03280829000497,38.84577277503025 L -77.03280778535564,38.84577757498384 L -77.0328058542869,38.84579140799281 L -77.03280597701608,38.84580780332692 L -77.03281022753926,38.84582000407 L -77.03279829046431,38.84586377495104 L -77.03279815952573,38.84586398218202 L -77.03279229705987,38.8458691546761 L -77.03278642631766,38.845878254853865 L -77.03278138287813,38.84589062824235 L -77.03278129006979,38.84589077465562 L -77.03278126134614,38.84589093794176 L -77.03277803018695,38.8459067238954 L -77.03277546342626,38.845923796743804 L -77.03277529108387,38.84592477589747 L -77.0327751326581,38.845926271906706 L -77.03277286346966,38.845943840135845 L -77.03276940681242,38.845959311982966 L -77.03276829003285,38.84596377541748 L -77.032766869268,38.845969460707515 L -77.03276309015759,38.845983570117696 L -77.0327568784065,38.846002669762356 L -77.03274986103258,38.84602339115256 L -77.032741922344,38.84604465330733 L -77.03273652310504,38.84605991399965 L -77.03273429101235,38.84606577461839 L -77.03272828962858,38.846086774983924 L -77.03272633337302,38.84609754512703 L -77.03272398143835,38.84610897862769 L -77.0327192679435,38.846129699369804 L -77.03271812863623,38.8461352911176 L -77.0327152909398,38.84614877473817 L -77.03271335986715,38.846157947001196 L -77.03271122167578,38.84616762717323 L -77.03270581621885,38.84618663650421 L -77.03269994973117,38.846205105457344 L -77.0326955245876,38.846221933343685 L -77.03269529026312,38.84622277513577 L -77.03268928964037,38.846240774560734 L -77.03268526696961,38.84625606132696 L -77.03268419312487,38.84625997129218 L -77.0326790185803,38.84628015165462 L -77.03267522666404,38.84630096222076 L -77.03267499689292,38.84630231524071 L -77.0326712907524,38.84632177451613 L -77.03266728966975,38.84634177550657 L -77.03266328976186,38.84636277530768 L -77.0326582909218,38.846387775136904 L -77.03265131157468,38.84641307617663 L -77.03264993690681,38.84641726830247 L -77.03264430160046,38.84643753887616 L -77.03264004904867,38.84645870990721 L -77.03263579624715,38.84647934043148 L -77.0326291252426,38.846501953489046 L -77.03262791416392,38.84650649239389 L -77.0326222913525,38.846525775412125 L -77.03261963424185,38.846539054036974 L -77.03261693669997,38.84655051240441 L -77.0326147586813,38.846561322018765 L -77.032611289975,38.84657577534588 L -77.03260876417863,38.84659282565618 L -77.03260705353634,38.846602313713696 L -77.03260375867158,38.84661749273461 L -77.03260129025917,38.8466277759988 L -77.03259441195449,38.846655288578674 L -77.03258693031052,38.84668123329436 L -77.03258458802321,38.846690233382795 L -77.03257929027583,38.846708775363176 L -77.03257580502746,38.84672172034234 L -77.0325718639892,38.84673456748169 L -77.03256300466919,38.846758172073855 L -77.03255333979298,38.846783578578474 L -77.03254517237632,38.846808804495836 L -77.03253815703802,38.846834300344625 L -77.03253206441325,38.846862318299735 L -77.03252896659694,38.84688970482887 L -77.03252823801027,38.846903989043824 L -77.03252728986809,38.84691677566632 L -77.03252529081992,38.846942774588754 L -77.03252229073871,38.84696977541616 L -77.03252003818235,38.84698929283456 L -77.03251922318282,38.84699564682871 L -77.0325150871932,38.847019970775676 L -77.03251002983451,38.8470447454011 L -77.03250764919078,38.847053359261125 L -77.0325022911259,38.84707077576145 L -77.032497657982,38.84708798486553 L -77.03249507787835,38.847096548108304 L -77.03249222464994,38.84710772049709 L -77.03248829060475,38.84712177532522 L -77.03248229034995,38.84714877529671 L -77.03248191495267,38.84715130621042 L -77.03247806469867,38.847175466797886 L -77.03247680938028,38.847201501545236 L -77.03247520781508,38.84722609503805 L -77.03247456598663,38.84723012480542 L -77.0324712903785,38.84724977594413 L -77.03247005969074,38.84725715757875 L -77.03246705031755,38.84727330154412 L -77.0324619918591,38.84729573397182 L -77.03245704793895,38.8473167250166 L -77.03245454598024,38.847327752045324 L -77.03245229006339,38.84733677575329 L -77.03244928936991,38.8473577752658 L -77.0324452910467,38.84737777568141 L -77.03244376042713,38.84738899724735 L -77.03244199469226,38.84739933661434 L -77.03244014724824,38.84741048845282 L -77.03243829031616,38.84741977498336 L -77.03242729156092,38.847450775524806 L -77.03242634855972,38.847452745820405 L -77.03242197774598,38.84745951856763 L -77.03241806407202,38.84746618590156 L -77.032415878886,38.847474023852776 L -77.0324169206101,38.84748492377808 L -77.03241819338345,38.84749726498986 L -77.03241813619557,38.847498169228096 L -77.03241591405317,38.847518170838086 L -77.03241486485614,38.8475241110707 L -77.03241366928151,38.84752956488809 L -77.03240890999267,38.84754656063491 L -77.0324079644346,38.84754924653911 L -77.03240232160987,38.8475533019044 L -77.03239852300351,38.84755969895237 L -77.03239640353696,38.847569577296916 L -77.03239629058955,38.847569775513946 L -77.03239621453764,38.84757036220983 L -77.0323930040411,38.84758285217912 L -77.03239209039312,38.847600328809456 L -77.03239209999953,38.84762149864463 L -77.03239095824513,38.8476440200654 L -77.03239016591502,38.847652773675314 L -77.0323882906835,38.847667774939914 L -77.03238669130313,38.8476877527288 L -77.03238614214735,38.84769293723923 L -77.03238558305884,38.847701619842844 L -77.03238429081638,38.84771777571512 L -77.03238395137636,38.847726576493535 L -77.03238282430591,38.847743385431876 L -77.03238117507729,38.847761410091586 L -77.03238028995678,38.84776877530097 L -77.03237829011222,38.84779477646962 L -77.03237629098521,38.84782077538578 L -77.03237582843232,38.847832764623384 L -77.03237503761235,38.84784644416079 L -77.03237344881643,38.84787072685486 L -77.03237329062848,38.847872775193004 L -77.03226928993581,38.84802377589136 L -77.0323030810863,38.848143036613855 L -77.03230282801054,38.84814383280486 L -77.03229914937194,38.84816085977591 L -77.032297889895,38.848177886077515 L -77.03229697629766,38.848195542874194 L -77.03229670112577,38.848206381793645 L -77.03229628975684,38.84821377502218 L -77.03229829056511,38.848232775522156 L -77.03230029011908,38.848253775333205 L -77.03230100102122,38.84826869649237 L -77.03230115910436,38.848274365572934 L -77.03230146615292,38.848278283033615 L -77.03230229008504,38.84829477557129 L -77.032304802853,38.84831068828623 L -77.03230520890567,38.84831382142211 L -77.03230549440224,38.8483178436118 L -77.03230629072266,38.84833377594463 L -77.03230829046701,38.84835677562895 L -77.03230929113231,38.84837877565275 L -77.03231029037924,38.848408775172 L -77.03231122680005,38.84842563533513 L -77.03231125023807,38.84842651534068 L -77.03231102815921,38.84844489262058 L -77.03231050281373,38.84845975781866 L -77.03231029151478,38.84846377564151 L -77.03231029063055,38.848466594157586 L -77.03230989386869,38.84848398956568 L -77.03230990312461,38.848504438722635 L -77.0323050773733,38.84853227613873 L -77.03230519715137,38.84853921260458 L -77.03230429091371,38.84860177534654 L -77.03230231726934,38.8486412373647 L -77.03229893343078,38.84870199685102 L -77.03229615090117,38.848761427425416 L -77.03229428986567,38.84879677480633 L -77.03229429002312,38.84880508002485 L -77.03229403138391,38.84881586488796 L -77.03229312001892,38.84883847632407 L -77.0322918643186,38.84886388047167 L -77.03229130701799,38.84887656113084 L -77.03229029060158,38.84888977679309 L -77.03228928996427,38.84891877580034 L -77.03228829121893,38.848948775869786 L -77.0322882907777,38.848968493092165 L -77.03228799998242,38.848979820159336 L -77.03228617145798,38.8490122510476 L -77.03228531554763,38.84902217126533 L -77.03228329060501,38.84904377575244 L -77.0322812909749,38.84907677647134 L -77.03228029043225,38.84911077516148 L -77.03228028970031,38.849145775763844 L -77.03228012676838,38.849151675210585 L -77.0322788753897,38.84918188197974 L -77.03227487386097,38.84924926621178 L -77.03227561284434,38.84925781051205 L -77.03227570836843,38.849260473605476 L -77.03227592324727,38.849277101998716 L -77.03227524288171,38.84930106463495 L -77.0322751700501,38.84930241029069 L -77.03227328935726,38.84932777632311 L -77.03227148658767,38.849350321003286 L -77.03227123425641,38.8493527741836 L -77.03227101611485,38.84937988964539 L -77.03227129146138,38.84939967773158 L -77.0322712906186,38.84940577644501 L -77.03227129085316,38.849431776488835 L -77.0322721297802,38.8494527557851 L -77.0322722027763,38.84945655113284 L -77.03227082876211,38.849475108896776 L -77.03227003123777,38.84949474751395 L -77.03226990085356,38.84950256969004 L -77.03226929004956,38.849514776293525 L -77.03226729127084,38.849533776206485 L -77.03226657264982,38.84954957551762 L -77.03226614178887,38.84955528529782 L -77.03226500073757,38.84957951831339 L -77.03226409607771,38.849594705102 L -77.03226329134557,38.84960477563284 L -77.03226257180474,38.849613764564424 L -77.03226099123421,38.84962933608747 L -77.03225708646369,38.84965600214488 L -77.03225554204059,38.84966393731693 L -77.0322512907392,38.849683775636336 L -77.032247291256,38.84971277603097 L -77.03224521948701,38.84973279785786 L -77.03224423013536,38.849742217579646 L -77.03224029020663,38.849770775417774 L -77.03223763482208,38.84978670644843 L -77.03223491803287,38.84980059370647 L -77.03222986078669,38.8498262691522 L -77.03222537142452,38.84984193888102 L -77.0322232908135,38.849848775734046 L -77.03221959675354,38.84985739614008 L -77.03221398273696,38.84986987437647 L -77.03220544076738,38.84988305044836 L -77.03220229071107,38.84988777568024 L -77.03220227925934,38.84988792713777 L -77.03220212528518,38.84988816477779 L -77.03218888439905,38.84990420344976 L -77.03217414491859,38.84991808050807 L -77.03215594846644,38.849929886576014 L -77.0321341796385,38.849939171261866 L -77.0321104520618,38.84994773580739 L -77.03208637839002,38.84995521943062 L -77.03206195898845,38.849962432890734 L -77.03204088199229,38.84997315871921 L -77.03202510658778,38.849989107983625 L -77.03201117564792,38.8500078493559 L -77.0319993180808,38.850026049651795 L -77.03199275859512,38.85004163604753 L -77.03199103695519,38.85005586985139 L -77.03199208018643,38.85007019298192 L -77.03199565760508,38.850083974911534 L -77.03200579988678,38.85009415166608 L -77.0320221607416,38.850099191904384 L -77.032039785862,38.85009765563372 L -77.03205752411964,38.85009152502598 L -77.0320796397416,38.850084762621975 L -77.03210279237382,38.850078450350544 L -77.0321235263419,38.850073399921385 L -77.0321439170155,38.85007348439276 L -77.0321666129333,38.850076270756745 L -77.03218792765563,38.85008176002857 L -77.03218847289028,38.85008217764455 L -77.03219800013592,38.850103137652226 L -77.0321979600049,38.85010355768171 L -77.03218460148014,38.850114281406654 L -77.03216225423844,38.850118341362965 L -77.03213817844612,38.85012123069393 L -77.03211329697146,38.8501257417604 L -77.03208853041166,38.850129622199304 L -77.03206606791792,38.85013359208444 L -77.03204855964893,38.850138821786516 L -77.03203946371008,38.850149904662004 L -77.03203647477989,38.85016395864536 L -77.03204212458495,38.85017494738884 L -77.03205906280343,38.85018296024793 L -77.03207865179397,38.850193494738754 L -77.03209858870389,38.8502091639401 L -77.0321170291371,38.85022735591233 L -77.03213120858065,38.850248792092096 L -77.03214043444353,38.85027040980278 L -77.03214538165929,38.85029444745648 L -77.03214529108602,38.850294776289395 L -77.03214929093475,38.85032077635406 L -77.03214963759433,38.85032311732632 L -77.03215302631892,38.850347878898866 L -77.03215486557147,38.850361429897454 L -77.0321562902752,38.85037377556867 L -77.03216028959365,38.85040177606889 L -77.03216200466557,38.85041137352353 L -77.03216492908054,38.85042994248554 L -77.03216899982941,38.85045666207836 L -77.03216929094708,38.85045877616577 L -77.03217329045651,38.850488775975165 L -77.0321782898854,38.850516775635604 L -77.03218328995146,38.85054777679421 L -77.03218543202392,38.85056062561333 L -77.03218792103995,38.85057803485807 L -77.03219219741352,38.85060884253415 L -77.03219382927472,38.85062070506984 L -77.0321962909641,38.85063977637843 L -77.032200290946,38.85067077612241 L -77.03220237403117,38.85068692148219 L -77.0322039899791,38.85070180635262 L -77.03220722974882,38.85073306473531 L -77.03220792957188,38.850739377767475 L -77.03221029071034,38.85076377534151 L -77.03221329060429,38.85079477648647 L -77.03221529066668,38.85082477571846 L -77.03221628990877,38.850854776352556 L -77.03221797770532,38.850872497734066 L -77.03221823834095,38.850875665253746 L -77.0322184708888,38.850877221960026 L -77.03222229068851,38.8509077763972 L -77.0322242911122,38.85093377588251 L -77.032224851169,38.85094946673552 L -77.03222495905348,38.8509619642226 L -77.03222487034154,38.850974391385456 L -77.03222429065568,38.85099177613911 L -77.03222299433192,38.85101186362152 L -77.03222199139395,38.85102313232646 L -77.03222074453002,38.85104751738235 L -77.03222029059526,38.85105477661843 L -77.03222029130035,38.85106909946928 L -77.032220176328,38.85108556129265 L -77.03221992788762,38.8510966518726 L -77.03221928994307,38.851115775833236 L -77.03221872542822,38.85113327825495 L -77.03221813028357,38.85114672914084 L -77.03221791374267,38.851177447968645 L -77.03222011638645,38.85120798595985 L -77.0322220882597,38.851237713255344 L -77.03222002826506,38.8512679821697 L -77.03221806981976,38.85128555197602 L -77.032216290589,38.851299776787755 L -77.03221129053654,38.85133277606915 L -77.03220859511624,38.851349482957644 L -77.03220601655352,38.85136347545941 L -77.03220222930955,38.851395546536544 L -77.03220146333513,38.851408599971634 L -77.03220029069887,38.851426775940766 L -77.03220029051874,38.85143435710271 L -77.0321999533621,38.85145788554137 L -77.03220111978392,38.85148977508277 L -77.03220401369265,38.85152040296637 L -77.03220592180513,38.85154605058284 L -77.03220629016018,38.851551775905214 L -77.03220649463462,38.851554940624894 L -77.03220784358231,38.85158283036987 L -77.0322101623323,38.85161535018311 L -77.0322109650073,38.85163735193974 L -77.0322112908425,38.85164777686199 L -77.03221152799934,38.85165156371771 L -77.03221284100647,38.8516795795902 L -77.03221535971646,38.85170046157489 L -77.03221628987252,38.85170977660361 L -77.03221928942654,38.851727169375735 L -77.03222116244537,38.85173885279964 L -77.03222275157434,38.851750092073395 L -77.03222529062992,38.851769776493136 L -77.03222776411332,38.85178296866406 L -77.03223086777098,38.851801278578314 L -77.03223721599898,38.85182785170984 L -77.03223809086167,38.851831109143696 L -77.032243290597,38.85185277637283 L -77.03224846369143,38.851871249555685 L -77.03225002612653,38.85187757473474 L -77.03225430028441,38.85190324759446 L -77.0322588058718,38.85193117249879 L -77.03226233343653,38.85194903243585 L -77.03226429001869,38.85196077607947 L -77.03226725401515,38.851974323383715 L -77.032270815019,38.85199287696069 L -77.03227342439351,38.85201038131785 L -77.03227529046656,38.85202577621755 L -77.0322794885188,38.85205348218795 L -77.03228017627572,38.85205854586435 L -77.03228219834662,38.85207975397638 L -77.0322832903071,38.85209177599399 L -77.03228353170967,38.85209538662056 L -77.03228504359136,38.85212205398512 L -77.03228529053098,38.852137905947195 L -77.03228529149663,38.85215277605784 L -77.03228129098454,38.852179776569606 L -77.03227529049414,38.85220577657173 L -77.03226974477288,38.852227959686516 L -77.03226919418366,38.85223006950154 L -77.03226884791674,38.85223181160331 L -77.03226429096247,38.85225277661668 L -77.03226468932344,38.85226274152452 L -77.03226483806458,38.85227799557854 L -77.0322665165235,38.852292480677626 L -77.03226729115897,38.85230177716814 L -77.03227129169996,38.85232577622132 L -77.03227653225164,38.85233888148189 L -77.03228088429756,38.85235041895719 L -77.03229495006669,38.85237419733419 L -77.03230613208818,38.85239313728898 L -77.03230929125975,38.852398776257715 L -77.03232020571829,38.852421517844576 L -77.03232131274662,38.85242385691588 L -77.03232929110652,38.85245177634933 L -77.03233798450691,38.852479788483556 L -77.03233831552143,38.85248093527815 L -77.03233881378297,38.852482522313686 L -77.0323472905707,38.852510776608675 L -77.03235729030631,38.85254077586501 L -77.03236216571861,38.85255362954935 L -77.0323679637004,38.85257011056152 L -77.03237323496622,38.852587354621214 L -77.03237729025716,38.85260177599981 L -77.03238629106534,38.85263277715552 L -77.03239238374499,38.852654440749305 L -77.03239531046027,38.85266505187261 L -77.03240500207724,38.852696668786564 L -77.03241400197815,38.8527272048795 L -77.03242231130777,38.85275918251287 L -77.03243119601828,38.85278971863616 L -77.03244123344902,38.85282169578773 L -77.03245092498473,38.85285304244407 L -77.03245711874715,38.85287681566818 L -77.03245929085242,38.852885776766854 L -77.03246529133718,38.852916776497175 L -77.03247228998885,38.85294977638464 L -77.03247929152742,38.85298277683383 L -77.03248529195432,38.853016776371014 L -77.03249029081394,38.853050776749456 L -77.03249187909307,38.85306157347807 L -77.03249526969941,38.853085177445365 L -77.03250000816516,38.85311814699293 L -77.03250295231568,38.853135344961835 L -77.03250529155038,38.85315077688306 L -77.03250900893431,38.85316777363575 L -77.0325121344861,38.85318327459013 L -77.03251883172102,38.853216784096844 L -77.03252483731296,38.8532493929524 L -77.03253029125673,38.853281776750315 L -77.03253038436775,38.853282272188224 L -77.0325359266968,38.85331425058158 L -77.0325407458443,38.85334406827822 L -77.03254129116621,38.853347776785576 L -77.03254629060335,38.85337977616143 L -77.03254667021015,38.85338167289378 L -77.0325518686252,38.853409465275554 L -77.0325554644111,38.853428182107606 L -77.03255729094998,38.85343877607852 L -77.03256010223193,38.853455079995136 L -77.032562148693,38.85346792713884 L -77.03256711549136,38.853496212232805 L -77.03257219741829,38.85352431712563 L -77.03257226813054,38.8535246414095 L -77.03257229123354,38.853524776529525 L -77.03257829117207,38.8535527764428 L -77.032582805546,38.85356631936167 L -77.03258743026781,38.853580255242406 L -77.03259596739095,38.85360610706109 L -77.0326041601747,38.85363475158935 L -77.03260594697836,38.8536418750715 L -77.03261129009033,38.85366477751914 L -77.03261829111165,38.85369477645906 L -77.03262428983695,38.8537247773676 L -77.0326295720073,38.85374665174382 L -77.03263105761779,38.853753295047575 L -77.03263706099945,38.853780859172886 L -77.03264317984035,38.853808963771435 L -77.03264475220965,38.8538163738935 L -77.03264829101332,38.85383477713135 L -77.03265103076271,38.853845737375266 L -77.03265391703745,38.853859047652854 L -77.03265568744723,38.853868087119544 L -77.03265729156159,38.85387877686489 L -77.03266029126237,38.853900777432635 L -77.0326652912493,38.85393377673638 L -77.0326682904972,38.853954777367875 L -77.03266969252344,38.85397228711567 L -77.03267010120521,38.85397948586471 L -77.03266876155861,38.853989716440424 L -77.03266629050405,38.85400577635135 L -77.03266336085332,38.85402042825992 L -77.03266113825985,38.85403029593013 L -77.0284606298541,38.85502218055799 L -77.02228484126312,38.85648049775859 L -77.01977356906679,38.857073496351774 L -77.01884870411921,38.85729188862234 L -77.0145238110798,38.85831314515183 L -77.0137410465785,38.858930497181994 L -77.01374098177726,38.85893053603846 L -77.01374128498519,38.8589307792302 L -77.01372728422547,38.858938778669135 L -77.01347528471281,38.85909577869565 L -77.01324728563942,38.85922877813781 L -77.01320928972677,38.85924929631359 L -77.01319728540435,38.859255778669215 L -77.01318797260255,38.85926109975897 L -77.01314828481593,38.859283778438524 L -77.0129982848531,38.85936677802112 L -77.0128612850954,38.85943277820907 L -77.012725284766,38.85949977806155 L -77.01235293006421,38.85967836219253 L -77.01221291638598,38.859745513887155 L -77.0120142847455,38.85984077886628 L -77.01183501640834,38.859923835131546 L -77.01179628406416,38.859941779325936 L -77.01159528532582,38.860038778512596 L -77.01154828482763,38.86006277935737 L -77.0106102848727,38.860520778871766 L -77.01052766556158,38.86056016779423 L -77.01026628424394,38.860684779235946 L -77.01014524760362,38.86074290764984 L -77.0099051503213,38.86085821635848 L -77.00917728438054,38.861207778943005 L -77.00908028461035,38.86125677882523 L -77.00893828337051,38.86133277919169 L -77.00879428338408,38.86141377864541 L -77.00869528294547,38.861471778894895 L -77.00864628363303,38.86150177944852 L -77.00855028406895,38.861562779155804 L -77.00845628364421,38.86162577907109 L -77.00841028380022,38.86165877911146 L -77.00831728421694,38.861722779902365 L -77.00822528423288,38.861788779291196 L -77.00809128291895,38.861888779865296 L -77.00804728419742,38.86192377949165 L -77.00803728306606,38.86195577977669 L -77.0080042835304,38.86195877903279 L -77.00791928376913,38.862028779688096 L -77.00782128415617,38.8621127796733 L -77.00767828326208,38.86224278009592 L -77.00758976525373,38.86232871269165 L -77.00758353459518,38.862334761123996 L -77.00754128374692,38.86237577919351 L -77.00741328323255,38.86250877980827 L -77.00729928393342,38.86263577923516 L -77.0071912832663,38.86276577910805 L -77.00708928413077,38.862898779443185 L -77.00695722904577,38.86308503587086 L -77.00695528421635,38.863087779613046 L -77.0069155073019,38.86314716208941 L -77.00674428429345,38.86340277976745 L -77.00633110511077,38.86402582672141 L -77.00611428329479,38.864352780734194 L -77.00591128219502,38.864662780351985 L -77.0058022841609,38.86482677952082 L -77.0056992825491,38.86498377987826 L -77.00556234448273,38.86518839461339 L -77.00544028249999,38.865370779099585 L -77.00497028218568,38.8660857798613 L -77.0047792828516,38.86637278011911 L -77.00476728316325,38.866391779915894 L -77.00465828280781,38.86654578031983 L -77.00465618598945,38.86656186436141 L -77.00465528262158,38.86656878004328 L -77.00448828257625,38.866817780232786 L -77.00445428337687,38.86686978034312 L -77.00437028248717,38.86699778066879 L -77.00426449114016,38.86715555621971 L -77.00425428276785,38.86717078080818 L -77.00409279196928,38.86741580073994 L -77.00384828312896,38.867786781059046 L -77.0037492826937,38.86793878150675 L -77.00367528333354,38.868050780924484 L -77.00351328288153,38.86829378102432 L -77.00349028175658,38.86833078150664 L -77.00339228270148,38.86847578094721 L -77.003185283372,38.86878778009626 L -77.00312628248483,38.8688657804404 L -77.00310028248543,38.868895780825675 L -77.0030862826552,38.86891478105769 L -77.00305628289485,38.868950781139105 L -77.00302428162851,38.868985780205 L -77.00299128209247,38.86901978104321 L -77.00297394253435,38.8690361683453 L -77.00297312009889,38.869036945904575 L -77.00290028263147,38.86910578098995 L -77.00282128299061,38.86917478114471 L -77.0027802825539,38.86920878155231 L -77.00271728261107,38.86925678096371 L -77.00261028137209,38.86933178065969 L -77.00252228255653,38.869388781047505 L -77.00246228213176,38.86942178181809 L -77.00240128197478,38.869453780955865 L -77.00230728243093,38.869498781541 L -77.00215728244639,38.86956478113549 L -77.00212928192776,38.86957578147924 L -77.00205228253097,38.869621780916944 L -77.0019932830239,38.86963778143568 L -77.00196328238485,38.869646780781025 L -77.00193228203834,38.86965378139471 L -77.00184228285866,38.86967778124971 L -77.00172128173863,38.86970678116328 L -77.00159029844635,38.86973534192797 L -77.00158828259772,38.86973578111531 L -77.0015856545737,38.86973622931934 L -77.00145328177133,38.86975878077805 L -77.00131628287409,38.869774781337384 L -77.00117928237567,38.86978478101036 L -77.00104128282364,38.86978878149491 L -77.00090328172692,38.86978578059452 L -77.00076528200708,38.86977578168716 L -77.0006292822963,38.869760780687535 L -77.00049428223406,38.86973778174811 L -77.00036128224657,38.86970978185388 L -77.00018928174396,38.869674781782464 L -76.99951500296945,38.869503654405406 L -76.99951112971739,38.869502671346794 L -76.9993917748383,38.869472381141556 L -76.9992002817835,38.86942378131679 L -76.99861384026775,38.86927386353508 L -76.9986114031164,38.869273240799906 L -76.99826928048694,38.8691857809163 L -76.99796830124802,38.86910977100205 L -76.9975802800758,38.869011781401646 L -76.99722709782984,38.868921365725086 L -76.99720528107741,38.86891578111779 L -76.99717489476932,38.86890815645788 L -76.99666728118942,38.86878078106693 L -76.99655677193601,38.868752229650354 L -76.99633828082922,38.86869578081801 L -76.99624027996124,38.86867178099175 L -76.99609428032407,38.86863378041996 L -76.99604528032546,38.86862178125915 L -76.99599728003055,38.86860878048946 L -76.99594828006539,38.86859678072489 L -76.99585127993139,38.86857078073952 L -76.99569027965578,38.86853478124734 L -76.99552728075324,38.86850278175346 L -76.99544528111831,38.86848778127209 L -76.99538328019423,38.86847878112606 L -76.99531928015969,38.86845678116862 L -76.99529528114375,38.86845678076761 L -76.99526728046612,38.86846078105964 L -76.99523828055656,38.868458781140255 L -76.99503028004725,38.868436781259355 L -76.99493295361877,38.868429365972126 L -76.99492528071909,38.8684287817815 L -76.99492178492676,38.86842840665452 L -76.99486928034742,38.868422781423455 L -76.9947702806223,38.868419780611084 L -76.99465328061788,38.86841378021778 L -76.99462127984977,38.868409781266806 L -76.994555280051,38.868407781720414 L -76.99452028002284,38.8684087817064 L -76.99449127976959,38.86841178126899 L -76.9944032800721,38.86841178159021 L -76.99401627935148,38.86842678111563 L -76.99397327922881,38.868429781520646 L -76.99387627894224,38.86844178074496 L -76.99361327974785,38.8684777805947 L -76.99345727947876,38.86850678185562 L -76.99330128024194,38.86853878101941 L -76.99306928026043,38.868591780849066 L -76.99291627968232,38.86862978096582 L -76.99284647496563,38.86864903838038 L -76.99283346643101,38.86865262630812 L -76.9928002796092,38.868661781315545 L -76.99268128012527,38.868697781658845 L -76.99256427947437,38.86873678180818 L -76.99237927964407,38.8688047811233 L -76.99234527907086,38.8688187819093 L -76.9923102796781,38.8688317815601 L -76.99224227918586,38.86885978139277 L -76.99207327921158,38.86893578187663 L -76.99193727908904,38.869005781419 L -76.99187027917117,38.86904178057045 L -76.99171127877125,38.86913278135043 L -76.99168327922673,38.86914778117594 L -76.99166527928963,38.869159780782496 L -76.99164627947329,38.86917378130747 L -76.99160027933809,38.86919978078031 L -76.99149327970309,38.86927278112151 L -76.99133727972553,38.869384781896436 L -76.99131827966346,38.869399781174856 L -76.991254278574,38.86944278141574 L -76.99091427794308,38.86971178200048 L -76.990682278254,38.869890782181294 L -76.99042527770409,38.870078781500126 L -76.99040427818262,38.87008678205765 L -76.99038927841832,38.870107781674044 L -76.99037475714904,38.87012133475316 L -76.99037427886893,38.870121781755934 L -76.99035627869038,38.87014278224671 L -76.9903402793392,38.87015778161181 L -76.99011627896023,38.870321781755386 L -76.98998127794323,38.870424781386745 L -76.98992927835702,38.87046678142676 L -76.98990327839937,38.87048878221564 L -76.98976827861905,38.87057378167553 L -76.98976560779852,38.87057059246557 L -76.98961927903615,38.870395782115885 L -76.9895652783018,38.870330781647716 L -76.98947927891118,38.870229781807005 L -76.98939127822985,38.87014378240672 L -76.98923427777207,38.86999278150219 L -76.98891827870274,38.869612781809415 L -76.98885242807347,38.869539560831434 L -76.98878427764991,38.86946378176961 L -76.9886424423833,38.869290210376235 L -76.98856527776695,38.86919578121124 L -76.98852027819774,38.86914178095757 L -76.98847927748358,38.869090781443724 L -76.98843693704292,38.86904110151436 L -76.988427572628,38.869030113706025 L -76.98840427789324,38.86900278157159 L -76.98839222499788,38.86898728534768 L -76.98839027798681,38.86898478137947 L -76.9883876756769,38.86898177231214 L -76.9883262780754,38.86891078161646 L -76.98830734261522,38.868884437444635 L -76.98830474473306,38.86888082199729 L -76.98830398437721,38.8688797645591 L -76.98830304542575,38.8688786249013 L -76.98830271569413,38.86887789800226 L -76.98828927738329,38.86885678150732 L -76.9882632774936,38.86880878152955 L -76.98825127791565,38.86878478079444 L -76.98824027742336,38.86875978135118 L -76.98821027870159,38.868674781168075 L -76.98821054951613,38.86867465451466 L -76.98831727775425,38.86862478173429 L -76.98867727860566,38.86848178109721 z\" /></g></svg>"
      ],
      "text/plain": [
       "<shapely.geometry.polygon.Polygon at 0x11f628588>"
      ]
     },
     "execution_count": 149,
     "metadata": {},
     "output_type": "execute_result"
    }
   ],
   "source": [
    "level = levels[2]\n",
    "SIZE = 0, len(shapes[level].shapes())\n",
    "\n",
    "for i in range(len(SIZE)):\n",
    "    current = shp.geometry.Polygon(shapes[level].shape(i).points)\n",
    "    if(current.contains(location_point)):\n",
    "        break\n",
    "\n",
    "# shape = shapes[level].shape(i)        \n",
    "print(f\"Your {level} school for {address} is {i}.\")\n",
    "current"
   ]
  },
  {
   "cell_type": "code",
   "execution_count": 150,
   "metadata": {},
   "outputs": [
    {
     "data": {
      "text/plain": [
       "Location(New York Avenue Northwest, Chinatown, Washington, D.C., 20401, USA, (38.905814, -77.0136501, 0.0))"
      ]
     },
     "execution_count": 150,
     "metadata": {},
     "output_type": "execute_result"
    }
   ],
   "source": [
    "location"
   ]
  },
  {
   "cell_type": "code",
   "execution_count": 151,
   "metadata": {},
   "outputs": [],
   "source": [
    "from shapely.geometry import Point, Polygon\n",
    "    \n",
    "def assign_school_zone(address, school_data=data, shape_data=shapes, school_levels=levels, level=0):\n",
    "    \"\"\" Return school name and object ID. \"\"\"\n",
    "    if(address):\n",
    "        longitude, latitude, altitude = tuple(geocoder.geocode(address).point)\n",
    "\n",
    "        point = Point((latitude, longitude))\n",
    "        school = school_levels[level] if isinstance(level, int) else level\n",
    "\n",
    "        for i, shape in enumerate(shape_data[school].shapes()):\n",
    "            polygon = Polygon(shape.points)\n",
    "            if(polygon.contains(point)):\n",
    "                return(i+1, f\"{school_data[school].loc[i,'NAME']} {school}\")\n",
    "    return(None)"
   ]
  },
  {
   "cell_type": "markdown",
   "metadata": {},
   "source": [
    "### Deploy School Zone Assignment Algorithm\n",
    "\n",
    "Test the algorithm on a single address and then multiple addresses."
   ]
  },
  {
   "cell_type": "code",
   "execution_count": 152,
   "metadata": {},
   "outputs": [
    {
     "data": {
      "text/plain": [
       "(1, 'Walker-Jones Middle_School')"
      ]
     },
     "execution_count": 152,
     "metadata": {},
     "output_type": "execute_result"
    }
   ],
   "source": [
    "assign_school_zone(address, data, shapes, levels, 'Middle_School')"
   ]
  },
  {
   "cell_type": "markdown",
   "metadata": {},
   "source": [
    "Test multiple addresses"
   ]
  },
  {
   "cell_type": "code",
   "execution_count": 115,
   "metadata": {},
   "outputs": [
    {
     "data": {
      "text/plain": [
       "(41, address    1101 4th ST SW Suite W772\n",
       " city                      Washington\n",
       " state                             DC\n",
       " zip                            20024\n",
       " Name: 41, dtype: object)"
      ]
     },
     "execution_count": 115,
     "metadata": {},
     "output_type": "execute_result"
    }
   ],
   "source": [
    "list(current_st[['address', 'city', 'state', 'zip']].iterrows())[0]"
   ]
  },
  {
   "cell_type": "code",
   "execution_count": 154,
   "metadata": {},
   "outputs": [
    {
     "name": "stderr",
     "output_type": "stream",
     "text": [
      "100%|██████████| 478/478 [12:46<00:00,  1.46s/it]\n"
     ]
    },
    {
     "data": {
      "text/plain": [
       "478"
      ]
     },
     "execution_count": 154,
     "metadata": {},
     "output_type": "execute_result"
    }
   ],
   "source": [
    "from tqdm import tqdm\n",
    "# addresses = ['1150 1st street ne', '1822 1st St NW, Washington, DC 20001', '1918 14th St SE, Washington, DC 20020']\n",
    "\n",
    "DATA = current_st\n",
    "decide = lambda x: x if x else ''\n",
    "addresses = [(f\"{decide(a)} {decide(b)} {decide(c)} {decide(d)}\".strip(), e, f) \n",
    "             for i, (a, b, c, d, e, f) in list(DATA[['address_clean', 'city', 'state', 'zip', 'euid', 'leid']].iterrows())]\n",
    "\n",
    "address_boundary = list()\n",
    "\n",
    "for address, euid, leid in tqdm(addresses):\n",
    "    boundary = list()\n",
    "    for level in levels:\n",
    "        try:\n",
    "            school = f\"{assign_school_zone(address, level=level)[1].replace('_', '')}\"\n",
    "            boundary.append(school)\n",
    "        except:\n",
    "#             print(f\"Errant address {address}\")\n",
    "            break\n",
    "    address_boundary.append(tuple([euid, leid, address] + boundary))\n",
    "\n",
    "len(address_boundary)"
   ]
  },
  {
   "cell_type": "markdown",
   "metadata": {},
   "source": [
    "Address and boundary schools from the `dci` (`dc_invalid_quadrant`) data set."
   ]
  },
  {
   "cell_type": "code",
   "execution_count": 117,
   "metadata": {},
   "outputs": [
    {
     "data": {
      "text/plain": [
       "78"
      ]
     },
     "execution_count": 117,
     "metadata": {},
     "output_type": "execute_result"
    }
   ],
   "source": [
    "# ab_dci = address_boundary # Comment out once assigned to allow the list above to get reassigned\n",
    "len(ab_dci)"
   ]
  },
  {
   "cell_type": "markdown",
   "metadata": {},
   "source": [
    "Address and boundary schools from the `dcv` (`dc_valid_quadrant`) data set."
   ]
  },
  {
   "cell_type": "code",
   "execution_count": 103,
   "metadata": {},
   "outputs": [
    {
     "data": {
      "text/plain": [
       "360"
      ]
     },
     "execution_count": 103,
     "metadata": {},
     "output_type": "execute_result"
    }
   ],
   "source": [
    "# ab_dcv = address_boundary # Comment out once assigned to allow the list above to get reassigned\n",
    "len(ab_dcv)"
   ]
  },
  {
   "cell_type": "markdown",
   "metadata": {},
   "source": [
    "Create a new DataFrame to hold processed data."
   ]
  },
  {
   "cell_type": "code",
   "execution_count": 160,
   "metadata": {},
   "outputs": [
    {
     "data": {
      "text/plain": [
       "(478, 6)"
      ]
     },
     "execution_count": 160,
     "metadata": {},
     "output_type": "execute_result"
    }
   ],
   "source": [
    "processed = pd.DataFrame(address_boundary, columns=['euid', 'leid', 'address', 'elementary_school', 'middle_school', 'senior_school'])\n",
    "processed.shape"
   ]
  },
  {
   "cell_type": "markdown",
   "metadata": {},
   "source": [
    "Number of addresses where there is no boundary school information available at all for the addresses."
   ]
  },
  {
   "cell_type": "code",
   "execution_count": 161,
   "metadata": {},
   "outputs": [
    {
     "data": {
      "text/plain": [
       "(94, 6)"
      ]
     },
     "execution_count": 161,
     "metadata": {},
     "output_type": "execute_result"
    }
   ],
   "source": [
    "processed[processed.senior_school.isnull() & processed.middle_school.isnull() & processed.elementary_school.isnull()].shape"
   ]
  },
  {
   "cell_type": "markdown",
   "metadata": {},
   "source": [
    "Look into the address where there is a school available."
   ]
  },
  {
   "cell_type": "code",
   "execution_count": 162,
   "metadata": {},
   "outputs": [
    {
     "data": {
      "text/html": [
       "<div>\n",
       "<style scoped>\n",
       "    .dataframe tbody tr th:only-of-type {\n",
       "        vertical-align: middle;\n",
       "    }\n",
       "\n",
       "    .dataframe tbody tr th {\n",
       "        vertical-align: top;\n",
       "    }\n",
       "\n",
       "    .dataframe thead th {\n",
       "        text-align: right;\n",
       "    }\n",
       "</style>\n",
       "<table border=\"1\" class=\"dataframe\">\n",
       "  <thead>\n",
       "    <tr style=\"text-align: right;\">\n",
       "      <th></th>\n",
       "      <th>euid</th>\n",
       "      <th>leid</th>\n",
       "      <th>address</th>\n",
       "      <th>elementary_school</th>\n",
       "      <th>middle_school</th>\n",
       "      <th>senior_school</th>\n",
       "    </tr>\n",
       "  </thead>\n",
       "  <tbody>\n",
       "    <tr>\n",
       "      <th>391</th>\n",
       "      <td>813d92fcd3</td>\n",
       "      <td>587253497.0</td>\n",
       "      <td>834 5th Street NE Washington DC 20002</td>\n",
       "      <td>Wilson, J.O. Elementary</td>\n",
       "      <td>Stuart-Hobson MiddleSchool</td>\n",
       "      <td>Eastern SeniorHigh</td>\n",
       "    </tr>\n",
       "    <tr>\n",
       "      <th>34</th>\n",
       "      <td>776aa6b75d</td>\n",
       "      <td>234071337.0</td>\n",
       "      <td>1816 Vermont Avenue NW Washington DC 20001</td>\n",
       "      <td>Garrison Elementary</td>\n",
       "      <td>Shaw MiddleSchool</td>\n",
       "      <td>Cardozo SeniorHigh</td>\n",
       "    </tr>\n",
       "    <tr>\n",
       "      <th>335</th>\n",
       "      <td>2970928743</td>\n",
       "      <td>581753613.0</td>\n",
       "      <td>1524 34th Street NW Washington DC 20007</td>\n",
       "      <td>Hyde-Addison Elementary</td>\n",
       "      <td>Hardy MiddleSchool</td>\n",
       "      <td>Wilson SeniorHigh</td>\n",
       "    </tr>\n",
       "    <tr>\n",
       "      <th>323</th>\n",
       "      <td>d21f2ebefb</td>\n",
       "      <td>581753421.0</td>\n",
       "      <td>1234 Quincy Street NE Washington DC 20017</td>\n",
       "      <td>Brookland @ Bunker Hill Elementary</td>\n",
       "      <td>Brookland MiddleSchool</td>\n",
       "      <td>Dunbar SeniorHigh</td>\n",
       "    </tr>\n",
       "    <tr>\n",
       "      <th>120</th>\n",
       "      <td>e13a610e98</td>\n",
       "      <td>587254109.0</td>\n",
       "      <td>800 Florida Avenue NE Washington DC 20002</td>\n",
       "      <td>Wheatley Elementary</td>\n",
       "      <td>Wheatley MiddleSchool</td>\n",
       "      <td>Dunbar SeniorHigh</td>\n",
       "    </tr>\n",
       "    <tr>\n",
       "      <th>178</th>\n",
       "      <td>0e47507dfe</td>\n",
       "      <td>587252813.0</td>\n",
       "      <td>303 Seaton Place NW Washington DC 20002</td>\n",
       "      <td>Langley Elementary</td>\n",
       "      <td>McKinley MiddleSchool</td>\n",
       "      <td>Dunbar SeniorHigh</td>\n",
       "    </tr>\n",
       "    <tr>\n",
       "      <th>225</th>\n",
       "      <td>2c29c710c9</td>\n",
       "      <td>581753369.0</td>\n",
       "      <td>1813 13th Street NW Washington DC 20009</td>\n",
       "      <td>Garrison Elementary</td>\n",
       "      <td>Shaw MiddleSchool</td>\n",
       "      <td>Cardozo SeniorHigh</td>\n",
       "    </tr>\n",
       "    <tr>\n",
       "      <th>168</th>\n",
       "      <td>15bcb10d52</td>\n",
       "      <td>587252825.0</td>\n",
       "      <td>2202 18th Street NW Washington DC 20009</td>\n",
       "      <td>Oyster-Adams Elementary</td>\n",
       "      <td>Oyster-Adams MiddleSchool</td>\n",
       "      <td>Wilson SeniorHigh</td>\n",
       "    </tr>\n",
       "    <tr>\n",
       "      <th>172</th>\n",
       "      <td>89547e361f</td>\n",
       "      <td>587254769.0</td>\n",
       "      <td>1215 First Street NE Washington DC 20002</td>\n",
       "      <td>Walker-Jones Elementary</td>\n",
       "      <td>Walker-Jones MiddleSchool</td>\n",
       "      <td>Dunbar SeniorHigh</td>\n",
       "    </tr>\n",
       "    <tr>\n",
       "      <th>198</th>\n",
       "      <td>bae7b09add</td>\n",
       "      <td>581753629.0</td>\n",
       "      <td>4204 38th Street NW Washington DC 20016</td>\n",
       "      <td>Hearst Elementary</td>\n",
       "      <td>Deal MiddleSchool</td>\n",
       "      <td>Wilson SeniorHigh</td>\n",
       "    </tr>\n",
       "  </tbody>\n",
       "</table>\n",
       "</div>"
      ],
      "text/plain": [
       "           euid         leid                                     address  \\\n",
       "391  813d92fcd3  587253497.0       834 5th Street NE Washington DC 20002   \n",
       "34   776aa6b75d  234071337.0  1816 Vermont Avenue NW Washington DC 20001   \n",
       "335  2970928743  581753613.0     1524 34th Street NW Washington DC 20007   \n",
       "323  d21f2ebefb  581753421.0   1234 Quincy Street NE Washington DC 20017   \n",
       "120  e13a610e98  587254109.0   800 Florida Avenue NE Washington DC 20002   \n",
       "178  0e47507dfe  587252813.0     303 Seaton Place NW Washington DC 20002   \n",
       "225  2c29c710c9  581753369.0     1813 13th Street NW Washington DC 20009   \n",
       "168  15bcb10d52  587252825.0     2202 18th Street NW Washington DC 20009   \n",
       "172  89547e361f  587254769.0    1215 First Street NE Washington DC 20002   \n",
       "198  bae7b09add  581753629.0     4204 38th Street NW Washington DC 20016   \n",
       "\n",
       "                      elementary_school               middle_school  \\\n",
       "391             Wilson, J.O. Elementary  Stuart-Hobson MiddleSchool   \n",
       "34                  Garrison Elementary           Shaw MiddleSchool   \n",
       "335             Hyde-Addison Elementary          Hardy MiddleSchool   \n",
       "323  Brookland @ Bunker Hill Elementary      Brookland MiddleSchool   \n",
       "120                 Wheatley Elementary       Wheatley MiddleSchool   \n",
       "178                  Langley Elementary       McKinley MiddleSchool   \n",
       "225                 Garrison Elementary           Shaw MiddleSchool   \n",
       "168             Oyster-Adams Elementary   Oyster-Adams MiddleSchool   \n",
       "172             Walker-Jones Elementary   Walker-Jones MiddleSchool   \n",
       "198                   Hearst Elementary           Deal MiddleSchool   \n",
       "\n",
       "          senior_school  \n",
       "391  Eastern SeniorHigh  \n",
       "34   Cardozo SeniorHigh  \n",
       "335   Wilson SeniorHigh  \n",
       "323   Dunbar SeniorHigh  \n",
       "120   Dunbar SeniorHigh  \n",
       "178   Dunbar SeniorHigh  \n",
       "225  Cardozo SeniorHigh  \n",
       "168   Wilson SeniorHigh  \n",
       "172   Dunbar SeniorHigh  \n",
       "198   Wilson SeniorHigh  "
      ]
     },
     "execution_count": 162,
     "metadata": {},
     "output_type": "execute_result"
    }
   ],
   "source": [
    "processed[~processed.senior_school.isnull() & ~processed.middle_school.isnull() & ~processed.elementary_school.isnull()].sample(10)"
   ]
  },
  {
   "cell_type": "markdown",
   "metadata": {},
   "source": [
    "Save current processed DataFrame."
   ]
  },
  {
   "cell_type": "code",
   "execution_count": 163,
   "metadata": {},
   "outputs": [],
   "source": [
    "processed.to_csv(\"./processed.csv\", index=False)"
   ]
  },
  {
   "cell_type": "markdown",
   "metadata": {},
   "source": [
    "#### Merge Back to Original Data\n",
    "\n",
    "Using the street address, city, and state columns, merged cleaned and assigned data back to main dataset. First, separate out the street address."
   ]
  },
  {
   "cell_type": "code",
   "execution_count": 164,
   "metadata": {},
   "outputs": [
    {
     "data": {
      "text/html": [
       "<div>\n",
       "<style scoped>\n",
       "    .dataframe tbody tr th:only-of-type {\n",
       "        vertical-align: middle;\n",
       "    }\n",
       "\n",
       "    .dataframe tbody tr th {\n",
       "        vertical-align: top;\n",
       "    }\n",
       "\n",
       "    .dataframe thead th {\n",
       "        text-align: right;\n",
       "    }\n",
       "</style>\n",
       "<table border=\"1\" class=\"dataframe\">\n",
       "  <thead>\n",
       "    <tr style=\"text-align: right;\">\n",
       "      <th></th>\n",
       "      <th>euid</th>\n",
       "      <th>leid</th>\n",
       "      <th>address</th>\n",
       "      <th>elementary_school</th>\n",
       "      <th>middle_school</th>\n",
       "      <th>senior_school</th>\n",
       "      <th>street_address</th>\n",
       "    </tr>\n",
       "  </thead>\n",
       "  <tbody>\n",
       "    <tr>\n",
       "      <th>0</th>\n",
       "      <td>54ca72b5b7</td>\n",
       "      <td>581755493.0</td>\n",
       "      <td>3722 Hansberry Court NE Washington DC nan</td>\n",
       "      <td>Langdon Elementary</td>\n",
       "      <td>McKinley MiddleSchool</td>\n",
       "      <td>Dunbar SeniorHigh</td>\n",
       "      <td>3722 Hansberry Court NE</td>\n",
       "    </tr>\n",
       "    <tr>\n",
       "      <th>1</th>\n",
       "      <td>4da6a57e31</td>\n",
       "      <td>581755361.0</td>\n",
       "      <td>1704 Massachusetts Avenue SE Washington DC nan</td>\n",
       "      <td>None</td>\n",
       "      <td>None</td>\n",
       "      <td>None</td>\n",
       "      <td>1704 Massachusetts Avenue SE</td>\n",
       "    </tr>\n",
       "    <tr>\n",
       "      <th>2</th>\n",
       "      <td>29e799a000</td>\n",
       "      <td>289867661.0</td>\n",
       "      <td>4317 Yuma Street NW Washington DC 20016</td>\n",
       "      <td>None</td>\n",
       "      <td>None</td>\n",
       "      <td>None</td>\n",
       "      <td>4317 Yuma Street NW</td>\n",
       "    </tr>\n",
       "    <tr>\n",
       "      <th>3</th>\n",
       "      <td>d216f60a89</td>\n",
       "      <td>585976581.0</td>\n",
       "      <td>2101 Martin Luther King Jr Avenue SE Washingto...</td>\n",
       "      <td>None</td>\n",
       "      <td>None</td>\n",
       "      <td>None</td>\n",
       "      <td>2101 Martin Luther King Jr Avenue SE</td>\n",
       "    </tr>\n",
       "    <tr>\n",
       "      <th>4</th>\n",
       "      <td>fb091d4e03</td>\n",
       "      <td>582728597.0</td>\n",
       "      <td>1101 4th Street SW Washington DC 20024</td>\n",
       "      <td>Amidon-Bowen Elementary</td>\n",
       "      <td>Jefferson MiddleSchool</td>\n",
       "      <td>None</td>\n",
       "      <td>1101 4th Street SW</td>\n",
       "    </tr>\n",
       "  </tbody>\n",
       "</table>\n",
       "</div>"
      ],
      "text/plain": [
       "         euid         leid                                            address  \\\n",
       "0  54ca72b5b7  581755493.0          3722 Hansberry Court NE Washington DC nan   \n",
       "1  4da6a57e31  581755361.0     1704 Massachusetts Avenue SE Washington DC nan   \n",
       "2  29e799a000  289867661.0            4317 Yuma Street NW Washington DC 20016   \n",
       "3  d216f60a89  585976581.0  2101 Martin Luther King Jr Avenue SE Washingto...   \n",
       "4  fb091d4e03  582728597.0             1101 4th Street SW Washington DC 20024   \n",
       "\n",
       "         elementary_school           middle_school      senior_school  \\\n",
       "0       Langdon Elementary   McKinley MiddleSchool  Dunbar SeniorHigh   \n",
       "1                     None                    None               None   \n",
       "2                     None                    None               None   \n",
       "3                     None                    None               None   \n",
       "4  Amidon-Bowen Elementary  Jefferson MiddleSchool               None   \n",
       "\n",
       "                         street_address  \n",
       "0               3722 Hansberry Court NE  \n",
       "1          1704 Massachusetts Avenue SE  \n",
       "2                   4317 Yuma Street NW  \n",
       "3  2101 Martin Luther King Jr Avenue SE  \n",
       "4                    1101 4th Street SW  "
      ]
     },
     "execution_count": 164,
     "metadata": {},
     "output_type": "execute_result"
    }
   ],
   "source": [
    "processed = processed.assign(street_address=processed.address.apply(lambda x: ' '.join(x.split()[:-3])))\n",
    "processed.head()"
   ]
  },
  {
   "cell_type": "markdown",
   "metadata": {},
   "source": [
    "Now, attempt to merge the datasets."
   ]
  },
  {
   "cell_type": "code",
   "execution_count": 168,
   "metadata": {},
   "outputs": [
    {
     "data": {
      "text/html": [
       "<div>\n",
       "<style scoped>\n",
       "    .dataframe tbody tr th:only-of-type {\n",
       "        vertical-align: middle;\n",
       "    }\n",
       "\n",
       "    .dataframe tbody tr th {\n",
       "        vertical-align: top;\n",
       "    }\n",
       "\n",
       "    .dataframe thead th {\n",
       "        text-align: right;\n",
       "    }\n",
       "</style>\n",
       "<table border=\"1\" class=\"dataframe\">\n",
       "  <thead>\n",
       "    <tr style=\"text-align: right;\">\n",
       "      <th></th>\n",
       "      <th>euid</th>\n",
       "      <th>leid</th>\n",
       "      <th>address_x</th>\n",
       "      <th>city</th>\n",
       "      <th>state</th>\n",
       "      <th>zip</th>\n",
       "      <th>address_y</th>\n",
       "      <th>elementary_school</th>\n",
       "      <th>middle_school</th>\n",
       "      <th>senior_school</th>\n",
       "      <th>street_address</th>\n",
       "    </tr>\n",
       "  </thead>\n",
       "  <tbody>\n",
       "    <tr>\n",
       "      <th>0</th>\n",
       "      <td>54ca72b5b7</td>\n",
       "      <td>581755493.0</td>\n",
       "      <td>3722 Hansberry CT NE</td>\n",
       "      <td>NaN</td>\n",
       "      <td>DC</td>\n",
       "      <td>NaN</td>\n",
       "      <td>3722 Hansberry Court NE Washington DC nan</td>\n",
       "      <td>Langdon Elementary</td>\n",
       "      <td>McKinley MiddleSchool</td>\n",
       "      <td>Dunbar SeniorHigh</td>\n",
       "      <td>3722 Hansberry Court NE</td>\n",
       "    </tr>\n",
       "    <tr>\n",
       "      <th>1</th>\n",
       "      <td>4da6a57e31</td>\n",
       "      <td>581755361.0</td>\n",
       "      <td>1704 Massachusetts Avenue SE</td>\n",
       "      <td>NaN</td>\n",
       "      <td>NaN</td>\n",
       "      <td>NaN</td>\n",
       "      <td>1704 Massachusetts Avenue SE Washington DC nan</td>\n",
       "      <td>None</td>\n",
       "      <td>None</td>\n",
       "      <td>None</td>\n",
       "      <td>1704 Massachusetts Avenue SE</td>\n",
       "    </tr>\n",
       "    <tr>\n",
       "      <th>2</th>\n",
       "      <td>29e799a000</td>\n",
       "      <td>289867661.0</td>\n",
       "      <td>4317 Yuma St NW</td>\n",
       "      <td>Washington</td>\n",
       "      <td>DC</td>\n",
       "      <td>20016</td>\n",
       "      <td>4317 Yuma Street NW Washington DC 20016</td>\n",
       "      <td>None</td>\n",
       "      <td>None</td>\n",
       "      <td>None</td>\n",
       "      <td>4317 Yuma Street NW</td>\n",
       "    </tr>\n",
       "    <tr>\n",
       "      <th>3</th>\n",
       "      <td>d216f60a89</td>\n",
       "      <td>585976581.0</td>\n",
       "      <td>2101 Martin Luther King Jr. Ave SE</td>\n",
       "      <td>NaN</td>\n",
       "      <td>NaN</td>\n",
       "      <td>20020</td>\n",
       "      <td>2101 Martin Luther King Jr Avenue SE Washingto...</td>\n",
       "      <td>None</td>\n",
       "      <td>None</td>\n",
       "      <td>None</td>\n",
       "      <td>2101 Martin Luther King Jr Avenue SE</td>\n",
       "    </tr>\n",
       "    <tr>\n",
       "      <th>4</th>\n",
       "      <td>fb091d4e03</td>\n",
       "      <td>582728597.0</td>\n",
       "      <td>1101 4th ST SW Suite W772</td>\n",
       "      <td>Washington</td>\n",
       "      <td>DC</td>\n",
       "      <td>20024</td>\n",
       "      <td>1101 4th Street SW Washington DC 20024</td>\n",
       "      <td>Amidon-Bowen Elementary</td>\n",
       "      <td>Jefferson MiddleSchool</td>\n",
       "      <td>None</td>\n",
       "      <td>1101 4th Street SW</td>\n",
       "    </tr>\n",
       "  </tbody>\n",
       "</table>\n",
       "</div>"
      ],
      "text/plain": [
       "         euid         leid                           address_x        city  \\\n",
       "0  54ca72b5b7  581755493.0                3722 Hansberry CT NE         NaN   \n",
       "1  4da6a57e31  581755361.0        1704 Massachusetts Avenue SE         NaN   \n",
       "2  29e799a000  289867661.0                     4317 Yuma St NW  Washington   \n",
       "3  d216f60a89  585976581.0  2101 Martin Luther King Jr. Ave SE         NaN   \n",
       "4  fb091d4e03  582728597.0           1101 4th ST SW Suite W772  Washington   \n",
       "\n",
       "  state    zip                                          address_y  \\\n",
       "0    DC    NaN          3722 Hansberry Court NE Washington DC nan   \n",
       "1   NaN    NaN     1704 Massachusetts Avenue SE Washington DC nan   \n",
       "2    DC  20016            4317 Yuma Street NW Washington DC 20016   \n",
       "3   NaN  20020  2101 Martin Luther King Jr Avenue SE Washingto...   \n",
       "4    DC  20024             1101 4th Street SW Washington DC 20024   \n",
       "\n",
       "         elementary_school           middle_school      senior_school  \\\n",
       "0       Langdon Elementary   McKinley MiddleSchool  Dunbar SeniorHigh   \n",
       "1                     None                    None               None   \n",
       "2                     None                    None               None   \n",
       "3                     None                    None               None   \n",
       "4  Amidon-Bowen Elementary  Jefferson MiddleSchool               None   \n",
       "\n",
       "                         street_address  \n",
       "0               3722 Hansberry Court NE  \n",
       "1          1704 Massachusetts Avenue SE  \n",
       "2                   4317 Yuma Street NW  \n",
       "3  2101 Martin Luther King Jr Avenue SE  \n",
       "4                    1101 4th Street SW  "
      ]
     },
     "execution_count": 168,
     "metadata": {},
     "output_type": "execute_result"
    }
   ],
   "source": [
    "merged = contacts.merge(processed, on=['euid', 'leid'])\n",
    "merged.head()"
   ]
  },
  {
   "cell_type": "code",
   "execution_count": 166,
   "metadata": {},
   "outputs": [
    {
     "data": {
      "text/plain": [
       "(478, 10)"
      ]
     },
     "execution_count": 166,
     "metadata": {},
     "output_type": "execute_result"
    }
   ],
   "source": [
    "merged.shape"
   ]
  },
  {
   "cell_type": "code",
   "execution_count": 167,
   "metadata": {},
   "outputs": [],
   "source": [
    "merged.to_csv(\"./merged_1.csv\", index=False)"
   ]
  },
  {
   "cell_type": "markdown",
   "metadata": {},
   "source": [
    "#### Connecting via API\n",
    "\n",
    "Sandbox for reading in School Attendance Zones for Senior High School from the Open Data repository."
   ]
  },
  {
   "cell_type": "code",
   "execution_count": 185,
   "metadata": {},
   "outputs": [
    {
     "data": {
      "text/html": [
       "<div>\n",
       "<style scoped>\n",
       "    .dataframe tbody tr th:only-of-type {\n",
       "        vertical-align: middle;\n",
       "    }\n",
       "\n",
       "    .dataframe tbody tr th {\n",
       "        vertical-align: top;\n",
       "    }\n",
       "\n",
       "    .dataframe thead th {\n",
       "        text-align: right;\n",
       "    }\n",
       "</style>\n",
       "<table border=\"1\" class=\"dataframe\">\n",
       "  <thead>\n",
       "    <tr style=\"text-align: right;\">\n",
       "      <th></th>\n",
       "      <th>OBJECTID</th>\n",
       "      <th>NAME</th>\n",
       "      <th>Shape_Length</th>\n",
       "      <th>Shape_Area</th>\n",
       "      <th>GIS_ID</th>\n",
       "      <th>geometry</th>\n",
       "    </tr>\n",
       "  </thead>\n",
       "  <tbody>\n",
       "    <tr>\n",
       "      <th>0</th>\n",
       "      <td>1</td>\n",
       "      <td>Anacostia</td>\n",
       "      <td>19915.536943</td>\n",
       "      <td>1.537354e+07</td>\n",
       "      <td>dcps_450</td>\n",
       "      <td>(POLYGON ((-76.95593778860624 38.8897877783330...</td>\n",
       "    </tr>\n",
       "    <tr>\n",
       "      <th>1</th>\n",
       "      <td>2</td>\n",
       "      <td>Ballou</td>\n",
       "      <td>32540.554149</td>\n",
       "      <td>2.476491e+07</td>\n",
       "      <td>dcps_452</td>\n",
       "      <td>POLYGON ((-76.98867727860566 38.86848178109721...</td>\n",
       "    </tr>\n",
       "  </tbody>\n",
       "</table>\n",
       "</div>"
      ],
      "text/plain": [
       "   OBJECTID       NAME  Shape_Length    Shape_Area    GIS_ID  \\\n",
       "0         1  Anacostia  19915.536943  1.537354e+07  dcps_450   \n",
       "1         2     Ballou  32540.554149  2.476491e+07  dcps_452   \n",
       "\n",
       "                                            geometry  \n",
       "0  (POLYGON ((-76.95593778860624 38.8897877783330...  \n",
       "1  POLYGON ((-76.98867727860566 38.86848178109721...  "
      ]
     },
     "execution_count": 185,
     "metadata": {},
     "output_type": "execute_result"
    }
   ],
   "source": [
    "api_data = gpd.read_file(\"https://opendata.arcgis.com/datasets/d2e0486155144b6d8e11e12469a64b1c_15.geojson\")\n",
    "api_data.head(2)"
   ]
  },
  {
   "cell_type": "code",
   "execution_count": 186,
   "metadata": {},
   "outputs": [],
   "source": [
    "geometry = api_data['geometry']"
   ]
  },
  {
   "cell_type": "code",
   "execution_count": 187,
   "metadata": {},
   "outputs": [
    {
     "data": {
      "text/plain": [
       "0    (POLYGON ((-76.95593778860624 38.8897877783330...\n",
       "1    POLYGON ((-76.98867727860566 38.86848178109721...\n",
       "2    (POLYGON ((-77.04278529845381 38.927686791488,...\n",
       "3    POLYGON ((-77.01459660600285 38.97535907024628...\n",
       "4    (POLYGON ((-77.00465721552102 38.9516404465242...\n",
       "Name: geometry, dtype: object"
      ]
     },
     "execution_count": 187,
     "metadata": {},
     "output_type": "execute_result"
    }
   ],
   "source": [
    "geometry.head()"
   ]
  },
  {
   "cell_type": "code",
   "execution_count": 188,
   "metadata": {},
   "outputs": [],
   "source": [
    "shape1 = Polygon(geometry[1])"
   ]
  },
  {
   "cell_type": "code",
   "execution_count": 189,
   "metadata": {},
   "outputs": [
    {
     "ename": "ImportError",
     "evalue": "The descartes package is required for plotting polygons in geopandas.",
     "output_type": "error",
     "traceback": [
      "\u001b[0;31m---------------------------------------------------------------------------\u001b[0m",
      "\u001b[0;31mModuleNotFoundError\u001b[0m                       Traceback (most recent call last)",
      "\u001b[0;32m~/anaconda3/lib/python3.6/site-packages/geopandas/plotting.py\u001b[0m in \u001b[0;36mplot_polygon_collection\u001b[0;34m(ax, geoms, values, color, cmap, vmin, vmax, **kwargs)\u001b[0m\n\u001b[1;32m     84\u001b[0m     \u001b[0;32mtry\u001b[0m\u001b[0;34m:\u001b[0m\u001b[0;34m\u001b[0m\u001b[0m\n\u001b[0;32m---> 85\u001b[0;31m         \u001b[0;32mfrom\u001b[0m \u001b[0mdescartes\u001b[0m\u001b[0;34m.\u001b[0m\u001b[0mpatch\u001b[0m \u001b[0;32mimport\u001b[0m \u001b[0mPolygonPatch\u001b[0m\u001b[0;34m\u001b[0m\u001b[0m\n\u001b[0m\u001b[1;32m     86\u001b[0m     \u001b[0;32mexcept\u001b[0m \u001b[0mImportError\u001b[0m\u001b[0;34m:\u001b[0m\u001b[0;34m\u001b[0m\u001b[0m\n",
      "\u001b[0;31mModuleNotFoundError\u001b[0m: No module named 'descartes'",
      "\nDuring handling of the above exception, another exception occurred:\n",
      "\u001b[0;31mImportError\u001b[0m                               Traceback (most recent call last)",
      "\u001b[0;32m<ipython-input-189-3cbf0b9812c5>\u001b[0m in \u001b[0;36m<module>\u001b[0;34m()\u001b[0m\n\u001b[0;32m----> 1\u001b[0;31m \u001b[0mapi_data\u001b[0m\u001b[0;34m.\u001b[0m\u001b[0mplot\u001b[0m\u001b[0;34m(\u001b[0m\u001b[0mlabel\u001b[0m\u001b[0;34m=\u001b[0m\u001b[0;34m'NAME'\u001b[0m\u001b[0;34m)\u001b[0m\u001b[0;34m\u001b[0m\u001b[0m\n\u001b[0m",
      "\u001b[0;32m~/anaconda3/lib/python3.6/site-packages/geopandas/geodataframe.py\u001b[0m in \u001b[0;36mplot\u001b[0;34m(self, *args, **kwargs)\u001b[0m\n\u001b[1;32m    548\u001b[0m         \u001b[0;32mfrom\u001b[0m \u001b[0mthere\u001b[0m\u001b[0;34m.\u001b[0m\u001b[0;34m\u001b[0m\u001b[0m\n\u001b[1;32m    549\u001b[0m         \"\"\"\n\u001b[0;32m--> 550\u001b[0;31m         \u001b[0;32mreturn\u001b[0m \u001b[0mplot_dataframe\u001b[0m\u001b[0;34m(\u001b[0m\u001b[0mself\u001b[0m\u001b[0;34m,\u001b[0m \u001b[0;34m*\u001b[0m\u001b[0margs\u001b[0m\u001b[0;34m,\u001b[0m \u001b[0;34m**\u001b[0m\u001b[0mkwargs\u001b[0m\u001b[0;34m)\u001b[0m\u001b[0;34m\u001b[0m\u001b[0m\n\u001b[0m\u001b[1;32m    551\u001b[0m \u001b[0;34m\u001b[0m\u001b[0m\n\u001b[1;32m    552\u001b[0m     \u001b[0mplot\u001b[0m\u001b[0;34m.\u001b[0m\u001b[0m__doc__\u001b[0m \u001b[0;34m=\u001b[0m \u001b[0mplot_dataframe\u001b[0m\u001b[0;34m.\u001b[0m\u001b[0m__doc__\u001b[0m\u001b[0;34m\u001b[0m\u001b[0m\n",
      "\u001b[0;32m~/anaconda3/lib/python3.6/site-packages/geopandas/plotting.py\u001b[0m in \u001b[0;36mplot_dataframe\u001b[0;34m(df, column, cmap, color, ax, cax, categorical, legend, scheme, k, vmin, vmax, markersize, figsize, legend_kwds, classification_kwds, **style_kwds)\u001b[0m\n\u001b[1;32m    425\u001b[0m         return plot_series(df.geometry, cmap=cmap, color=color, ax=ax,\n\u001b[1;32m    426\u001b[0m                            \u001b[0mfigsize\u001b[0m\u001b[0;34m=\u001b[0m\u001b[0mfigsize\u001b[0m\u001b[0;34m,\u001b[0m \u001b[0mmarkersize\u001b[0m\u001b[0;34m=\u001b[0m\u001b[0mmarkersize\u001b[0m\u001b[0;34m,\u001b[0m\u001b[0;34m\u001b[0m\u001b[0m\n\u001b[0;32m--> 427\u001b[0;31m                            **style_kwds)\n\u001b[0m\u001b[1;32m    428\u001b[0m \u001b[0;34m\u001b[0m\u001b[0m\n\u001b[1;32m    429\u001b[0m     \u001b[0;31m# To accept pd.Series and np.arrays as column\u001b[0m\u001b[0;34m\u001b[0m\u001b[0;34m\u001b[0m\u001b[0m\n",
      "\u001b[0;32m~/anaconda3/lib/python3.6/site-packages/geopandas/plotting.py\u001b[0m in \u001b[0;36mplot_series\u001b[0;34m(s, cmap, color, ax, figsize, **style_kwds)\u001b[0m\n\u001b[1;32m    295\u001b[0m         \u001b[0mvalues_\u001b[0m \u001b[0;34m=\u001b[0m \u001b[0mvalues\u001b[0m\u001b[0;34m[\u001b[0m\u001b[0mpoly_idx\u001b[0m\u001b[0;34m]\u001b[0m \u001b[0;32mif\u001b[0m \u001b[0mcmap\u001b[0m \u001b[0;32melse\u001b[0m \u001b[0;32mNone\u001b[0m\u001b[0;34m\u001b[0m\u001b[0m\n\u001b[1;32m    296\u001b[0m         plot_polygon_collection(ax, polys, values_, facecolor=facecolor,\n\u001b[0;32m--> 297\u001b[0;31m                                 cmap=cmap, **style_kwds)\n\u001b[0m\u001b[1;32m    298\u001b[0m \u001b[0;34m\u001b[0m\u001b[0m\n\u001b[1;32m    299\u001b[0m     \u001b[0;31m# plot all LineStrings and MultiLineString components in same collection\u001b[0m\u001b[0;34m\u001b[0m\u001b[0;34m\u001b[0m\u001b[0m\n",
      "\u001b[0;32m~/anaconda3/lib/python3.6/site-packages/geopandas/plotting.py\u001b[0m in \u001b[0;36mplot_polygon_collection\u001b[0;34m(ax, geoms, values, color, cmap, vmin, vmax, **kwargs)\u001b[0m\n\u001b[1;32m     85\u001b[0m         \u001b[0;32mfrom\u001b[0m \u001b[0mdescartes\u001b[0m\u001b[0;34m.\u001b[0m\u001b[0mpatch\u001b[0m \u001b[0;32mimport\u001b[0m \u001b[0mPolygonPatch\u001b[0m\u001b[0;34m\u001b[0m\u001b[0m\n\u001b[1;32m     86\u001b[0m     \u001b[0;32mexcept\u001b[0m \u001b[0mImportError\u001b[0m\u001b[0;34m:\u001b[0m\u001b[0;34m\u001b[0m\u001b[0m\n\u001b[0;32m---> 87\u001b[0;31m         raise ImportError(\"The descartes package is required\"\n\u001b[0m\u001b[1;32m     88\u001b[0m                           \" for plotting polygons in geopandas.\")\n\u001b[1;32m     89\u001b[0m     \u001b[0;32mfrom\u001b[0m \u001b[0mmatplotlib\u001b[0m\u001b[0;34m.\u001b[0m\u001b[0mcollections\u001b[0m \u001b[0;32mimport\u001b[0m \u001b[0mPatchCollection\u001b[0m\u001b[0;34m\u001b[0m\u001b[0m\n",
      "\u001b[0;31mImportError\u001b[0m: The descartes package is required for plotting polygons in geopandas."
     ]
    },
    {
     "data": {
      "image/png": "[encoded data removed]",
      "text/plain": [
       "<Figure size 432x288 with 1 Axes>"
      ]
     },
     "metadata": {},
     "output_type": "display_data"
    }
   ],
   "source": [
    "api_data.plot(label='NAME')"
   ]
  },
  {
   "cell_type": "code",
   "execution_count": null,
   "metadata": {},
   "outputs": [],
   "source": [
    "geojson_copy = \"https://opendata.arcgis.com/datasets/d2e0486155144b6d8e11e12469a64b1c_15.geojson\""
   ]
  },
  {
   "cell_type": "markdown",
   "metadata": {},
   "source": [
    "---"
   ]
  },
  {
   "cell_type": "markdown",
   "metadata": {},
   "source": [
    "# END"
   ]
  }
 ],
 "metadata": {
  "kernelspec": {
   "display_name": "Python 3",
   "language": "python",
   "name": "python3"
  },
  "language_info": {
   "codemirror_mode": {
    "name": "ipython",
    "version": 3
   },
   "file_extension": ".py",
   "mimetype": "text/x-python",
   "name": "python",
   "nbconvert_exporter": "python",
   "pygments_lexer": "ipython3",
   "version": "3.6.5"
  }
 },
 "nbformat": 4,
 "nbformat_minor": 2
}
